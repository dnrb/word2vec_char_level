{
  "nbformat": 4,
  "nbformat_minor": 0,
  "metadata": {
    "colab": {
      "name": "Chinese_wiki(smaller).ipynb",
      "version": "0.3.2",
      "provenance": [],
      "collapsed_sections": [],
      "include_colab_link": true
    },
    "kernelspec": {
      "name": "python3",
      "display_name": "Python 3"
    }
  },
  "cells": [
    {
      "cell_type": "markdown",
      "metadata": {
        "id": "view-in-github",
        "colab_type": "text"
      },
      "source": [
        "<a href=\"https://colab.research.google.com/github/dnrb/word2vec_char_level/blob/master/Chinese_wiki(smaller).ipynb\" target=\"_parent\"><img src=\"https://colab.research.google.com/assets/colab-badge.svg\" alt=\"Open In Colab\"/></a>"
      ]
    },
    {
      "cell_type": "code",
      "metadata": {
        "id": "7BjmBO7Kc6p5",
        "colab_type": "code",
        "outputId": "134caa72-0488-4545-9b31-263cd6f83aee",
        "colab": {
          "base_uri": "https://localhost:8080/",
          "height": 207
        }
      },
      "source": [
        "from google.colab import drive\n",
        "drive.mount('/content/gdrive')"
      ],
      "execution_count": 2,
      "outputs": [
        {
          "output_type": "stream",
          "text": [
            "Go to this URL in a browser: https://accounts.google.com/o/oauth2/auth?client_id=947318989803-6bn6qk8qdgf4n4g3pfee6491hc0brc4i.apps.googleusercontent.com&redirect_uri=urn%3Aietf%3Awg%3Aoauth%3A2.0%3Aoob&scope=email%20https%3A%2F%2Fwww.googleapis.com%2Fauth%2Fdocs.test%20https%3A%2F%2Fwww.googleapis.com%2Fauth%2Fdrive%20https%3A%2F%2Fwww.googleapis.com%2Fauth%2Fdrive.photos.readonly%20https%3A%2F%2Fwww.googleapis.com%2Fauth%2Fpeopleapi.readonly&response_type=code\n",
            "\n",
            "Enter your authorization code:\n",
            "··········\n",
            "Mounted at /content/gdrive\n"
          ],
          "name": "stdout"
        }
      ]
    },
    {
      "cell_type": "code",
      "metadata": {
        "id": "YBO_uN9LcpP7",
        "colab_type": "code",
        "outputId": "8a9b928a-bab8-4b9a-88b9-f0b02683a738",
        "colab": {
          "base_uri": "https://localhost:8080/",
          "height": 94
        }
      },
      "source": [
        "cd gdrive/My \\Drive"
      ],
      "execution_count": 3,
      "outputs": [
        {
          "output_type": "stream",
          "text": [
            "/content/gdrive/My Drive\n"
          ],
          "name": "stdout"
        }
      ]
    },
    {
      "cell_type": "code",
      "metadata": {
        "id": "mJUOikYPpOj6",
        "colab_type": "code",
        "outputId": "30f739b4-c215-421b-f82f-3781a8b3d8ae",
        "colab": {
          "base_uri": "https://localhost:8080/",
          "height": 206
        }
      },
      "source": [
        "!ls"
      ],
      "execution_count": 4,
      "outputs": [
        {
          "output_type": "stream",
          "text": [
            "'Colab Notebooks'   tasa_2.txt\t tasa.txt\n",
            " tasa_1.txt\t    tasa_3.txt\t zhwiki-multistream1_processed.txt\n"
          ],
          "name": "stdout"
        }
      ]
    },
    {
      "cell_type": "markdown",
      "metadata": {
        "id": "x37QcKhd7sVb",
        "colab_type": "text"
      },
      "source": [
        "**Chinese Word Segmentation**"
      ]
    },
    {
      "cell_type": "code",
      "metadata": {
        "id": "-AZEPI3NP-7b",
        "colab_type": "code",
        "colab": {}
      },
      "source": [
        "import jieba"
      ],
      "execution_count": 0,
      "outputs": []
    },
    {
      "cell_type": "code",
      "metadata": {
        "id": "mLaSaEEX7r70",
        "colab_type": "code",
        "colab": {}
      },
      "source": [
        "f_read =  open(\"zhwiki-multistream1_processed.txt\", 'r')\n",
        "s1 = f_read.readline()"
      ],
      "execution_count": 0,
      "outputs": []
    },
    {
      "cell_type": "code",
      "metadata": {
        "id": "lZ8v7_5vr15t",
        "colab_type": "code",
        "colab": {
          "base_uri": "https://localhost:8080/",
          "height": 94
        },
        "outputId": "bda41c5d-33cd-4206-f8f2-2723bc60251e"
      },
      "source": [
        "s1"
      ],
      "execution_count": 9,
      "outputs": [
        {
          "output_type": "execute_result",
          "data": {
            "text/plain": [
              "'数学是利用符号语言研究数量、结构、变化以及空间等概念的一门学科，从某种角度看属于形式科学的一种。数学透过抽象化和逻辑推理的使用，由计数、计算、量度和对物体形状及运动的观察而产生。数学家们拓展这些概念，为了公式化新的猜想以及从选定的公理及定义中建立起严谨推导出的定理。基础数学的知识与运用总是个人与团体生活中不可或缺的一环。对数学基本概念的完善，早在古埃及、美索不达米亚及古印度内的古代数学文本便可观见，而在古希腊那里有更为严谨的处理。从那时开始，数学的发展便持续不断地小幅进展，至16世纪的文艺复兴时期，因为新的科学发现和数学革新两者的交互，致使数学的加速发展，直至今日。数学并成为许多国家及地区的教育范畴中的一部分。今日，数学使用在不同的领域中，包括科学、工程、医学、经济学和金融学等。数学对这些领域的应用通常被称为应用数学，有时亦会激起新的数学发现，并导致全新学科的发展，例如物理学的实质性发展中建立的某些理论激发数学家对于某些问题的不同角度的思考。数学家也研究纯数学，就是数学本身的实质性内容，而不以任何实际应用为目标。虽然许多研究以纯数学开始，但其过程中也发现许多应用之处。\\n'"
            ]
          },
          "metadata": {
            "tags": []
          },
          "execution_count": 9
        }
      ]
    },
    {
      "cell_type": "code",
      "metadata": {
        "id": "6W-tnpFvr3Iv",
        "colab_type": "code",
        "colab": {}
      },
      "source": [
        "seg_list = jieba.cut(s1)"
      ],
      "execution_count": 0,
      "outputs": []
    },
    {
      "cell_type": "code",
      "metadata": {
        "id": "k8GBcvGXsF9I",
        "colab_type": "code",
        "colab": {
          "base_uri": "https://localhost:8080/",
          "height": 94
        },
        "outputId": "26123bec-fb4b-424e-ea4d-d982dd040272"
      },
      "source": [
        "type(seg_list)"
      ],
      "execution_count": 31,
      "outputs": [
        {
          "output_type": "execute_result",
          "data": {
            "text/plain": [
              "generator"
            ]
          },
          "metadata": {
            "tags": []
          },
          "execution_count": 31
        }
      ]
    },
    {
      "cell_type": "code",
      "metadata": {
        "id": "CPtlO52MsEgU",
        "colab_type": "code",
        "colab": {
          "base_uri": "https://localhost:8080/",
          "height": 113
        },
        "outputId": "4fd6facc-2cf7-45e9-cece-8a34cc4cbda6"
      },
      "source": [
        "#print(\"Default Mode: \" + \"/ \".join(seg_list))"
      ],
      "execution_count": 32,
      "outputs": [
        {
          "output_type": "stream",
          "text": [
            "Default Mode: 数学/ 是/ 利用/ 符号语言/ 研究/ 数量/ 、/ 结构/ 、/ 变化/ 以及/ 空间/ 等/ 概念/ 的/ 一门/ 学科/ ，/ 从/ 某种/ 角度看/ 属于/ 形式/ 科学/ 的/ 一种/ 。/ 数学/ 透过/ 抽象化/ 和/ 逻辑推理/ 的/ 使用/ ，/ 由/ 计数/ 、/ 计算/ 、/ 量度/ 和/ 对/ 物体/ 形状/ 及/ 运动/ 的/ 观察/ 而/ 产生/ 。/ 数学家/ 们/ 拓展/ 这些/ 概念/ ，/ 为了/ 公式化/ 新/ 的/ 猜想/ 以及/ 从/ 选定/ 的/ 公理/ 及/ 定义/ 中/ 建立/ 起/ 严谨/ 推导/ 出/ 的/ 定理/ 。/ 基础/ 数学/ 的/ 知识/ 与/ 运用/ 总是/ 个人/ 与/ 团体/ 生活/ 中/ 不可或缺/ 的/ 一环/ 。/ 对/ 数学/ 基本概念/ 的/ 完善/ ，/ 早/ 在/ 古埃及/ 、/ 美索不达米亚/ 及/ 古印度/ 内/ 的/ 古代/ 数学/ 文本/ 便/ 可观/ 见/ ，/ 而/ 在/ 古希腊/ 那里/ 有/ 更为/ 严谨/ 的/ 处理/ 。/ 从/ 那时/ 开始/ ，/ 数学/ 的/ 发展/ 便/ 持续/ 不断/ 地/ 小幅/ 进展/ ，/ 至/ 16/ 世纪/ 的/ 文艺复兴/ 时期/ ，/ 因为/ 新/ 的/ 科学/ 发现/ 和/ 数学/ 革新/ 两者/ 的/ 交互/ ，/ 致使/ 数学/ 的/ 加速/ 发展/ ，/ 直至/ 今日/ 。/ 数学/ 并/ 成为/ 许多/ 国家/ 及/ 地区/ 的/ 教育/ 范畴/ 中/ 的/ 一部分/ 。/ 今日/ ，/ 数学/ 使用/ 在/ 不同/ 的/ 领域/ 中/ ，/ 包括/ 科学/ 、/ 工程/ 、/ 医学/ 、/ 经济学/ 和/ 金融学/ 等/ 。/ 数学/ 对/ 这些/ 领域/ 的/ 应用/ 通常/ 被/ 称为/ 应用/ 数学/ ，/ 有时/ 亦/ 会/ 激起/ 新/ 的/ 数学/ 发现/ ，/ 并/ 导致/ 全新/ 学科/ 的/ 发展/ ，/ 例如/ 物理学/ 的/ 实质性/ 发展/ 中/ 建立/ 的/ 某些/ 理论/ 激发/ 数学家/ 对于/ 某些/ 问题/ 的/ 不同/ 角度/ 的/ 思考/ 。/ 数学家/ 也/ 研究/ 纯数学/ ，/ 就是/ 数学/ 本身/ 的/ 实质性/ 内容/ ，/ 而/ 不以/ 任何/ 实际/ 应用/ 为/ 目标/ 。/ 虽然/ 许多/ 研究/ 以/ 纯数学/ 开始/ ，/ 但/ 其/ 过程/ 中/ 也/ 发现/ 许多/ 应用/ 之/ 处/ 。/ \n",
            "\n"
          ],
          "name": "stdout"
        }
      ]
    },
    {
      "cell_type": "code",
      "metadata": {
        "id": "PdaL5AZZsVH_",
        "colab_type": "code",
        "colab": {}
      },
      "source": [
        "temp = str(\" \".join(seg_list))"
      ],
      "execution_count": 0,
      "outputs": []
    },
    {
      "cell_type": "code",
      "metadata": {
        "id": "lQGGFNIZxAl8",
        "colab_type": "code",
        "colab": {
          "base_uri": "https://localhost:8080/",
          "height": 94
        },
        "outputId": "9fc1594e-7410-48dc-f9f6-a272251c05ab"
      },
      "source": [
        "temp"
      ],
      "execution_count": 52,
      "outputs": [
        {
          "output_type": "execute_result",
          "data": {
            "text/plain": [
              "'数学 是 利用 符号语言 研究 数量 、 结构 、 变化 以及 空间 等 概念 的 一门 学科 ， 从 某种 角度看 属于 形式 科学 的 一种 。 数学 透过 抽象化 和 逻辑推理 的 使用 ， 由 计数 、 计算 、 量度 和 对 物体 形状 及 运动 的 观察 而 产生 。 数学家 们 拓展 这些 概念 ， 为了 公式化 新 的 猜想 以及 从 选定 的 公理 及 定义 中 建立 起 严谨 推导 出 的 定理 。 基础 数学 的 知识 与 运用 总是 个人 与 团体 生活 中 不可或缺 的 一环 。 对 数学 基本概念 的 完善 ， 早 在 古埃及 、 美索不达米亚 及 古印度 内 的 古代 数学 文本 便 可观 见 ， 而 在 古希腊 那里 有 更为 严谨 的 处理 。 从 那时 开始 ， 数学 的 发展 便 持续 不断 地 小幅 进展 ， 至 16 世纪 的 文艺复兴 时期 ， 因为 新 的 科学 发现 和 数学 革新 两者 的 交互 ， 致使 数学 的 加速 发展 ， 直至 今日 。 数学 并 成为 许多 国家 及 地区 的 教育 范畴 中 的 一部分 。 今日 ， 数学 使用 在 不同 的 领域 中 ， 包括 科学 、 工程 、 医学 、 经济学 和 金融学 等 。 数学 对 这些 领域 的 应用 通常 被 称为 应用 数学 ， 有时 亦 会 激起 新 的 数学 发现 ， 并 导致 全新 学科 的 发展 ， 例如 物理学 的 实质性 发展 中 建立 的 某些 理论 激发 数学家 对于 某些 问题 的 不同 角度 的 思考 。 数学家 也 研究 纯数学 ， 就是 数学 本身 的 实质性 内容 ， 而 不以 任何 实际 应用 为 目标 。 虽然 许多 研究 以 纯数学 开始 ， 但 其 过程 中 也 发现 许多 应用 之 处 。 \\n'"
            ]
          },
          "metadata": {
            "tags": []
          },
          "execution_count": 52
        }
      ]
    },
    {
      "cell_type": "code",
      "metadata": {
        "id": "P-evYU-UuVOK",
        "colab_type": "code",
        "colab": {
          "base_uri": "https://localhost:8080/",
          "height": 94
        },
        "outputId": "f3f835d2-ca56-4468-f28e-c54009819b5b"
      },
      "source": [
        "len(temp)"
      ],
      "execution_count": 48,
      "outputs": [
        {
          "output_type": "execute_result",
          "data": {
            "text/plain": [
              "784"
            ]
          },
          "metadata": {
            "tags": []
          },
          "execution_count": 48
        }
      ]
    },
    {
      "cell_type": "code",
      "metadata": {
        "id": "r8rTO9DawD3s",
        "colab_type": "code",
        "colab": {
          "base_uri": "https://localhost:8080/",
          "height": 94
        },
        "outputId": "3b3b0dbc-b337-412d-809c-8284c4f82ade"
      },
      "source": [
        "temp[:1]"
      ],
      "execution_count": 51,
      "outputs": [
        {
          "output_type": "execute_result",
          "data": {
            "text/plain": [
              "'数'"
            ]
          },
          "metadata": {
            "tags": []
          },
          "execution_count": 51
        }
      ]
    },
    {
      "cell_type": "code",
      "metadata": {
        "id": "TkcSaXyvxaog",
        "colab_type": "code",
        "colab": {
          "base_uri": "https://localhost:8080/",
          "height": 74
        },
        "outputId": "c4375ae9-29a9-4b4a-de9b-1a53b3c435e3"
      },
      "source": [
        "'数' in temp"
      ],
      "execution_count": 53,
      "outputs": [
        {
          "output_type": "execute_result",
          "data": {
            "text/plain": [
              "True"
            ]
          },
          "metadata": {
            "tags": []
          },
          "execution_count": 53
        }
      ]
    },
    {
      "cell_type": "code",
      "metadata": {
        "id": "VOyJbER-wPcf",
        "colab_type": "code",
        "colab": {}
      },
      "source": [
        ""
      ],
      "execution_count": 0,
      "outputs": []
    }
  ]
}