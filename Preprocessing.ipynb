{
  "nbformat": 4,
  "nbformat_minor": 0,
  "metadata": {
    "colab": {
      "name": "Preprocessing.ipynb",
      "version": "0.3.2",
      "provenance": [],
      "include_colab_link": true
    },
    "language_info": {
      "codemirror_mode": {
        "name": "ipython",
        "version": 3
      },
      "file_extension": ".py",
      "mimetype": "text/x-python",
      "name": "python",
      "nbconvert_exporter": "python",
      "pygments_lexer": "ipython3",
      "version": "3.6.8"
    },
    "kernelspec": {
      "display_name": "Python 3",
      "language": "python",
      "name": "python3"
    }
  },
  "cells": [
    {
      "cell_type": "markdown",
      "metadata": {
        "id": "view-in-github",
        "colab_type": "text"
      },
      "source": [
        "<a href=\"https://colab.research.google.com/github/dnrb/word2vec_char_level/blob/master/Preprocessing.ipynb\" target=\"_parent\"><img src=\"https://colab.research.google.com/assets/colab-badge.svg\" alt=\"Open In Colab\"/></a>"
      ]
    },
    {
      "cell_type": "code",
      "metadata": {
        "id": "AxyBc9jzScTF",
        "colab_type": "code",
        "colab": {},
        "outputId": "0ca8cd51-bbca-4ad8-b9bf-b561b1aa747f"
      },
      "source": [
        "import gzip\n",
        "import json\n",
        "import re\n",
        "from collections import Counter\n",
        "\n",
        "from tqdm import tqdm\n",
        "from opencc import OpenCC\n",
        "import joblib\n",
        "import numpy as np\n",
        "\n",
        "DATAPATH = \"zhwiki-multistream1.json.gz\"\n",
        "TMPPATH = \"temp.txt\"\n",
        "\n",
        "CC = OpenCC('t2s')\n",
        "MIN_FREQ = 500\n",
        "VOC_SIZE = 10000\n",
        "PAD = 0\n",
        "UNK = 1\n",
        "\n",
        "SECTION_BLACKLIST = [\n",
        "    \"相关条目\", \"外部链接\", \"参看\",\n",
        "    \"注释\", \"参考文献\", \"参考书目\",\n",
        "    \"扩展阅读\", \"延伸阅读\", \"外部连结\",\n",
        "    \"相关著作\", \"分类\", \"图片\", \"扩-{展}-阅读\",\n",
        "    \"参考来源\"\n",
        "]\n",
        "\n",
        "\n",
        "def clean_text(text):\n",
        "    text = \" \".join([x for x in text.split(\"\\n\") if len(x) > 50])\n",
        "    text = CC.convert(text)\n",
        "    text = re.sub(r\"'''?\", \"\", text)\n",
        "    text = re.sub(r\"（.*）\", \"\", text)\n",
        "    text = re.sub(r\"\\(.*\\)\", \"\", text)\n",
        "    text = re.sub(r\"\\u200B\", \"\", text)\n",
        "    text = re.sub(r\"\\-\\{.*\\}\\-\", \"\", text)\n",
        "    text = re.sub(r\"《》\", \"\", text)\n",
        "    # text = re.sub(r\"\\-{2,}\", \"\", text)\n",
        "    text = re.sub(r\"link=\\w+\\s\", \" \", text)\n",
        "    text = re.sub(r\"File:.+\\|\", \" \", text)\n",
        "    text = re.sub(r\"\\s+\", \" \", text)\n",
        "    text = re.sub(r\"(?<=[^a-zA-Z0-9/\\-]) (?=[^a-zA-Z0-9/\\-])\", \"\", text)\n",
        "    text = re.sub(r\"(?<=[a-zA-Z0-9/\\-]) (?=[^a-zA-Z0-9/\\-])\", \"\", text)\n",
        "    text = re.sub(r\"(?<=[^a-zA-Z0-9/\\-]) (?=[a-zA-Z0-9/\\-])\", \"\", text)\n",
        "    text = re.sub(r\"\\*\", \" \", text)\n",
        "    text = re.sub(r\" $\", \"\", text)\n",
        "    text = re.sub(r\"^ \", \"\", text)\n",
        "    # Remove english\n",
        "    text = re.sub(\n",
        "        r\"(?<=[^a-zA-Z0-9]\\s)[a-zA-Z\\s\\.\\,\\(\\)0-9\\-\\;]+(?=[\\s。][^a-zA-Z0-9])\", \"\", text)\n",
        "    text = re.sub(\n",
        "        r\"(?<=[^a-zA-Z0-9]\\s)[a-zA-Z\\s\\.\\,\\(\\)0-9\\-\\;]$\", \"\", text)\n",
        "    return text\n",
        "\n",
        "\n",
        "def filter_texts(texts):\n",
        "    ascii_cnt = len([1 for x in texts if ord(x) < 256])\n",
        "    if ascii_cnt / len(texts) > 0.5:\n",
        "        return True\n",
        "    return False\n",
        "\n",
        "\n",
        "def main():\n",
        "    cnt = Counter()\n",
        "    with gzip.open(DATAPATH) as f:\n",
        "        with open(TMPPATH, \"w\") as fw:\n",
        "            for i, line in tqdm(enumerate(f.readlines())):\n",
        "                article = json.loads(line)\n",
        "                if \"年表\" in article[\"title\"] or \"列表\" in article[\"title\"]:\n",
        "                    continue\n",
        "                for title, section in zip(article[\"section_titles\"], article[\"section_texts\"]):\n",
        "                    title = CC.convert(title)\n",
        "                    if title in SECTION_BLACKLIST:\n",
        "                        continue\n",
        "                    section = clean_text(section)\n",
        "                    if len(section) < 200 or filter_texts(section):\n",
        "                        continue\n",
        "                    # print(article[\"title\"])\n",
        "                    # print(section[:100])\n",
        "                    # print(article[\"section_texts\"][0][:100].replace(\"\\n\", \" \"))\n",
        "                    # if i == 1000:\n",
        "                    #     return\n",
        "                    cnt.update(section)\n",
        "                    # fw.write(title + \"===\\n\")\n",
        "                    fw.write(section + \"\\n\")\n",
        "    print(cnt.most_common(100))\n",
        "    joblib.dump(cnt, \"data/freq.pkl\")\n",
        "    mapping = {\n",
        "        char: token + 2 for token, (char, freq) in enumerate(cnt.most_common(VOC_SIZE))\n",
        "        if freq > MIN_FREQ\n",
        "    }\n",
        "    print(\"Vocab:\", len(mapping))\n",
        "    joblib.dump(mapping, \"data/mapping.pkl\")\n",
        "    texts = []\n",
        "    with open(TMPPATH) as f:\n",
        "        for i, section in tqdm(enumerate(f.readlines())):\n",
        "            texts.append(\n",
        "                np.array(list(map(lambda x: mapping.get(x, UNK), section))))\n",
        "            # if i == 10000:\n",
        "            #     break\n",
        "    joblib.dump(np.array(texts), \"data/tokens.pkl\")\n",
        "\n",
        "\n",
        "if __name__ == \"__main__\":\n",
        "    main()"
      ],
      "execution_count": 0,
      "outputs": [
        {
          "output_type": "stream",
          "text": [
            "34148it [04:15, 133.46it/s]"
          ],
          "name": "stderr"
        },
        {
          "output_type": "stream",
          "text": [
            "[('，', 1097077), ('的', 754273), ('。', 586586), ('、', 289893), ('1', 280332), ('在', 222646), ('0', 222558), ('年', 219864), ('国', 217013), ('中', 210171), ('一', 209474), ('为', 209060), ('是', 181384), ('人', 172171), ('有', 168336), ('2', 167365), ('大', 160951), ('9', 151525), ('和', 135552), ('于', 121311), ('以', 121280), ('学', 116482), ('了', 112297), ('不', 108330), ('后', 105364), ('时', 103667), ('会', 101983), ('地', 98187), ('成', 97927), ('上', 90280), ('之', 89145), ('日', 88991), ('个', 85093), ('5', 84742), ('3', 82735), ('月', 81765), ('8', 80372), ('他', 79801), ('出', 79239), ('与', 77617), ('主', 77567), ('发', 77458), ('4', 76186), ('生', 75077), ('行', 74893), ('民', 73512), ('其', 73408), ('而', 73099), ('6', 70812), ('作', 69776), ('到', 69262), ('7', 69128), ('用', 69114), ('家', 66732), ('部', 66510), ('对', 65993), ('法', 65883), ('分', 64404), ('这', 64156), ('多', 64008), ('政', 63971), ('》', 63200), ('《', 63155), ('来', 63023), ('方', 62910), ('公', 60461), ('区', 59569), ('文', 59304), ('及', 59154), ('并', 57979), ('自', 57553), ('“', 57427), ('”', 57407), ('被', 57295), ('同', 56837), ('也', 56747), ('可', 55875), ('军', 55777), ('由', 55265), ('」', 54444), ('「', 54365), ('等', 54210), ('经', 54036), ('子', 54032), (' ', 53280), ('最', 53265), ('要', 53056), ('长', 52762), ('代', 52315), ('开', 51913), ('名', 51738), ('动', 51351), ('斯', 51311), ('本', 50844), ('第', 50502), ('所', 50481), ('因', 49827), ('过', 48635), ('下', 48437), ('高', 48368)]\n"
          ],
          "name": "stdout"
        },
        {
          "output_type": "stream",
          "text": [
            "\n"
          ],
          "name": "stderr"
        },
        {
          "output_type": "error",
          "ename": "FileNotFoundError",
          "evalue": "[Errno 2] No such file or directory: 'data/freq.pkl'",
          "traceback": [
            "\u001b[0;31m---------------------------------------------------------------------------\u001b[0m",
            "\u001b[0;31mFileNotFoundError\u001b[0m                         Traceback (most recent call last)",
            "\u001b[0;32m<ipython-input-6-0e6c4e477ed0>\u001b[0m in \u001b[0;36m<module>\u001b[0;34m\u001b[0m\n\u001b[1;32m    103\u001b[0m \u001b[0;34m\u001b[0m\u001b[0m\n\u001b[1;32m    104\u001b[0m \u001b[0;32mif\u001b[0m \u001b[0m__name__\u001b[0m \u001b[0;34m==\u001b[0m \u001b[0;34m\"__main__\"\u001b[0m\u001b[0;34m:\u001b[0m\u001b[0;34m\u001b[0m\u001b[0;34m\u001b[0m\u001b[0m\n\u001b[0;32m--> 105\u001b[0;31m     \u001b[0mmain\u001b[0m\u001b[0;34m(\u001b[0m\u001b[0;34m)\u001b[0m\u001b[0;34m\u001b[0m\u001b[0;34m\u001b[0m\u001b[0m\n\u001b[0m",
            "\u001b[0;32m<ipython-input-6-0e6c4e477ed0>\u001b[0m in \u001b[0;36mmain\u001b[0;34m()\u001b[0m\n\u001b[1;32m     85\u001b[0m                     \u001b[0mfw\u001b[0m\u001b[0;34m.\u001b[0m\u001b[0mwrite\u001b[0m\u001b[0;34m(\u001b[0m\u001b[0msection\u001b[0m \u001b[0;34m+\u001b[0m \u001b[0;34m\"\\n\"\u001b[0m\u001b[0;34m)\u001b[0m\u001b[0;34m\u001b[0m\u001b[0;34m\u001b[0m\u001b[0m\n\u001b[1;32m     86\u001b[0m     \u001b[0mprint\u001b[0m\u001b[0;34m(\u001b[0m\u001b[0mcnt\u001b[0m\u001b[0;34m.\u001b[0m\u001b[0mmost_common\u001b[0m\u001b[0;34m(\u001b[0m\u001b[0;36m100\u001b[0m\u001b[0;34m)\u001b[0m\u001b[0;34m)\u001b[0m\u001b[0;34m\u001b[0m\u001b[0;34m\u001b[0m\u001b[0m\n\u001b[0;32m---> 87\u001b[0;31m     \u001b[0mjoblib\u001b[0m\u001b[0;34m.\u001b[0m\u001b[0mdump\u001b[0m\u001b[0;34m(\u001b[0m\u001b[0mcnt\u001b[0m\u001b[0;34m,\u001b[0m \u001b[0;34m\"data/freq.pkl\"\u001b[0m\u001b[0;34m)\u001b[0m\u001b[0;34m\u001b[0m\u001b[0;34m\u001b[0m\u001b[0m\n\u001b[0m\u001b[1;32m     88\u001b[0m     mapping = {\n\u001b[1;32m     89\u001b[0m         \u001b[0mchar\u001b[0m\u001b[0;34m:\u001b[0m \u001b[0mtoken\u001b[0m \u001b[0;34m+\u001b[0m \u001b[0;36m2\u001b[0m \u001b[0;32mfor\u001b[0m \u001b[0mtoken\u001b[0m\u001b[0;34m,\u001b[0m \u001b[0;34m(\u001b[0m\u001b[0mchar\u001b[0m\u001b[0;34m,\u001b[0m \u001b[0mfreq\u001b[0m\u001b[0;34m)\u001b[0m \u001b[0;32min\u001b[0m \u001b[0menumerate\u001b[0m\u001b[0;34m(\u001b[0m\u001b[0mcnt\u001b[0m\u001b[0;34m.\u001b[0m\u001b[0mmost_common\u001b[0m\u001b[0;34m(\u001b[0m\u001b[0mVOC_SIZE\u001b[0m\u001b[0;34m)\u001b[0m\u001b[0;34m)\u001b[0m\u001b[0;34m\u001b[0m\u001b[0;34m\u001b[0m\u001b[0m\n",
            "\u001b[0;32m~/anaconda3/lib/python3.6/site-packages/joblib/numpy_pickle.py\u001b[0m in \u001b[0;36mdump\u001b[0;34m(value, filename, compress, protocol, cache_size)\u001b[0m\n\u001b[1;32m    499\u001b[0m             \u001b[0mNumpyPickler\u001b[0m\u001b[0;34m(\u001b[0m\u001b[0mf\u001b[0m\u001b[0;34m,\u001b[0m \u001b[0mprotocol\u001b[0m\u001b[0;34m=\u001b[0m\u001b[0mprotocol\u001b[0m\u001b[0;34m)\u001b[0m\u001b[0;34m.\u001b[0m\u001b[0mdump\u001b[0m\u001b[0;34m(\u001b[0m\u001b[0mvalue\u001b[0m\u001b[0;34m)\u001b[0m\u001b[0;34m\u001b[0m\u001b[0;34m\u001b[0m\u001b[0m\n\u001b[1;32m    500\u001b[0m     \u001b[0;32melif\u001b[0m \u001b[0mis_filename\u001b[0m\u001b[0;34m:\u001b[0m\u001b[0;34m\u001b[0m\u001b[0;34m\u001b[0m\u001b[0m\n\u001b[0;32m--> 501\u001b[0;31m         \u001b[0;32mwith\u001b[0m \u001b[0mopen\u001b[0m\u001b[0;34m(\u001b[0m\u001b[0mfilename\u001b[0m\u001b[0;34m,\u001b[0m \u001b[0;34m'wb'\u001b[0m\u001b[0;34m)\u001b[0m \u001b[0;32mas\u001b[0m \u001b[0mf\u001b[0m\u001b[0;34m:\u001b[0m\u001b[0;34m\u001b[0m\u001b[0;34m\u001b[0m\u001b[0m\n\u001b[0m\u001b[1;32m    502\u001b[0m             \u001b[0mNumpyPickler\u001b[0m\u001b[0;34m(\u001b[0m\u001b[0mf\u001b[0m\u001b[0;34m,\u001b[0m \u001b[0mprotocol\u001b[0m\u001b[0;34m=\u001b[0m\u001b[0mprotocol\u001b[0m\u001b[0;34m)\u001b[0m\u001b[0;34m.\u001b[0m\u001b[0mdump\u001b[0m\u001b[0;34m(\u001b[0m\u001b[0mvalue\u001b[0m\u001b[0;34m)\u001b[0m\u001b[0;34m\u001b[0m\u001b[0;34m\u001b[0m\u001b[0m\n\u001b[1;32m    503\u001b[0m     \u001b[0;32melse\u001b[0m\u001b[0;34m:\u001b[0m\u001b[0;34m\u001b[0m\u001b[0;34m\u001b[0m\u001b[0m\n",
            "\u001b[0;31mFileNotFoundError\u001b[0m: [Errno 2] No such file or directory: 'data/freq.pkl'"
          ]
        }
      ]
    },
    {
      "cell_type": "code",
      "metadata": {
        "id": "LI1i_y_LScTk",
        "colab_type": "code",
        "colab": {},
        "outputId": "b86d480e-e69d-432f-8da8-77abe206e9f1"
      },
      "source": [
        "!ls"
      ],
      "execution_count": 0,
      "outputs": [
        {
          "output_type": "stream",
          "text": [
            "\u001b[1m\u001b[36mApplications\u001b[m\u001b[m\r\n",
            "\u001b[1m\u001b[36mApplications (Parallels)\u001b[m\u001b[m\r\n",
            "\u001b[1m\u001b[36mCalibre Library\u001b[m\u001b[m\r\n",
            "\u001b[1m\u001b[36mCreative Cloud Files\u001b[m\u001b[m\r\n",
            "\u001b[1m\u001b[36mDesktop\u001b[m\u001b[m\r\n",
            "\u001b[1m\u001b[36mDocuments\u001b[m\u001b[m\r\n",
            "\u001b[1m\u001b[36mDownloads\u001b[m\u001b[m\r\n",
            "\u001b[1m\u001b[36mDropbox\u001b[m\u001b[m\r\n",
            "\u001b[1m\u001b[36mGoogle Drive\u001b[m\u001b[m\r\n",
            "\u001b[1m\u001b[36mLibrary\u001b[m\u001b[m\r\n",
            "\u001b[1m\u001b[36mMEGAsync\u001b[m\u001b[m\r\n",
            "\u001b[1m\u001b[36mMEGAsync Downloads\u001b[m\u001b[m\r\n",
            "\u001b[1m\u001b[36mMovies\u001b[m\u001b[m\r\n",
            "\u001b[1m\u001b[36mMusic\u001b[m\u001b[m\r\n",
            "\u001b[1m\u001b[36mParallels\u001b[m\u001b[m\r\n",
            "\u001b[1m\u001b[36mPictures\u001b[m\u001b[m\r\n",
            "\u001b[1m\u001b[36mPublic\u001b[m\u001b[m\r\n",
            "Untitled-Copy1.ipynb\r\n",
            "Untitled.ipynb\r\n",
            "\u001b[1m\u001b[36mVirtualBox VMs\u001b[m\u001b[m\r\n",
            "\u001b[1m\u001b[36manaconda3\u001b[m\u001b[m\r\n",
            "\u001b[1m\u001b[36miCloud Drive (Archive)\u001b[m\u001b[m\r\n",
            "\u001b[1m\u001b[36mnltk_data\u001b[m\u001b[m\r\n",
            "\u001b[1m\u001b[36mrepo_yaoxuhon(old)\u001b[m\u001b[m\r\n",
            "\u001b[31mssdtPRGen.sh\u001b[m\u001b[m\r\n",
            "temp.txt\r\n",
            "\u001b[1m\u001b[36mwebdriver-sh\u001b[m\u001b[m\r\n",
            "\u001b[1m\u001b[36myaoxuhon\u001b[m\u001b[m\r\n",
            "zhwiki-20190401-pages-articles-multistream.xml.bz2\r\n",
            "zhwiki-20190401-pages-articles-multistream1.xml\r\n",
            "zhwiki-20190401-pages-articles-multistream1.xml-p1p162886.bz2\r\n",
            "zhwiki-latest.json.gz\r\n",
            "zhwiki-latest.txt\r\n",
            "zhwiki-latest.txt.zip\r\n",
            "zhwiki-multistream1.json.gz\r\n",
            "zhwiki-multistream1.txt\r\n"
          ],
          "name": "stdout"
        }
      ]
    },
    {
      "cell_type": "code",
      "metadata": {
        "id": "mmpub-l7ScTz",
        "colab_type": "code",
        "colab": {}
      },
      "source": [
        ""
      ],
      "execution_count": 0,
      "outputs": []
    }
  ]
}