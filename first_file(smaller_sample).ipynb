{
  "nbformat": 4,
  "nbformat_minor": 0,
  "metadata": {
    "colab": {
      "name": "first_file(smaller sample).ipynb",
      "version": "0.3.2",
      "provenance": [],
      "collapsed_sections": [],
      "include_colab_link": true
    },
    "kernelspec": {
      "name": "python3",
      "display_name": "Python 3"
    },
    "accelerator": "TPU"
  },
  "cells": [
    {
      "cell_type": "markdown",
      "metadata": {
        "id": "view-in-github",
        "colab_type": "text"
      },
      "source": [
        "<a href=\"https://colab.research.google.com/github/dnrb/word2vec_char_level/blob/master/first_file(smaller_sample).ipynb\" target=\"_parent\"><img src=\"https://colab.research.google.com/assets/colab-badge.svg\" alt=\"Open In Colab\"/></a>"
      ]
    },
    {
      "metadata": {
        "id": "e6V9UZs3ZgVz",
        "colab_type": "code",
        "outputId": "b10d59f7-bc30-450d-e5a2-5fecfe9797af",
        "colab": {
          "base_uri": "https://localhost:8080/",
          "height": 306
        }
      },
      "cell_type": "code",
      "source": [
        "!git clone https://github.com/dnrb/word2vec_char_level.git"
      ],
      "execution_count": 2,
      "outputs": [
        {
          "output_type": "stream",
          "text": [
            "Cloning into 'word2vec_char_level'...\n",
            "remote: Enumerating objects: 47, done.\u001b[K\n",
            "remote: Counting objects: 100% (47/47), done.\u001b[K\n",
            "remote: Compressing objects: 100% (43/43), done.\u001b[K\n",
            "remote: Total 47 (delta 22), reused 3 (delta 0), pack-reused 0\u001b[K\n",
            "Unpacking objects: 100% (47/47), done.\n"
          ],
          "name": "stdout"
        }
      ]
    },
    {
      "metadata": {
        "id": "BYaN6r95aBe9",
        "colab_type": "code",
        "outputId": "30d525d9-4836-4dd8-b923-1dccb987a244",
        "colab": {
          "base_uri": "https://localhost:8080/",
          "height": 146
        }
      },
      "cell_type": "code",
      "source": [
        "!ls"
      ],
      "execution_count": 3,
      "outputs": [
        {
          "output_type": "stream",
          "text": [
            "sample_data  word2vec_char_level\n"
          ],
          "name": "stdout"
        }
      ]
    },
    {
      "metadata": {
        "id": "c79oIA2xaJZs",
        "colab_type": "code",
        "outputId": "7937109a-0128-46e2-9226-0bf69b3a787c",
        "colab": {
          "base_uri": "https://localhost:8080/",
          "height": 74
        }
      },
      "cell_type": "code",
      "source": [
        "cd word2vec_char_level"
      ],
      "execution_count": 4,
      "outputs": [
        {
          "output_type": "stream",
          "text": [
            "/content/word2vec_char_level\n"
          ],
          "name": "stdout"
        }
      ]
    },
    {
      "metadata": {
        "id": "RTMzA1TIaQW4",
        "colab_type": "code",
        "outputId": "565310ef-4567-462c-c4df-62620c4da8f4",
        "colab": {
          "base_uri": "https://localhost:8080/",
          "height": 146
        }
      },
      "cell_type": "code",
      "source": [
        "!ls"
      ],
      "execution_count": 5,
      "outputs": [
        {
          "output_type": "stream",
          "text": [
            " first_file.ipynb\t\t     README.md\t  tasa_2.txt\n",
            "'first_file(smaller_sample).ipynb'   tasa_1.txt   tasa_3.txt\n"
          ],
          "name": "stdout"
        }
      ]
    },
    {
      "metadata": {
        "id": "_5CTTY49bs3B",
        "colab_type": "text"
      },
      "cell_type": "markdown",
      "source": [
        "**Read the input file**"
      ]
    },
    {
      "metadata": {
        "id": "ZeokAW7caRsK",
        "colab_type": "code",
        "outputId": "d42a7c0a-f271-4c73-d5a5-75da8d9ca287",
        "colab": {
          "base_uri": "https://localhost:8080/",
          "height": 74
        }
      },
      "cell_type": "code",
      "source": [
        "file  = 'tasa_1.txt'\n",
        "filehandle = open(file)\n",
        "lines  = filehandle.readlines()\n",
        "len(lines)"
      ],
      "execution_count": 6,
      "outputs": [
        {
          "output_type": "execute_result",
          "data": {
            "text/plain": [
              "250000"
            ]
          },
          "metadata": {
            "tags": []
          },
          "execution_count": 6
        }
      ]
    },
    {
      "metadata": {
        "id": "cDSBuQYLbnId",
        "colab_type": "text"
      },
      "cell_type": "markdown",
      "source": [
        "**Set up the corpus**"
      ]
    },
    {
      "metadata": {
        "id": "p3mAZUAxbkfX",
        "colab_type": "code",
        "outputId": "135d0972-3f3d-4794-a064-73f588ebdbd7",
        "colab": {
          "base_uri": "https://localhost:8080/",
          "height": 94
        }
      },
      "cell_type": "code",
      "source": [
        "corpus = lines[:100]\n",
        "print(corpus)\n",
        "len(corpus)"
      ],
      "execution_count": 7,
      "outputs": [
        {
          "output_type": "stream",
          "text": [
            "['who were the first americans ?\\n', 'many , many years ago , perhaps 35,000 years ago , life was very different than it is today .\\n', 'at that time , the earth was in the grip of the last ice age .\\n', 'there were few people anywhere in the world , and none lived in the americas .\\n', 'people did live in asia , however .\\n', 'and some of them wandered into north america .\\n', 'the firstcomers did not know they had found a new continent .\\n', 'like all ice age peoples , they were hunters .\\n', 'they had to move from place to place in search of their food .\\n', 'sometimes they killed giant elephants called mammoths .\\n', 'some of their spearpoints have been found in several places in north america .\\n', 'scientists say these are about 30,000 years old .\\n', 'besides hunting , men and women of the ice age fished for their food .\\n', 'they also gathered wild fruits , roots , and seeds to eat .\\n', 'farming had not yet been invented .\\n', 'neither had writing .\\n', 'the firstcomers , therefore , did not leave any written records .\\n', 'but they did leave other evidence , which scientists can date and study .\\n', 'all of this evidence is important .\\n', 'each item is like a piece to a giant jigsaw puzzle .\\n', 'we still do not have all of the pieces .\\n', 'perhaps we never shall .\\n', 'but we now have enough to tell a fairly accurate story .\\n', 'it is safe to say that the first americans were asians .\\n', 'but no one is sure just when the first group arrived .\\n', 'it was probably about 35,000 years ago .\\n', 'other groups followed .\\n', 'even so the peopling of america from asia was a slow process .\\n', 'what did the country look like in 1600 ?\\n', 'where you now live was probably a very lonely place in 1600 .\\n', 'parts of north america were then so thick with forests that squirrels could jump from tree to tree for hundreds of miles without landing on the ground .\\n', 'other parts of the land were empty plains and deserts .\\n', 'there were no cities or highways .\\n', 'the only towns were widely scattered indian settlements .\\n', 'in addition , there were a few spanish forts in what is now florida .\\n', 'the best known fort was st. [ augustine . .\\n', 'it was founded in 1565 .\\n', 'the fort was often attacked .\\n', 'it was frequently burned by the british and the french .\\n', 'yet the tiny stronghold managed to survive .\\n', 'it claims the honor of being the oldest european settlement in the united states today .\\n', 'although north america , except for mexico , was sparsely settled wilderness in 1600 , some europeans wanted to live there .\\n', 'and none among them were more eager than the english .\\n', 'why were english men and women willing to risk their lives to come to america ?\\n', 'to answer that question we must examine conditions in england itself .\\n', 'describe the appearance of what is now the united states in 1600 .\\n', 'name the oldest european settlement in the united states today .\\n', 'what made people want to leave england for america ?\\n', 'england was a proud and strong nation in 1600 .\\n', 'its navy was second to none .\\n', 'england had defeated the armada and made peace after a long war with its old enemy , spain .\\n', 'the english enjoyed more liberty and had more rights than anyone else in europe at that time .\\n', 'when 27 year-old roger williams and his wife , mary , arrived in boston in 1631 , their future looked bright .\\n', 'williams already had made quite a reputation for himself both as a lawyer and as an exciting preacher .\\n', 'for that reason he was offered a choice job in the massachusetts bay colony .\\n', 'the puritan leaders invited him to become minister of the most important church in their colony .\\n', \"to everyone 's surprise , williams turned down the job .\\n\", \"he said he could not agree with many of the puritans ' ideas .\\n\", 'and that is when his troubles began .\\n', 'from then on they grew .\\n', \"just four years after they had arrived , williams , his wife , and their newborn child , whom they named `` freeborne , '' were ordered to leave massachusetts .\\n\", 'in the midst of a bitter winter , they and five loyal friends set out for rhode island .\\n', 'why was williams banished ?\\n', 'he had not committed any crime .\\n', 'he had not harmed anyone .\\n', 'on the contrary , he was one of the most friendly and beloved of all the leaders in the colonies .\\n', \"williams , however , did hold ideas which then were considered `` new and dangerous . ''\\n\", 'the puritans warned him to keep those ideas to himself .\\n', 'but he would not .\\n', 'time and again he spoke his mind in town meetings and from the pulpits of churches in the colony .\\n', 'to all who would listen , and many did , he kept saying :\\n', 'people should not be punished for what they believed .\\n', 'if people wanted to give money to the church , that was fine .\\n', 'but they should not be forced to pay taxes to support any church .\\n', 'how did the people react to the new constitution ?\\n', 'when the new constitution was made public , some people said they were against it .\\n', 'they gave two reasons for objecting .\\n', 'first , they said they were afraid of giving any power to government , especially to a national government .\\n', 'they feared that any powerful government would be a bad government .\\n', 'they did not want to be trampled on , as the british government had trampled on them before .\\n', 'second , they pointed out that there was a very important part missing from the new constitution , a bill of rights .\\n', 'such a bill would protect citizens from their government by guaranteeing them rights such as freedom of speech and fair trial in court .\\n', 'without such guarantees , opponents felt there was no sense in supporting the constitution .\\n', 'other americans realized that if the united states was to grow and prosper as a united country , a strong government was needed .\\n', 'many people understood right away that a good constitution had been written .\\n', \"thomas jefferson wrote that the constitution was `` unquestionably the wisest ever yet presented ... . ''\\n\", \"he added , `` the example of changing a constitution by assembling the wise men of the state instead of assembling armies will be worth ... much in the world . ''\\n\", 'for what two reasons did some americans object to the new constitution ?\\n', 'why were many americans in favor of the new constitution ?\\n', 'when and why was the constitution approved ?\\n', 'each state , except rhode island which had refused to send delegates to philadelphia , called a special convention to vote on the new constitution .\\n', 'when nine of the states ratified , or approved , the new plan for government , it was to go into effect .\\n', 'while americans won their freedom from britain and set about forming a new government , the spanish were trying to settle california .\\n', 'present-day california has the largest population of any state in the union .\\n', 'it is known throughout the world for its fertile farmland .\\n', 'but in the 1700s , spain had a hard time finding settlers for california .\\n', 'the government promised settlers cows , sheep , goats , land , clothing , farm tools , and seeds .\\n', 'in addition , families were paid ten dollars a month for the first two years of residence in california .\\n', 'then that was a considerable sum of money .\\n', 'settlers were also excused from paying taxes for five years .\\n']\n"
          ],
          "name": "stdout"
        },
        {
          "output_type": "execute_result",
          "data": {
            "text/plain": [
              "100"
            ]
          },
          "metadata": {
            "tags": []
          },
          "execution_count": 7
        }
      ]
    },
    {
      "metadata": {
        "id": "QIKrn8PDcAeD",
        "colab_type": "code",
        "colab": {}
      },
      "cell_type": "code",
      "source": [
        "corpus = [x[:-2] for x in corpus]"
      ],
      "execution_count": 0,
      "outputs": []
    },
    {
      "metadata": {
        "id": "snsuFqGTdVO4",
        "colab_type": "code",
        "colab": {}
      },
      "cell_type": "code",
      "source": [
        "#print(corpus)"
      ],
      "execution_count": 0,
      "outputs": []
    },
    {
      "metadata": {
        "id": "mZkVDs_IgXaq",
        "colab_type": "text"
      },
      "cell_type": "markdown",
      "source": [
        "**Gather every words in the corpus**"
      ]
    },
    {
      "metadata": {
        "id": "E_c8-FoNeo9Z",
        "colab_type": "code",
        "colab": {}
      },
      "cell_type": "code",
      "source": [
        "import string\n",
        "words = []\n",
        "\n",
        "for sentence in corpus:\n",
        "    \n",
        "    for word in sentence.split(' '):\n",
        "        \n",
        "        if word not in string.punctuation:\n",
        "            words.append(word)\n",
        "            \n"
      ],
      "execution_count": 0,
      "outputs": []
    },
    {
      "metadata": {
        "id": "RrfxCx4AfF_1",
        "colab_type": "code",
        "outputId": "0e4cee87-4e49-422b-e0a6-2dc0e24ac2ae",
        "colab": {
          "base_uri": "https://localhost:8080/",
          "height": 74
        }
      },
      "cell_type": "code",
      "source": [
        "len(words)"
      ],
      "execution_count": 11,
      "outputs": [
        {
          "output_type": "execute_result",
          "data": {
            "text/plain": [
              "1178"
            ]
          },
          "metadata": {
            "tags": []
          },
          "execution_count": 11
        }
      ]
    },
    {
      "metadata": {
        "id": "ZhA_JrEPh2lv",
        "colab_type": "code",
        "outputId": "09322d7f-e12c-43fa-c131-e87604cb3cc5",
        "colab": {
          "base_uri": "https://localhost:8080/",
          "height": 223
        }
      },
      "cell_type": "code",
      "source": [
        "words[:10]"
      ],
      "execution_count": 12,
      "outputs": [
        {
          "output_type": "execute_result",
          "data": {
            "text/plain": [
              "['who',\n",
              " 'were',\n",
              " 'the',\n",
              " 'first',\n",
              " 'americans',\n",
              " 'many',\n",
              " 'many',\n",
              " 'years',\n",
              " 'ago',\n",
              " 'perhaps']"
            ]
          },
          "metadata": {
            "tags": []
          },
          "execution_count": 12
        }
      ]
    },
    {
      "metadata": {
        "id": "DEPbxBRsj7OP",
        "colab_type": "text"
      },
      "cell_type": "markdown",
      "source": [
        "**Convert text to int**"
      ]
    },
    {
      "metadata": {
        "id": "QE906jcGniIO",
        "colab_type": "code",
        "colab": {}
      },
      "cell_type": "code",
      "source": [
        "def str_to_int(lst):\n",
        "    counter = 0\n",
        "    new_list = []\n",
        "    existed = {}\n",
        "    \n",
        "    for string in lst:\n",
        "        if string not in existed:\n",
        "            existed[string] = counter\n",
        "            new_list.append(existed[string])\n",
        "            counter += 1\n",
        "        else:\n",
        "            new_list.append(existed[string])\n",
        "            \n",
        "    return new_list"
      ],
      "execution_count": 0,
      "outputs": []
    },
    {
      "metadata": {
        "id": "m7yRwd5_oGFq",
        "colab_type": "code",
        "colab": {}
      },
      "cell_type": "code",
      "source": [
        "word2int = str_to_int(words)"
      ],
      "execution_count": 0,
      "outputs": []
    },
    {
      "metadata": {
        "id": "_b6VzicdmLaj",
        "colab_type": "code",
        "outputId": "6002b862-6790-4d38-e849-013abbc7ee5f",
        "colab": {
          "base_uri": "https://localhost:8080/",
          "height": 74
        }
      },
      "cell_type": "code",
      "source": [
        "min(word2int)"
      ],
      "execution_count": 15,
      "outputs": [
        {
          "output_type": "execute_result",
          "data": {
            "text/plain": [
              "0"
            ]
          },
          "metadata": {
            "tags": []
          },
          "execution_count": 15
        }
      ]
    },
    {
      "metadata": {
        "id": "D1MCjMpCmObf",
        "colab_type": "code",
        "outputId": "af6d028f-8267-43de-e163-a1600d707cfa",
        "colab": {
          "base_uri": "https://localhost:8080/",
          "height": 74
        }
      },
      "cell_type": "code",
      "source": [
        "max(word2int)"
      ],
      "execution_count": 16,
      "outputs": [
        {
          "output_type": "execute_result",
          "data": {
            "text/plain": [
              "486"
            ]
          },
          "metadata": {
            "tags": []
          },
          "execution_count": 16
        }
      ]
    },
    {
      "metadata": {
        "id": "dJXwKZXXmTGL",
        "colab_type": "text"
      },
      "cell_type": "markdown",
      "source": [
        "**Set up the constants**"
      ]
    },
    {
      "metadata": {
        "id": "hxY46f26mWkz",
        "colab_type": "code",
        "colab": {}
      },
      "cell_type": "code",
      "source": [
        "n_Train = 50\n",
        "n_Voc = max(word2int) + 1\n",
        "n_Corpus = len(word2int)\n",
        "WINDOW_SIZE = 2"
      ],
      "execution_count": 0,
      "outputs": []
    },
    {
      "metadata": {
        "id": "QXJxY79toOti",
        "colab_type": "code",
        "outputId": "3f5bab5e-945e-4fef-9438-8e8a7aab1dec",
        "colab": {
          "base_uri": "https://localhost:8080/",
          "height": 74
        }
      },
      "cell_type": "code",
      "source": [
        "n_Voc"
      ],
      "execution_count": 18,
      "outputs": [
        {
          "output_type": "execute_result",
          "data": {
            "text/plain": [
              "487"
            ]
          },
          "metadata": {
            "tags": []
          },
          "execution_count": 18
        }
      ]
    },
    {
      "metadata": {
        "id": "nCJEVyNMeyGd",
        "colab_type": "text"
      },
      "cell_type": "markdown",
      "source": [
        "**Initialize two arrays**"
      ]
    },
    {
      "metadata": {
        "id": "yJQ8yuhhexKn",
        "colab_type": "code",
        "colab": {}
      },
      "cell_type": "code",
      "source": [
        "import numpy as np\n",
        "\n",
        "def data_generate(n_Train, n_Voc, n_Corpus, WINDOW_SIZE, word2int):\n",
        "\n",
        "    X = np.zeros((n_Train, n_Voc))\n",
        "    Y = np.zeros((n_Train, n_Voc))\n",
        "\n",
        "    for i in range(n_Train):\n",
        "        j = np.random.choice(n_Corpus, 1)[0]\n",
        "\n",
        "        tw = word2int[j]\n",
        "\n",
        "        Y[i][tw] = 1\n",
        "\n",
        "        for k in range(j - WINDOW_SIZE, j + WINDOW_SIZE + 1):\n",
        "            if k != j and k >= 0 and k < n_Corpus:\n",
        "                cw = word2int[k]\n",
        "                X[i][cw] = 1\n",
        "                \n",
        "    return X, Y"
      ],
      "execution_count": 0,
      "outputs": []
    },
    {
      "metadata": {
        "id": "EDEFW_v7oPXE",
        "colab_type": "code",
        "outputId": "1cd93c28-19b2-44f2-db10-328119767a70",
        "colab": {
          "base_uri": "https://localhost:8080/",
          "height": 273
        }
      },
      "cell_type": "code",
      "source": [
        "data_generate(n_Train, n_Voc, n_Corpus, WINDOW_SIZE, word2int)"
      ],
      "execution_count": 20,
      "outputs": [
        {
          "output_type": "execute_result",
          "data": {
            "text/plain": [
              "(array([[0., 0., 0., ..., 0., 0., 0.],\n",
              "        [0., 0., 0., ..., 0., 0., 0.],\n",
              "        [0., 0., 0., ..., 0., 0., 0.],\n",
              "        ...,\n",
              "        [0., 0., 0., ..., 0., 0., 0.],\n",
              "        [0., 0., 0., ..., 0., 0., 0.],\n",
              "        [0., 0., 0., ..., 0., 0., 0.]]), array([[0., 0., 0., ..., 0., 0., 0.],\n",
              "        [0., 0., 0., ..., 0., 0., 0.],\n",
              "        [0., 0., 0., ..., 0., 0., 0.],\n",
              "        ...,\n",
              "        [0., 0., 1., ..., 0., 0., 0.],\n",
              "        [0., 0., 0., ..., 0., 0., 0.],\n",
              "        [0., 0., 0., ..., 0., 0., 0.]]))"
            ]
          },
          "metadata": {
            "tags": []
          },
          "execution_count": 20
        }
      ]
    },
    {
      "metadata": {
        "id": "9SisXlsDQYhs",
        "colab_type": "code",
        "colab": {
          "base_uri": "https://localhost:8080/",
          "height": 137
        },
        "outputId": "8cf136b1-c6b1-463c-f533-3d5ce3b47737"
      },
      "cell_type": "code",
      "source": [
        "import tensorflow as tf\n",
        "\n",
        "ONE_HOT_DIM = n_Voc\n",
        "\n",
        "# # function to convert numbers to one hot vectors\n",
        "# def to_one_hot_encoding(data_point_index):\n",
        "#     one_hot_encoding = np.zeros(ONE_HOT_DIM)\n",
        "#     one_hot_encoding[data_point_index] = 1\n",
        "#     return one_hot_encoding\n",
        "\n",
        "# X = [] # input word\n",
        "# Y = [] # target word\n",
        "\n",
        "# for x, y in zip(df['input'], df['label']):\n",
        "#     X.append(to_one_hot_encoding(word2int[ x ]))\n",
        "#     Y.append(to_one_hot_encoding(word2int[ y ]))\n",
        "\n",
        "# # convert them to numpy arrays\n",
        "# X_train = np.asarray(X)\n",
        "# Y_train = np.asarray(Y)\n",
        "\n",
        "# making placeholders for X_train and Y_train\n",
        "x = tf.placeholder(tf.float64, shape=(None, ONE_HOT_DIM))\n",
        "y_label = tf.placeholder(tf.float64, shape=(None, ONE_HOT_DIM))\n",
        "\n",
        "# word embedding will be 2 dimension for 2d visualization\n",
        "EMBEDDING_DIM = 30\n",
        "\n",
        "# hidden layer: which represents word vector eventually\n",
        "W1 = tf.Variable(tf.random_normal([ONE_HOT_DIM, EMBEDDING_DIM], dtype=tf.float64))\n",
        "b1 = tf.Variable(tf.random_normal([1], dtype=tf.float64)) #bias\n",
        "hidden_layer = tf.add(tf.matmul(x,W1), b1)\n",
        "\n",
        "# output layer\n",
        "W2 = tf.Variable(tf.random_normal([EMBEDDING_DIM, ONE_HOT_DIM], dtype=tf.float64))\n",
        "b2 = tf.Variable(tf.random_normal([1], dtype=tf.float64))\n",
        "prediction = tf.nn.softmax(tf.add( tf.matmul(hidden_layer, W2), b2))\n",
        "\n",
        "# loss function: cross entropy\n",
        "loss = tf.reduce_mean(-tf.reduce_sum(y_label * tf.log(prediction), axis=[1]))\n",
        "\n",
        "# training operation(learning rate)\n",
        "train_op = tf.train.GradientDescentOptimizer(0.05).minimize(loss)"
      ],
      "execution_count": 21,
      "outputs": [
        {
          "output_type": "stream",
          "text": [
            "WARNING:tensorflow:From /usr/local/lib/python3.6/dist-packages/tensorflow/python/framework/op_def_library.py:263: colocate_with (from tensorflow.python.framework.ops) is deprecated and will be removed in a future version.\n",
            "Instructions for updating:\n",
            "Colocations handled automatically by placer.\n",
            "WARNING:tensorflow:From /usr/local/lib/python3.6/dist-packages/tensorflow/python/ops/math_ops.py:3066: to_int32 (from tensorflow.python.ops.math_ops) is deprecated and will be removed in a future version.\n",
            "Instructions for updating:\n",
            "Use tf.cast instead.\n"
          ],
          "name": "stdout"
        }
      ]
    },
    {
      "metadata": {
        "id": "o2cywu4ZkfWC",
        "colab_type": "code",
        "colab": {}
      },
      "cell_type": "code",
      "source": [
        ""
      ],
      "execution_count": 0,
      "outputs": []
    },
    {
      "metadata": {
        "id": "_sUhj1mHiR_G",
        "colab_type": "text"
      },
      "cell_type": "markdown",
      "source": [
        "**Train**"
      ]
    },
    {
      "metadata": {
        "id": "QPC4y_0biUKj",
        "colab_type": "code",
        "outputId": "b3568829-7d6c-4ce2-bcf7-5d4597cadf29",
        "colab": {
          "base_uri": "https://localhost:8080/",
          "height": 1046
        }
      },
      "cell_type": "code",
      "source": [
        "sess = tf.Session()\n",
        "init = tf.global_variables_initializer()\n",
        "sess.run(init) \n",
        "\n",
        "iteration = 30000\n",
        "for i in range(iteration + 1):\n",
        "    X, Y = data_generate(n_Train, n_Voc, n_Corpus, WINDOW_SIZE, word2int)\n",
        "    # input is X_train which is one hot encoded word\n",
        "    # label is Y_train which is one hot encoded neighbor word\n",
        "    sess.run(train_op, feed_dict={x: X, y_label: Y})\n",
        "    if i % 500 == 0:\n",
        "        print('iteration '+str(i)+' loss is : ', sess.run(loss, feed_dict={x: X, y_label: Y}))"
      ],
      "execution_count": 22,
      "outputs": [
        {
          "output_type": "stream",
          "text": [
            "iteration 0 loss is :  32.04296622719695\n",
            "iteration 500 loss is :  17.529217257904314\n",
            "iteration 1000 loss is :  13.14421793735687\n",
            "iteration 1500 loss is :  9.00173844029101\n",
            "iteration 2000 loss is :  5.3566891226686275\n",
            "iteration 2500 loss is :  4.579040489955244\n",
            "iteration 3000 loss is :  3.3528084098859994\n",
            "iteration 3500 loss is :  3.0957734352946975\n",
            "iteration 4000 loss is :  2.2638078804916195\n",
            "iteration 4500 loss is :  1.654495165914948\n",
            "iteration 5000 loss is :  0.9825075280893308\n",
            "iteration 5500 loss is :  0.6527505976141477\n",
            "iteration 6000 loss is :  0.4058998272834026\n",
            "iteration 6500 loss is :  0.44672412023180663\n",
            "iteration 7000 loss is :  0.27424136177257474\n",
            "iteration 7500 loss is :  0.3325916073007408\n",
            "iteration 8000 loss is :  0.16082958499543154\n",
            "iteration 8500 loss is :  0.14536720031923106\n",
            "iteration 9000 loss is :  0.1504642843215238\n",
            "iteration 9500 loss is :  0.16390158600276727\n",
            "iteration 10000 loss is :  0.10508919656155147\n",
            "iteration 10500 loss is :  0.09439408513899872\n",
            "iteration 11000 loss is :  0.09021342065460203\n",
            "iteration 11500 loss is :  0.08243890276507443\n",
            "iteration 12000 loss is :  0.07829805429752487\n",
            "iteration 12500 loss is :  0.06745040548165317\n",
            "iteration 13000 loss is :  0.08035387975110295\n",
            "iteration 13500 loss is :  0.058273683074037734\n",
            "iteration 14000 loss is :  0.04971364860535617\n",
            "iteration 14500 loss is :  0.046400285548136404\n",
            "iteration 15000 loss is :  0.07476597232344423\n",
            "iteration 15500 loss is :  0.06644191309252448\n",
            "iteration 16000 loss is :  0.04437416070426896\n",
            "iteration 16500 loss is :  0.04459862317253694\n",
            "iteration 17000 loss is :  0.03875243610236825\n",
            "iteration 17500 loss is :  0.03832611959270935\n",
            "iteration 18000 loss is :  0.03748002674194201\n",
            "iteration 18500 loss is :  0.03430123034409008\n",
            "iteration 19000 loss is :  0.035427502496594696\n",
            "iteration 19500 loss is :  0.028809462862726648\n",
            "iteration 20000 loss is :  0.02646158408983278\n",
            "iteration 20500 loss is :  0.026890368906243616\n",
            "iteration 21000 loss is :  0.029788084694758587\n",
            "iteration 21500 loss is :  0.025067668875210745\n",
            "iteration 22000 loss is :  0.04423788856464511\n",
            "iteration 22500 loss is :  0.03567231492574786\n",
            "iteration 23000 loss is :  0.03521748067661523\n",
            "iteration 23500 loss is :  0.052613923609306223\n",
            "iteration 24000 loss is :  0.022542514032079762\n",
            "iteration 24500 loss is :  0.04079243332695775\n",
            "iteration 25000 loss is :  0.027640141542859743\n",
            "iteration 25500 loss is :  0.017595883030706222\n",
            "iteration 26000 loss is :  0.024318720281150976\n",
            "iteration 26500 loss is :  0.02651280847066847\n",
            "iteration 27000 loss is :  0.02150994543294701\n",
            "iteration 27500 loss is :  0.021191233310734088\n",
            "iteration 28000 loss is :  0.02109341190502692\n",
            "iteration 28500 loss is :  0.014603101262646951\n",
            "iteration 29000 loss is :  0.03376861644794412\n",
            "iteration 29500 loss is :  0.016335527359765296\n",
            "iteration 30000 loss is :  0.03539107689083604\n"
          ],
          "name": "stdout"
        }
      ]
    },
    {
      "metadata": {
        "id": "lFz_OdtJiuqo",
        "colab_type": "text"
      },
      "cell_type": "markdown",
      "source": [
        "**Visualization**"
      ]
    },
    {
      "metadata": {
        "id": "r1j81pDCit4m",
        "colab_type": "code",
        "outputId": "5dd1bd8c-7827-4494-b80f-8ffb0ecb211c",
        "colab": {
          "base_uri": "https://localhost:8080/",
          "height": 74
        }
      },
      "cell_type": "code",
      "source": [
        "import sklearn\n",
        "import matplotlib.pyplot as plt\n",
        "import matplotlib.cm as cm\n",
        "from sklearn.manifold import TSNE\n",
        "\n",
        "Z = np.array([[0, 0, 0], [0, 1, 1], [1, 0, 1], [1, 1, 1]])\n",
        "Z_embedded = TSNE(n_components=2).fit_transform(Z)\n",
        "Z_embedded.shape"
      ],
      "execution_count": 34,
      "outputs": [
        {
          "output_type": "execute_result",
          "data": {
            "text/plain": [
              "(4, 2)"
            ]
          },
          "metadata": {
            "tags": []
          },
          "execution_count": 34
        }
      ]
    },
    {
      "metadata": {
        "id": "bfzzBYgr-9El",
        "colab_type": "code",
        "colab": {
          "base_uri": "https://localhost:8080/",
          "height": 273
        },
        "outputId": "3a517e44-b1cf-4db4-f727-98346c64cad6"
      },
      "cell_type": "code",
      "source": [
        "vectors = sess.run(W1 + b1)\n",
        "vectors"
      ],
      "execution_count": 43,
      "outputs": [
        {
          "output_type": "execute_result",
          "data": {
            "text/plain": [
              "array([[-1.38003454, -1.93321875, -0.27561164, ..., -0.36862306,\n",
              "         0.24335177, -1.38975367],\n",
              "       [ 0.46834022,  0.29450519,  0.46831316, ..., -0.5889183 ,\n",
              "        -0.44036808,  1.75123852],\n",
              "       [-0.44902424,  0.88180154, -0.81416939, ..., -0.51387079,\n",
              "         0.08762902,  0.80480528],\n",
              "       ...,\n",
              "       [ 1.45529791, -1.54279106, -0.18802773, ..., -0.17372938,\n",
              "         0.30067961, -1.71048505],\n",
              "       [-0.69568113,  0.54735467, -0.26768029, ...,  0.10284616,\n",
              "         1.1131354 , -1.09632491],\n",
              "       [ 0.61138833,  0.90891227,  1.29726984, ...,  1.18915278,\n",
              "        -1.02835036, -0.70701479]])"
            ]
          },
          "metadata": {
            "tags": []
          },
          "execution_count": 43
        }
      ]
    },
    {
      "metadata": {
        "id": "ecEmg_b2Gsfz",
        "colab_type": "code",
        "colab": {
          "base_uri": "https://localhost:8080/",
          "height": 94
        },
        "outputId": "d229e6b2-1aa9-4a17-9017-53216403f525"
      },
      "cell_type": "code",
      "source": [
        "vector_embedded_2d = TSNE().fit_transform(vectors)\n",
        "vector_embedded.shape"
      ],
      "execution_count": 44,
      "outputs": [
        {
          "output_type": "execute_result",
          "data": {
            "text/plain": [
              "(487, 3)"
            ]
          },
          "metadata": {
            "tags": []
          },
          "execution_count": 44
        }
      ]
    },
    {
      "metadata": {
        "id": "qRqvW4jZGnkX",
        "colab_type": "code",
        "colab": {
          "base_uri": "https://localhost:8080/",
          "height": 558
        },
        "outputId": "51d2bdb6-469e-45f1-c0e1-8cb911e38990"
      },
      "cell_type": "code",
      "source": [
        "def tsne_plot_2d(label, embeddings, words=[], a=1):\n",
        "    plt.figure(figsize=(16, 9))\n",
        "    colors = cm.rainbow(np.linspace(0, 1, 1))\n",
        "    x = embeddings[:,0]\n",
        "    y = embeddings[:,1]\n",
        "    plt.scatter(x, y, c=colors, alpha=a, label=label)\n",
        "    for i, word in enumerate(words):\n",
        "        plt.annotate(word, alpha=0.3, xy=(x[i], y[i]), xytext=(5, 2), \n",
        "                     textcoords='offset points', ha='right', va='bottom', size=10)\n",
        "    plt.legend(loc=4)\n",
        "    plt.grid(True)\n",
        "    plt.savefig(\"hhh.png\", format='png', dpi=150, bbox_inches='tight')\n",
        "    plt.show()\n",
        "\n",
        "tsne_plot_2d('Visualizing Embeddings using t-SNE', vector_embedded_2d, a=0.1)"
      ],
      "execution_count": 49,
      "outputs": [
        {
          "output_type": "display_data",
          "data": {
            "image/png": "[encoded data removed]",
            "text/plain": [
              "<Figure size 1152x648 with 1 Axes>"
            ]
          },
          "metadata": {
            "tags": []
          }
        }
      ]
    },
    {
      "metadata": {
        "id": "b5kaSkIEBvui",
        "colab_type": "code",
        "outputId": "0ee8f26f-8e17-456b-8c34-f91d503af577",
        "colab": {
          "base_uri": "https://localhost:8080/",
          "height": 94
        }
      },
      "cell_type": "code",
      "source": [
        "vector_embedded_3d = TSNE(n_components=3).fit_transform(vectors)\n",
        "vector_embedded.shape"
      ],
      "execution_count": 45,
      "outputs": [
        {
          "output_type": "execute_result",
          "data": {
            "text/plain": [
              "(487, 3)"
            ]
          },
          "metadata": {
            "tags": []
          },
          "execution_count": 45
        }
      ]
    },
    {
      "metadata": {
        "id": "Gwol3tZxCXfl",
        "colab_type": "code",
        "colab": {}
      },
      "cell_type": "code",
      "source": [
        "from mpl_toolkits.mplot3d import Axes3D"
      ],
      "execution_count": 0,
      "outputs": []
    },
    {
      "metadata": {
        "id": "Fj4JgotYgIiV",
        "colab_type": "code",
        "colab": {
          "base_uri": "https://localhost:8080/",
          "height": 480
        },
        "outputId": "f37ce57a-f486-4325-98c6-886adeb01763"
      },
      "cell_type": "code",
      "source": [
        "def tsne_plot_3d(title, label, embeddings, a=1):\n",
        "    fig = plt.figure()\n",
        "    ax = Axes3D(fig)\n",
        "    colors = cm.rainbow(np.linspace(0, 1, 1))\n",
        "    plt.scatter(embeddings[:, 0], embeddings[:, 1], embeddings[:, 2], c=colors, alpha=a, label=label)\n",
        "    plt.legend(loc=4)\n",
        "    plt.title(title)\n",
        "    plt.show()\n",
        "\n",
        "\n",
        "tsne_plot_3d('Visualizing Embeddings using t-SNE', 'tasa_1.txt', vector_embedded, a=0.1)"
      ],
      "execution_count": 36,
      "outputs": [
        {
          "output_type": "stream",
          "text": [
            "/usr/local/lib/python3.6/dist-packages/matplotlib/collections.py:874: RuntimeWarning: invalid value encountered in sqrt\n",
            "  scale = np.sqrt(self._sizes) * dpi / 72.0 * self._factor\n"
          ],
          "name": "stderr"
        },
        {
          "output_type": "display_data",
          "data": {
            "image/png": "[encoded data removed]",
            "text/plain": [
              "<Figure size 576x396 with 1 Axes>"
            ]
          },
          "metadata": {
            "tags": []
          }
        }
      ]
    },
    {
      "metadata": {
        "id": "AbStdR81hqG3",
        "colab_type": "text"
      },
      "cell_type": "markdown",
      "source": [
        "**Remove stop words**"
      ]
    },
    {
      "metadata": {
        "id": "Jkxl31icfHhR",
        "colab_type": "code",
        "colab": {}
      },
      "cell_type": "code",
      "source": [
        "# import nltk\n",
        "# nltk.download('stopwords')"
      ],
      "execution_count": 0,
      "outputs": []
    },
    {
      "metadata": {
        "id": "AWwiM2zmhxpE",
        "colab_type": "code",
        "colab": {}
      },
      "cell_type": "code",
      "source": [
        "# stopwords = nltk.corpus.stopwords.words('english')\n",
        "# cleaned_words = []\n",
        "\n",
        "# for word in words:\n",
        "#     if word not in stopwords:\n",
        "#         cleaned_words.append(word)"
      ],
      "execution_count": 0,
      "outputs": []
    }
  ]
}