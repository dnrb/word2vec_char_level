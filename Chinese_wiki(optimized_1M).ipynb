{
 "cells": [
  {
   "cell_type": "markdown",
   "metadata": {},
   "source": [
    "**Set up the library**"
   ]
  },
  {
   "cell_type": "code",
   "execution_count": 1,
   "metadata": {
    "colab": {},
    "colab_type": "code",
    "id": "0MUO6ez8ipZW"
   },
   "outputs": [],
   "source": [
    "import jieba\n",
    "import string\n",
    "import re"
   ]
  },
  {
   "cell_type": "code",
   "execution_count": 2,
   "metadata": {
    "colab": {},
    "colab_type": "code",
    "id": "LUKNuKODisJD"
   },
   "outputs": [],
   "source": [
    "f_read =  open(\"zhwiki-20190401_all.txt\", 'r')\n",
    "all_text_str = f_read.readlines()\n",
    "all_words = []"
   ]
  },
  {
   "cell_type": "markdown",
   "metadata": {
    "colab_type": "text",
    "id": "R-EYbZXGixPS"
   },
   "source": [
    "**Chinese Word Segmentation**"
   ]
  },
  {
   "cell_type": "code",
   "execution_count": 3,
   "metadata": {
    "colab": {
     "base_uri": "https://localhost:8080/",
     "height": 158
    },
    "colab_type": "code",
    "id": "K4rQvTkEi0sk",
    "outputId": "7ba34b89-fef4-4d38-eb96-fbc6635f2bac"
   },
   "outputs": [
    {
     "name": "stderr",
     "output_type": "stream",
     "text": [
      "Building prefix dict from the default dictionary ...\n",
      "Dumping model to file cache /tmp/jieba.cache\n",
      "Loading model cost 0.593 seconds.\n",
      "Prefix dict has been built succesfully.\n"
     ]
    },
    {
     "name": "stdout",
     "output_type": "stream",
     "text": [
      "CPU times: user 9min 18s, sys: 2.66 s, total: 9min 21s\n",
      "Wall time: 9min 21s\n"
     ]
    }
   ],
   "source": [
    "%%time\n",
    "\n",
    "for i in range(len(all_text_str)):\n",
    "    current_line = jieba.lcut(all_text_str[i].strip('\\n'))\n",
    "    all_words += current_line\n",
    "    \n",
    "len(all_words)"
   ]
  },
  {
   "cell_type": "code",
   "execution_count": 4,
   "metadata": {
    "colab": {
     "base_uri": "https://localhost:8080/",
     "height": 74
    },
    "colab_type": "code",
    "id": "CBfLVQaujfVc",
    "outputId": "090f62c9-33e9-4fde-d4b2-0aef4e1d7f8c"
   },
   "outputs": [
    {
     "data": {
      "text/plain": [
       "['谈判', '修改', '现有', '的', '条约', '这不应', '直接', '违背', '其', '精神']"
      ]
     },
     "execution_count": 4,
     "metadata": {},
     "output_type": "execute_result"
    }
   ],
   "source": [
    "all_words[-10:]"
   ]
  },
  {
   "cell_type": "code",
   "execution_count": 5,
   "metadata": {
    "colab": {
     "base_uri": "https://localhost:8080/",
     "height": 94
    },
    "colab_type": "code",
    "id": "PcW9ZWcakApJ",
    "outputId": "1f234174-bc65-40f5-c556-c33b2f35b52c"
   },
   "outputs": [
    {
     "data": {
      "text/plain": [
       "1687575"
      ]
     },
     "execution_count": 5,
     "metadata": {},
     "output_type": "execute_result"
    }
   ],
   "source": [
    "words_set = set(all_words)\n",
    "len(words_set)"
   ]
  },
  {
   "cell_type": "markdown",
   "metadata": {
    "colab_type": "text",
    "id": "rawIJ2mxBHKX"
   },
   "source": [
    "**Get most common words**"
   ]
  },
  {
   "cell_type": "code",
   "execution_count": 6,
   "metadata": {
    "colab": {
     "base_uri": "https://localhost:8080/",
     "height": 94
    },
    "colab_type": "code",
    "id": "N3FM15KGBILg",
    "outputId": "0afe61b7-b463-43fa-f374-4ca1e18575f6"
   },
   "outputs": [
    {
     "data": {
      "text/plain": [
       "1000000"
      ]
     },
     "execution_count": 6,
     "metadata": {},
     "output_type": "execute_result"
    }
   ],
   "source": [
    "import collections\n",
    "\n",
    "word_counters = collections.Counter(all_words)\n",
    "\n",
    "most_common_words = set()\n",
    "\n",
    "for tup in word_counters.most_common(1000000):\n",
    "    most_common_words.add(tup[0])\n",
    "    \n",
    "len(most_common_words)"
   ]
  },
  {
   "cell_type": "markdown",
   "metadata": {
    "colab_type": "text",
    "id": "Ntxq3sMjBnzW"
   },
   "source": [
    "**Change less frequent words to uncommon**"
   ]
  },
  {
   "cell_type": "code",
   "execution_count": 7,
   "metadata": {
    "colab": {
     "base_uri": "https://localhost:8080/",
     "height": 74
    },
    "colab_type": "code",
    "id": "m48XsLqLCGZm",
    "outputId": "8e9d5d99-8079-44aa-b553-203567b1ecdf"
   },
   "outputs": [
    {
     "data": {
      "text/plain": [
       "687575"
      ]
     },
     "execution_count": 7,
     "metadata": {},
     "output_type": "execute_result"
    }
   ],
   "source": [
    "for i in range(len(all_words)):\n",
    "    if all_words[i] not in most_common_words:\n",
    "        all_words[i] = 'uncommon'\n",
    "        \n",
    "all_words.count('uncommon')"
   ]
  },
  {
   "cell_type": "markdown",
   "metadata": {
    "colab_type": "text",
    "id": "MNZqOjtAkd9D"
   },
   "source": [
    "**Convert text to int**"
   ]
  },
  {
   "cell_type": "code",
   "execution_count": 8,
   "metadata": {
    "colab": {},
    "colab_type": "code",
    "id": "QE906jcGniIO"
   },
   "outputs": [],
   "source": [
    "def str_to_int(lst):\n",
    "    counter = 0\n",
    "    new_list = []\n",
    "    existed = {}\n",
    "    \n",
    "    for string in lst:\n",
    "        if string not in existed:\n",
    "            existed[string] = counter\n",
    "            new_list.append(existed[string])\n",
    "            counter += 1\n",
    "        else:\n",
    "            new_list.append(existed[string])\n",
    "            \n",
    "    return new_list"
   ]
  },
  {
   "cell_type": "code",
   "execution_count": 9,
   "metadata": {
    "colab": {},
    "colab_type": "code",
    "id": "m7yRwd5_oGFq"
   },
   "outputs": [],
   "source": [
    "word2int = str_to_int(all_words)"
   ]
  },
  {
   "cell_type": "code",
   "execution_count": 10,
   "metadata": {
    "colab": {
     "base_uri": "https://localhost:8080/",
     "height": 74
    },
    "colab_type": "code",
    "id": "_b6VzicdmLaj",
    "outputId": "4449e870-8096-4e45-928e-faa7e020a8e3"
   },
   "outputs": [
    {
     "data": {
      "text/plain": [
       "0"
      ]
     },
     "execution_count": 10,
     "metadata": {},
     "output_type": "execute_result"
    }
   ],
   "source": [
    "min(word2int)"
   ]
  },
  {
   "cell_type": "code",
   "execution_count": 11,
   "metadata": {
    "colab": {
     "base_uri": "https://localhost:8080/",
     "height": 74
    },
    "colab_type": "code",
    "id": "D1MCjMpCmObf",
    "outputId": "70cac16e-c55f-4240-b5eb-5755e576c5a5"
   },
   "outputs": [
    {
     "data": {
      "text/plain": [
       "1000000"
      ]
     },
     "execution_count": 11,
     "metadata": {},
     "output_type": "execute_result"
    }
   ],
   "source": [
    "max(word2int)"
   ]
  },
  {
   "cell_type": "markdown",
   "metadata": {
    "colab_type": "text",
    "id": "dJXwKZXXmTGL"
   },
   "source": [
    "**Set up the constants**"
   ]
  },
  {
   "cell_type": "code",
   "execution_count": 12,
   "metadata": {
    "colab": {},
    "colab_type": "code",
    "id": "hxY46f26mWkz"
   },
   "outputs": [],
   "source": [
    "n_Train = 50\n",
    "n_Voc = max(word2int) + 1\n",
    "n_Corpus = len(word2int)\n",
    "WINDOW_SIZE = 2"
   ]
  },
  {
   "cell_type": "code",
   "execution_count": 13,
   "metadata": {
    "colab": {
     "base_uri": "https://localhost:8080/",
     "height": 74
    },
    "colab_type": "code",
    "id": "QXJxY79toOti",
    "outputId": "65758ec2-635f-484d-ffef-442b73f1b84c"
   },
   "outputs": [
    {
     "data": {
      "text/plain": [
       "1000001"
      ]
     },
     "execution_count": 13,
     "metadata": {},
     "output_type": "execute_result"
    }
   ],
   "source": [
    "n_Voc"
   ]
  },
  {
   "cell_type": "markdown",
   "metadata": {
    "colab_type": "text",
    "id": "nCJEVyNMeyGd"
   },
   "source": [
    "**Initialize two arrays**"
   ]
  },
  {
   "cell_type": "code",
   "execution_count": 14,
   "metadata": {
    "colab": {},
    "colab_type": "code",
    "id": "yJQ8yuhhexKn"
   },
   "outputs": [],
   "source": [
    "import numpy as np\n",
    "\n",
    "def data_generate(n_Train, n_Voc, n_Corpus, WINDOW_SIZE, word2int):\n",
    "\n",
    "    X = np.zeros((n_Train, n_Voc))\n",
    "    Y = np.zeros((n_Train, n_Voc))\n",
    "\n",
    "    for i in range(n_Train):\n",
    "        j = np.random.choice(n_Corpus, 1)[0]\n",
    "\n",
    "        tw = word2int[j]\n",
    "\n",
    "        Y[i][tw] = 1\n",
    "\n",
    "        for k in range(j - WINDOW_SIZE, j + WINDOW_SIZE + 1):\n",
    "            if k != j and k >= 0 and k < n_Corpus:\n",
    "                cw = word2int[k]\n",
    "                X[i][cw] = 1\n",
    "                \n",
    "    return X, Y"
   ]
  },
  {
   "cell_type": "code",
   "execution_count": 15,
   "metadata": {
    "colab": {
     "base_uri": "https://localhost:8080/",
     "height": 273
    },
    "colab_type": "code",
    "id": "EDEFW_v7oPXE",
    "outputId": "08c7e15b-0c07-4e87-cd0f-6214206f9bea"
   },
   "outputs": [
    {
     "data": {
      "text/plain": [
       "(array([[0., 0., 0., ..., 0., 0., 0.],\n",
       "        [0., 0., 0., ..., 0., 0., 0.],\n",
       "        [0., 0., 0., ..., 0., 0., 0.],\n",
       "        ...,\n",
       "        [0., 1., 0., ..., 0., 0., 0.],\n",
       "        [0., 0., 0., ..., 0., 0., 0.],\n",
       "        [0., 0., 0., ..., 0., 0., 0.]]), array([[0., 0., 0., ..., 0., 0., 0.],\n",
       "        [0., 0., 0., ..., 0., 0., 0.],\n",
       "        [0., 0., 0., ..., 0., 0., 0.],\n",
       "        ...,\n",
       "        [0., 0., 0., ..., 0., 0., 0.],\n",
       "        [0., 0., 0., ..., 0., 0., 0.],\n",
       "        [0., 0., 0., ..., 0., 0., 0.]]))"
      ]
     },
     "execution_count": 15,
     "metadata": {},
     "output_type": "execute_result"
    }
   ],
   "source": [
    "data_generate(n_Train, n_Voc, n_Corpus, WINDOW_SIZE, word2int)"
   ]
  },
  {
   "cell_type": "code",
   "execution_count": 16,
   "metadata": {
    "colab": {
     "base_uri": "https://localhost:8080/",
     "height": 158
    },
    "colab_type": "code",
    "id": "9SisXlsDQYhs",
    "outputId": "b103ef13-ddff-4596-cb54-ffdf6b93b411"
   },
   "outputs": [
    {
     "name": "stdout",
     "output_type": "stream",
     "text": [
      "WARNING:tensorflow:From /home/peter/anaconda3/lib/python3.7/site-packages/tensorflow/python/framework/op_def_library.py:263: colocate_with (from tensorflow.python.framework.ops) is deprecated and will be removed in a future version.\n",
      "Instructions for updating:\n",
      "Colocations handled automatically by placer.\n",
      "WARNING:tensorflow:From /home/peter/anaconda3/lib/python3.7/site-packages/tensorflow/python/ops/math_ops.py:3066: to_int32 (from tensorflow.python.ops.math_ops) is deprecated and will be removed in a future version.\n",
      "Instructions for updating:\n",
      "Use tf.cast instead.\n"
     ]
    }
   ],
   "source": [
    "import tensorflow as tf\n",
    "\n",
    "ONE_HOT_DIM = n_Voc\n",
    "\n",
    "# # function to convert numbers to one hot vectors\n",
    "# def to_one_hot_encoding(data_point_index):\n",
    "#     one_hot_encoding = np.zeros(ONE_HOT_DIM)\n",
    "#     one_hot_encoding[data_point_index] = 1\n",
    "#     return one_hot_encoding\n",
    "\n",
    "# X = [] # input word\n",
    "# Y = [] # target word\n",
    "\n",
    "# for x, y in zip(df['input'], df['label']):\n",
    "#     X.append(to_one_hot_encoding(word2int[ x ]))\n",
    "#     Y.append(to_one_hot_encoding(word2int[ y ]))\n",
    "\n",
    "# # convert them to numpy arrays\n",
    "# X_train = np.asarray(X)\n",
    "# Y_train = np.asarray(Y)\n",
    "\n",
    "# making placeholders for X_train and Y_train\n",
    "x = tf.placeholder(tf.float64, shape=(None, ONE_HOT_DIM))\n",
    "y_label = tf.placeholder(tf.float64, shape=(None, ONE_HOT_DIM))\n",
    "\n",
    "# word embedding will be 2 dimension for 2d visualization\n",
    "EMBEDDING_DIM = 30\n",
    "\n",
    "# hidden layer: which represents word vector eventually\n",
    "W1 = tf.Variable(tf.random_normal([ONE_HOT_DIM, EMBEDDING_DIM], dtype=tf.float64))\n",
    "b1 = tf.Variable(tf.random_normal([1], dtype=tf.float64)) #bias\n",
    "hidden_layer = tf.add(tf.matmul(x,W1), b1)\n",
    "\n",
    "# output layer\n",
    "W2 = tf.Variable(tf.random_normal([EMBEDDING_DIM, ONE_HOT_DIM], dtype=tf.float64))\n",
    "b2 = tf.Variable(tf.random_normal([1], dtype=tf.float64))\n",
    "prediction = tf.nn.softmax(tf.add( tf.matmul(hidden_layer, W2), b2))\n",
    "\n",
    "# loss function: cross entropy\n",
    "loss = tf.reduce_mean(-tf.reduce_sum(y_label * tf.log(prediction), axis=[1]))\n",
    "\n",
    "# training operation(learning rate)\n",
    "train_op = tf.train.GradientDescentOptimizer(0.05).minimize(loss)"
   ]
  },
  {
   "cell_type": "markdown",
   "metadata": {
    "colab_type": "text",
    "id": "_sUhj1mHiR_G"
   },
   "source": [
    "**Train**"
   ]
  },
  {
   "cell_type": "code",
   "execution_count": 17,
   "metadata": {
    "colab": {
     "base_uri": "https://localhost:8080/",
     "height": 783
    },
    "colab_type": "code",
    "id": "QPC4y_0biUKj",
    "outputId": "20c06a28-e757-4a4a-9d71-b3014db9bb91"
   },
   "outputs": [
    {
     "name": "stdout",
     "output_type": "stream",
     "text": [
      "iteration 0 loss is :  51.86691596610763\n",
      "iteration 500 loss is :  49.97241429931691\n",
      "iteration 1000 loss is :  47.666399378094866\n",
      "iteration 1500 loss is :  48.96725584069278\n",
      "iteration 2000 loss is :  43.60268463901727\n",
      "iteration 2500 loss is :  45.62289750878261\n",
      "iteration 3000 loss is :  44.846478017937756\n",
      "iteration 3500 loss is :  42.86972258313058\n",
      "iteration 4000 loss is :  40.70336120461813\n",
      "iteration 4500 loss is :  43.81406950035069\n",
      "iteration 5000 loss is :  42.75522304353021\n",
      "iteration 5500 loss is :  40.35201593363885\n",
      "iteration 6000 loss is :  41.687316811872535\n",
      "iteration 6500 loss is :  38.85005114050509\n",
      "iteration 7000 loss is :  39.00162116204112\n",
      "iteration 7500 loss is :  41.84470323988038\n",
      "iteration 8000 loss is :  33.88606290894088\n",
      "iteration 8500 loss is :  42.168658714458125\n",
      "iteration 9000 loss is :  40.01659987190755\n",
      "iteration 9500 loss is :  41.00725540925132\n",
      "iteration 10000 loss is :  39.801117146318255\n",
      "iteration 10500 loss is :  37.79810159786446\n",
      "iteration 11000 loss is :  39.3323255669626\n",
      "iteration 11500 loss is :  39.553184141284255\n",
      "iteration 12000 loss is :  37.332216382417656\n",
      "iteration 12500 loss is :  39.21360506612842\n",
      "iteration 13000 loss is :  35.85316101022317\n",
      "iteration 13500 loss is :  39.90518257159042\n",
      "iteration 14000 loss is :  34.71746470754565\n",
      "iteration 14500 loss is :  37.76507741658975\n",
      "iteration 15000 loss is :  34.63362087200834\n",
      "iteration 15500 loss is :  34.010463177054156\n",
      "iteration 16000 loss is :  32.13233362119993\n",
      "iteration 16500 loss is :  39.78882135911231\n",
      "iteration 17000 loss is :  30.991828711361933\n",
      "iteration 17500 loss is :  36.72369642535809\n",
      "iteration 18000 loss is :  35.12095842293084\n",
      "iteration 18500 loss is :  36.23279578114373\n",
      "iteration 19000 loss is :  35.79517944893066\n",
      "iteration 19500 loss is :  36.75706421601652\n",
      "iteration 20000 loss is :  30.995386546514975\n",
      "CPU times: user 2h 10min 11s, sys: 1h 43min 8s, total: 3h 53min 20s\n",
      "Wall time: 4h 21min 20s\n"
     ]
    }
   ],
   "source": [
    "%%time\n",
    "\n",
    "sess = tf.Session()\n",
    "init = tf.global_variables_initializer()\n",
    "sess.run(init) \n",
    "\n",
    "iteration = 20000\n",
    "for i in range(iteration + 1):\n",
    "    X, Y = data_generate(n_Train, n_Voc, n_Corpus, WINDOW_SIZE, word2int)\n",
    "    # input is X_train which is one hot encoded word\n",
    "    # label is Y_train which is one hot encoded neighbor word\n",
    "    sess.run(train_op, feed_dict={x: X, y_label: Y})\n",
    "    if i % 500 == 0:\n",
    "        print('iteration '+str(i)+' loss is : ', sess.run(loss, feed_dict={x: X, y_label: Y}))"
   ]
  },
  {
   "cell_type": "markdown",
   "metadata": {
    "colab_type": "text",
    "id": "lFz_OdtJiuqo"
   },
   "source": [
    "**Visualization**"
   ]
  },
  {
   "cell_type": "code",
   "execution_count": 18,
   "metadata": {
    "colab": {
     "base_uri": "https://localhost:8080/",
     "height": 74
    },
    "colab_type": "code",
    "id": "r1j81pDCit4m",
    "outputId": "cc5f2a3d-a119-470c-9c40-c2f05ad5c1c9"
   },
   "outputs": [
    {
     "data": {
      "text/plain": [
       "(4, 2)"
      ]
     },
     "execution_count": 18,
     "metadata": {},
     "output_type": "execute_result"
    }
   ],
   "source": [
    "import sklearn\n",
    "import matplotlib.pyplot as plt\n",
    "import matplotlib.cm as cm\n",
    "from sklearn.manifold import TSNE\n",
    "\n",
    "Z = np.array([[0, 0, 0], [0, 1, 1], [1, 0, 1], [1, 1, 1]])\n",
    "Z_embedded = TSNE(n_components=2).fit_transform(Z)\n",
    "Z_embedded.shape"
   ]
  },
  {
   "cell_type": "code",
   "execution_count": 19,
   "metadata": {
    "colab": {
     "base_uri": "https://localhost:8080/",
     "height": 273
    },
    "colab_type": "code",
    "id": "bfzzBYgr-9El",
    "outputId": "26e2f633-3708-421a-91f8-4f12a6242e7c"
   },
   "outputs": [
    {
     "data": {
      "text/plain": [
       "array([[-1.59156672, -0.57026222, -0.69728516, ..., -0.62832601,\n",
       "        -0.31088168, -1.35810445],\n",
       "       [-0.63528738, -0.66813511, -0.6124754 , ..., -0.57947239,\n",
       "        -0.58757997, -0.64819941],\n",
       "       [-1.09588446, -1.36926045, -0.44086647, ..., -1.29533656,\n",
       "        -1.16729813, -1.18687859],\n",
       "       ...,\n",
       "       [-0.68109982, -1.9117866 ,  0.75411158, ..., -0.01693344,\n",
       "        -0.14862241,  0.02020211],\n",
       "       [-0.88872772,  0.27664483, -0.46467466, ..., -0.76794293,\n",
       "         0.62109894, -2.96886936],\n",
       "       [-0.98949307,  0.33704659,  1.30515209, ...,  0.64238983,\n",
       "        -2.31984718, -1.4030897 ]])"
      ]
     },
     "execution_count": 19,
     "metadata": {},
     "output_type": "execute_result"
    }
   ],
   "source": [
    "vectors = sess.run(W1 + b1)\n",
    "vectors"
   ]
  },
  {
   "cell_type": "code",
   "execution_count": 0,
   "metadata": {
    "colab": {},
    "colab_type": "code",
    "id": "ecEmg_b2Gsfz"
   },
   "outputs": [],
   "source": [
    "vector_embedded_2d = TSNE(perplexity=100).fit_transform(vectors)\n",
    "vector_embedded_2d.shape"
   ]
  },
  {
   "cell_type": "code",
   "execution_count": 0,
   "metadata": {
    "colab": {},
    "colab_type": "code",
    "id": "K9-p5RdskEKx"
   },
   "outputs": [],
   "source": [
    "len(words)"
   ]
  },
  {
   "cell_type": "code",
   "execution_count": 0,
   "metadata": {
    "colab": {},
    "colab_type": "code",
    "id": "qRqvW4jZGnkX"
   },
   "outputs": [],
   "source": [
    "def tsne_plot_2d(label, embeddings, words=[], a=1):\n",
    "    plt.figure(figsize=(16, 9))\n",
    "    colors = cm.rainbow(np.linspace(0, 1, 1))\n",
    "    x = embeddings[:,0]\n",
    "    y = embeddings[:,1]\n",
    "    plt.scatter(x, y, c=colors, alpha=a, label=label)\n",
    "    for i, word in enumerate(words):\n",
    "        plt.annotate(word, alpha=0.3, xy=(x[i], y[i]), xytext=(5, 2), \n",
    "                     textcoords='offset points', ha='right', va='bottom', size=10)\n",
    "    plt.legend(loc=4)\n",
    "    plt.grid(True)\n",
    "    plt.savefig(\"hhh.png\", format='png', dpi=150, bbox_inches='tight')\n",
    "    plt.show()\n",
    "\n",
    "tsne_plot_2d('Visualizing Embeddings using t-SNE', vector_embedded_2d, word_set, a=0.1)"
   ]
  },
  {
   "cell_type": "code",
   "execution_count": 0,
   "metadata": {
    "colab": {},
    "colab_type": "code",
    "id": "b5kaSkIEBvui"
   },
   "outputs": [],
   "source": [
    "vector_embedded_3d = TSNE(n_components=3).fit_transform(vectors)\n",
    "vector_embedded_3d.shape"
   ]
  },
  {
   "cell_type": "code",
   "execution_count": 0,
   "metadata": {
    "colab": {},
    "colab_type": "code",
    "id": "Gwol3tZxCXfl"
   },
   "outputs": [],
   "source": [
    "from mpl_toolkits.mplot3d import Axes3D"
   ]
  },
  {
   "cell_type": "code",
   "execution_count": 0,
   "metadata": {
    "colab": {},
    "colab_type": "code",
    "id": "Fj4JgotYgIiV"
   },
   "outputs": [],
   "source": [
    "def tsne_plot_3d(title, label, embeddings, a=1):\n",
    "    fig = plt.figure()\n",
    "    ax = Axes3D(fig)\n",
    "    colors = cm.rainbow(np.linspace(0, 1, 1))\n",
    "    plt.scatter(embeddings[:, 0], embeddings[:, 1], embeddings[:, 2], c=colors, alpha=a, label=label)\n",
    "    plt.legend(loc=4)\n",
    "    plt.title(title)\n",
    "    plt.show()\n",
    "\n",
    "\n",
    "tsne_plot_3d('Visualizing Embeddings using t-SNE', 'tasa_1.txt', vector_embedded_3d, a=0.1)"
   ]
  },
  {
   "cell_type": "markdown",
   "metadata": {
    "colab_type": "text",
    "id": "AbStdR81hqG3"
   },
   "source": [
    "**Remove stop words**"
   ]
  },
  {
   "cell_type": "code",
   "execution_count": 0,
   "metadata": {
    "colab": {},
    "colab_type": "code",
    "id": "Jkxl31icfHhR"
   },
   "outputs": [],
   "source": [
    "# import nltk\n",
    "# nltk.download('stopwords')"
   ]
  },
  {
   "cell_type": "code",
   "execution_count": 0,
   "metadata": {
    "colab": {},
    "colab_type": "code",
    "id": "AWwiM2zmhxpE"
   },
   "outputs": [],
   "source": [
    "# stopwords = nltk.corpus.stopwords.words('english')\n",
    "# cleaned_words = []\n",
    "\n",
    "# for word in words:\n",
    "#     if word not in stopwords:\n",
    "#         cleaned_words.append(word)"
   ]
  }
 ],
 "metadata": {
  "accelerator": "TPU",
  "colab": {
   "collapsed_sections": [],
   "name": "Chinese_wiki(smaller_optimized).ipynb",
   "provenance": [],
   "version": "0.3.2"
  },
  "kernelspec": {
   "display_name": "Python 3",
   "language": "python",
   "name": "python3"
  },
  "language_info": {
   "codemirror_mode": {
    "name": "ipython",
    "version": 3
   },
   "file_extension": ".py",
   "mimetype": "text/x-python",
   "name": "python",
   "nbconvert_exporter": "python",
   "pygments_lexer": "ipython3",
   "version": "3.7.3"
  }
 },
 "nbformat": 4,
 "nbformat_minor": 1
}
