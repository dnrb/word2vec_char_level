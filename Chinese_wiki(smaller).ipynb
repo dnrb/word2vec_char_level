{
  "nbformat": 4,
  "nbformat_minor": 0,
  "metadata": {
    "colab": {
      "name": "Chinese_wiki(smaller).ipynb",
      "version": "0.3.2",
      "provenance": [],
      "collapsed_sections": [],
      "include_colab_link": true
    },
    "kernelspec": {
      "name": "python3",
      "display_name": "Python 3"
    }
  },
  "cells": [
    {
      "cell_type": "markdown",
      "metadata": {
        "id": "view-in-github",
        "colab_type": "text"
      },
      "source": [
        "<a href=\"https://colab.research.google.com/github/dnrb/word2vec_char_level/blob/master/Chinese_wiki(smaller).ipynb\" target=\"_parent\"><img src=\"https://colab.research.google.com/assets/colab-badge.svg\" alt=\"Open In Colab\"/></a>"
      ]
    },
    {
      "cell_type": "code",
      "metadata": {
        "id": "7BjmBO7Kc6p5",
        "colab_type": "code",
        "outputId": "144abedd-1d10-4710-8ad8-0bc83a31969d",
        "colab": {
          "base_uri": "https://localhost:8080/",
          "height": 34
        }
      },
      "source": [
        "from google.colab import drive\n",
        "drive.mount('/content/gdrive')"
      ],
      "execution_count": 10,
      "outputs": [
        {
          "output_type": "stream",
          "text": [
            "Drive already mounted at /content/gdrive; to attempt to forcibly remount, call drive.mount(\"/content/gdrive\", force_remount=True).\n"
          ],
          "name": "stdout"
        }
      ]
    },
    {
      "cell_type": "code",
      "metadata": {
        "id": "YBO_uN9LcpP7",
        "colab_type": "code",
        "outputId": "e5af6a80-ff31-4e26-e632-40c51f248a37",
        "colab": {
          "base_uri": "https://localhost:8080/",
          "height": 51
        }
      },
      "source": [
        "cd gdrive/My \\Drive"
      ],
      "execution_count": 11,
      "outputs": [
        {
          "output_type": "stream",
          "text": [
            "[Errno 2] No such file or directory: 'gdrive/My Drive'\n",
            "/content/gdrive/My Drive\n"
          ],
          "name": "stdout"
        }
      ]
    },
    {
      "cell_type": "code",
      "metadata": {
        "id": "mJUOikYPpOj6",
        "colab_type": "code",
        "outputId": "2ebd87c1-f62b-43c8-e8dc-b2c142802364",
        "colab": {
          "base_uri": "https://localhost:8080/",
          "height": 136
        }
      },
      "source": [
        "!ls"
      ],
      "execution_count": 12,
      "outputs": [
        {
          "output_type": "stream",
          "text": [
            "'Colab Notebooks'      temp.txt\n",
            " Preprocessing.ipynb   Untitled-Copy1.py\n",
            " tasa_1.txt\t       zhwiki-20190401_all.txt\n",
            " tasa_2.txt\t       zhwiki-20190401.json.gz\n",
            " tasa_3.txt\t       zhwiki-20190401_partial.txt\n",
            " tasa.txt\t       zhwiki-multistream1_processed.txt\n",
            " temp2.txt\n"
          ],
          "name": "stdout"
        }
      ]
    },
    {
      "cell_type": "markdown",
      "metadata": {
        "id": "x37QcKhd7sVb",
        "colab_type": "text"
      },
      "source": [
        "**Chinese Word Segmentation**"
      ]
    },
    {
      "cell_type": "code",
      "metadata": {
        "id": "-AZEPI3NP-7b",
        "colab_type": "code",
        "colab": {}
      },
      "source": [
        "import jieba\n",
        "import string\n",
        "import re"
      ],
      "execution_count": 0,
      "outputs": []
    },
    {
      "cell_type": "code",
      "metadata": {
        "id": "mLaSaEEX7r70",
        "colab_type": "code",
        "colab": {}
      },
      "source": [
        "f_read =  open(\"zhwiki-20190401_partial.txt\", 'r')\n",
        "s1 = f_read.readlines()"
      ],
      "execution_count": 0,
      "outputs": []
    },
    {
      "cell_type": "code",
      "metadata": {
        "id": "lZ8v7_5vr15t",
        "colab_type": "code",
        "outputId": "f21f6ce0-690a-4b29-85d2-3462939bdfe6",
        "colab": {
          "base_uri": "https://localhost:8080/",
          "height": 64
        }
      },
      "source": [
        "s1[0]"
      ],
      "execution_count": 17,
      "outputs": [
        {
          "output_type": "execute_result",
          "data": {
            "text/plain": [
              "'数学是利用符号语言研究数量结构变化以及空间等概念的一门学科从某种角度看属于形式科学的一种数学透过抽象化和逻辑推理的使用由计数计算量度和对物体形状及运动的观察而产生数学家们拓展这些概念为了公式化新的猜想以及从选定的公理及定义中建立起严谨推导出的定理基础数学的知识与运用总是个人与团体生活中不可或缺的一环对数学基本概念的完善早在古埃及美索不达米亚及古印度内的古代数学文本便可观见而在古希腊那里有更为严谨的处理从那时开始数学的发展便持续不断地小幅进展至16世纪的文艺复兴时期因为新的科学发现和数学革新两者的交互致使数学的加速发展直至今日数学并成为许多国家及地区的教育范畴中的一部分今日数学使用在不同的领域中包括科学工程医学经济学和金融学等数学对这些领域的应用通常被称为应用数学有时亦会激起新的数学发现并导致全新学科的发展例如物理学的实质性发展中建立的某些理论激发数学家对于某些问题的不同角度的思考数学家也研究纯数学就是数学本身的实质性内容而不以任何实际应用为目标虽然许多研究以纯数学开始但其过程中也发现许多应用之处\\n'"
            ]
          },
          "metadata": {
            "tags": []
          },
          "execution_count": 17
        }
      ]
    },
    {
      "cell_type": "code",
      "metadata": {
        "id": "QKxSWOpmQuiz",
        "colab_type": "code",
        "outputId": "8a61c6ce-1b04-4846-c306-4018f7630876",
        "colab": {
          "base_uri": "https://localhost:8080/",
          "height": 4352
        }
      },
      "source": [
        "lst1 = jieba.lcut(s1[0][:-1])\n",
        "lst1"
      ],
      "execution_count": 22,
      "outputs": [
        {
          "output_type": "execute_result",
          "data": {
            "text/plain": [
              "['数学',\n",
              " '是',\n",
              " '利用',\n",
              " '符号语言',\n",
              " '研究',\n",
              " '数量',\n",
              " '结构',\n",
              " '变化',\n",
              " '以及',\n",
              " '空间',\n",
              " '等',\n",
              " '概念',\n",
              " '的',\n",
              " '一门',\n",
              " '学科',\n",
              " '从',\n",
              " '某种',\n",
              " '角度看',\n",
              " '属于',\n",
              " '形式',\n",
              " '科学',\n",
              " '的',\n",
              " '一种',\n",
              " '数学',\n",
              " '透过',\n",
              " '抽象化',\n",
              " '和',\n",
              " '逻辑推理',\n",
              " '的',\n",
              " '使用',\n",
              " '由',\n",
              " '计数',\n",
              " '计算',\n",
              " '量度',\n",
              " '和',\n",
              " '对',\n",
              " '物体',\n",
              " '形状',\n",
              " '及',\n",
              " '运动',\n",
              " '的',\n",
              " '观察',\n",
              " '而',\n",
              " '产生',\n",
              " '数学家',\n",
              " '们',\n",
              " '拓展',\n",
              " '这些',\n",
              " '概念',\n",
              " '为了',\n",
              " '公式化',\n",
              " '新',\n",
              " '的',\n",
              " '猜想',\n",
              " '以及',\n",
              " '从',\n",
              " '选定',\n",
              " '的',\n",
              " '公理',\n",
              " '及',\n",
              " '定义',\n",
              " '中',\n",
              " '建立',\n",
              " '起',\n",
              " '严谨',\n",
              " '推导',\n",
              " '出',\n",
              " '的',\n",
              " '定理',\n",
              " '基础',\n",
              " '数学',\n",
              " '的',\n",
              " '知识',\n",
              " '与',\n",
              " '运用',\n",
              " '总是',\n",
              " '个人',\n",
              " '与',\n",
              " '团体',\n",
              " '生活',\n",
              " '中',\n",
              " '不可或缺',\n",
              " '的',\n",
              " '一环',\n",
              " '对',\n",
              " '数学',\n",
              " '基本概念',\n",
              " '的',\n",
              " '完善',\n",
              " '早',\n",
              " '在',\n",
              " '古埃及',\n",
              " '美索不达米亚',\n",
              " '及',\n",
              " '古印度',\n",
              " '内',\n",
              " '的',\n",
              " '古代',\n",
              " '数学',\n",
              " '文本',\n",
              " '便',\n",
              " '可观',\n",
              " '见',\n",
              " '而',\n",
              " '在',\n",
              " '古希腊',\n",
              " '那里',\n",
              " '有',\n",
              " '更为',\n",
              " '严谨',\n",
              " '的',\n",
              " '处理',\n",
              " '从',\n",
              " '那时',\n",
              " '开始',\n",
              " '数学',\n",
              " '的',\n",
              " '发展',\n",
              " '便',\n",
              " '持续',\n",
              " '不断',\n",
              " '地',\n",
              " '小幅',\n",
              " '进展',\n",
              " '至',\n",
              " '16',\n",
              " '世纪',\n",
              " '的',\n",
              " '文艺复兴',\n",
              " '时期',\n",
              " '因为',\n",
              " '新',\n",
              " '的',\n",
              " '科学',\n",
              " '发现',\n",
              " '和',\n",
              " '数学',\n",
              " '革新',\n",
              " '两者',\n",
              " '的',\n",
              " '交互',\n",
              " '致使',\n",
              " '数学',\n",
              " '的',\n",
              " '加速',\n",
              " '发展',\n",
              " '直至',\n",
              " '今日',\n",
              " '数学',\n",
              " '并',\n",
              " '成为',\n",
              " '许多',\n",
              " '国家',\n",
              " '及',\n",
              " '地区',\n",
              " '的',\n",
              " '教育',\n",
              " '范畴',\n",
              " '中',\n",
              " '的',\n",
              " '一部分',\n",
              " '今日',\n",
              " '数学',\n",
              " '使用',\n",
              " '在',\n",
              " '不同',\n",
              " '的',\n",
              " '领域',\n",
              " '中',\n",
              " '包括',\n",
              " '科学',\n",
              " '工程',\n",
              " '医学',\n",
              " '经济学',\n",
              " '和',\n",
              " '金融学',\n",
              " '等',\n",
              " '数学',\n",
              " '对',\n",
              " '这些',\n",
              " '领域',\n",
              " '的',\n",
              " '应用',\n",
              " '通常',\n",
              " '被',\n",
              " '称为',\n",
              " '应用',\n",
              " '数学',\n",
              " '有时',\n",
              " '亦',\n",
              " '会',\n",
              " '激起',\n",
              " '新',\n",
              " '的',\n",
              " '数学',\n",
              " '发现',\n",
              " '并',\n",
              " '导致',\n",
              " '全新',\n",
              " '学科',\n",
              " '的',\n",
              " '发展',\n",
              " '例如',\n",
              " '物理学',\n",
              " '的',\n",
              " '实质性',\n",
              " '发展',\n",
              " '中',\n",
              " '建立',\n",
              " '的',\n",
              " '某些',\n",
              " '理论',\n",
              " '激发',\n",
              " '数学家',\n",
              " '对于',\n",
              " '某些',\n",
              " '问题',\n",
              " '的',\n",
              " '不同',\n",
              " '角度',\n",
              " '的',\n",
              " '思考',\n",
              " '数学家',\n",
              " '也',\n",
              " '研究',\n",
              " '纯数学',\n",
              " '就是',\n",
              " '数学',\n",
              " '本身',\n",
              " '的',\n",
              " '实质性',\n",
              " '内容',\n",
              " '而',\n",
              " '不以',\n",
              " '任何',\n",
              " '实际',\n",
              " '应用',\n",
              " '为',\n",
              " '目标',\n",
              " '虽然',\n",
              " '许多',\n",
              " '研究',\n",
              " '以',\n",
              " '纯数学',\n",
              " '开始',\n",
              " '但',\n",
              " '其',\n",
              " '过程',\n",
              " '中',\n",
              " '也',\n",
              " '发现',\n",
              " '许多',\n",
              " '应用',\n",
              " '之',\n",
              " '处']"
            ]
          },
          "metadata": {
            "tags": []
          },
          "execution_count": 22
        }
      ]
    },
    {
      "cell_type": "code",
      "metadata": {
        "id": "FRKDvJOKSk-z",
        "colab_type": "code",
        "outputId": "cc26c1e9-9464-49a7-c8a8-c1f31f33ad98",
        "colab": {
          "base_uri": "https://localhost:8080/",
          "height": 34
        }
      },
      "source": [
        "len(lst1)"
      ],
      "execution_count": 23,
      "outputs": [
        {
          "output_type": "execute_result",
          "data": {
            "text/plain": [
              "255"
            ]
          },
          "metadata": {
            "tags": []
          },
          "execution_count": 23
        }
      ]
    },
    {
      "cell_type": "code",
      "metadata": {
        "id": "FQEK0vM7Sn_0",
        "colab_type": "code",
        "outputId": "b0aff332-9c90-478f-eadf-b553cf12815c",
        "colab": {
          "base_uri": "https://localhost:8080/",
          "height": 34
        }
      },
      "source": [
        "lst2 = set(lst1)\n",
        "len(lst2)"
      ],
      "execution_count": 24,
      "outputs": [
        {
          "output_type": "execute_result",
          "data": {
            "text/plain": [
              "159"
            ]
          },
          "metadata": {
            "tags": []
          },
          "execution_count": 24
        }
      ]
    },
    {
      "cell_type": "code",
      "metadata": {
        "id": "EPvDqrMgT7-h",
        "colab_type": "code",
        "colab": {}
      },
      "source": [
        ""
      ],
      "execution_count": 0,
      "outputs": []
    }
  ]
}