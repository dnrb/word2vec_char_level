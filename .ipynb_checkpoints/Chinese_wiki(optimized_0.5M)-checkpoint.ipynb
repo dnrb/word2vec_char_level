{
 "cells": [
  {
   "cell_type": "markdown",
   "metadata": {},
   "source": [
    "**Set up the library**"
   ]
  },
  {
   "cell_type": "code",
   "execution_count": 1,
   "metadata": {
    "colab": {},
    "colab_type": "code",
    "id": "0MUO6ez8ipZW"
   },
   "outputs": [],
   "source": [
    "import jieba\n",
    "import string\n",
    "import re"
   ]
  },
  {
   "cell_type": "code",
   "execution_count": 2,
   "metadata": {
    "colab": {},
    "colab_type": "code",
    "id": "LUKNuKODisJD"
   },
   "outputs": [],
   "source": [
    "f_read =  open(\"zhwiki-20190401_all.txt\", 'r')\n",
    "all_text_str = f_read.readlines()\n",
    "all_words = []"
   ]
  },
  {
   "cell_type": "markdown",
   "metadata": {
    "colab_type": "text",
    "id": "R-EYbZXGixPS"
   },
   "source": [
    "**Chinese Word Segmentation**"
   ]
  },
  {
   "cell_type": "code",
   "execution_count": 3,
   "metadata": {
    "colab": {
     "base_uri": "https://localhost:8080/",
     "height": 158
    },
    "colab_type": "code",
    "id": "K4rQvTkEi0sk",
    "outputId": "7ba34b89-fef4-4d38-eb96-fbc6635f2bac"
   },
   "outputs": [
    {
     "name": "stderr",
     "output_type": "stream",
     "text": [
      "Building prefix dict from the default dictionary ...\n",
      "Dumping model to file cache /tmp/jieba.cache\n",
      "Loading model cost 0.593 seconds.\n",
      "Prefix dict has been built succesfully.\n"
     ]
    },
    {
     "name": "stdout",
     "output_type": "stream",
     "text": [
      "CPU times: user 9min 18s, sys: 2.66 s, total: 9min 21s\n",
      "Wall time: 9min 21s\n"
     ]
    }
   ],
   "source": [
    "%%time\n",
    "\n",
    "for i in range(len(all_text_str)):\n",
    "    current_line = jieba.lcut(all_text_str[i].strip('\\n'))\n",
    "    all_words += current_line\n",
    "    \n",
    "len(all_words)"
   ]
  },
  {
   "cell_type": "code",
   "execution_count": 4,
   "metadata": {
    "colab": {
     "base_uri": "https://localhost:8080/",
     "height": 74
    },
    "colab_type": "code",
    "id": "CBfLVQaujfVc",
    "outputId": "090f62c9-33e9-4fde-d4b2-0aef4e1d7f8c"
   },
   "outputs": [
    {
     "data": {
      "text/plain": [
       "['谈判', '修改', '现有', '的', '条约', '这不应', '直接', '违背', '其', '精神']"
      ]
     },
     "execution_count": 4,
     "metadata": {},
     "output_type": "execute_result"
    }
   ],
   "source": [
    "all_words[-10:]"
   ]
  },
  {
   "cell_type": "code",
   "execution_count": 5,
   "metadata": {
    "colab": {
     "base_uri": "https://localhost:8080/",
     "height": 94
    },
    "colab_type": "code",
    "id": "PcW9ZWcakApJ",
    "outputId": "1f234174-bc65-40f5-c556-c33b2f35b52c"
   },
   "outputs": [
    {
     "data": {
      "text/plain": [
       "1687575"
      ]
     },
     "execution_count": 5,
     "metadata": {},
     "output_type": "execute_result"
    }
   ],
   "source": [
    "words_set = set(all_words)\n",
    "len(words_set)"
   ]
  },
  {
   "cell_type": "markdown",
   "metadata": {
    "colab_type": "text",
    "id": "rawIJ2mxBHKX"
   },
   "source": [
    "**Get most common words**"
   ]
  },
  {
   "cell_type": "code",
   "execution_count": 20,
   "metadata": {
    "colab": {
     "base_uri": "https://localhost:8080/",
     "height": 94
    },
    "colab_type": "code",
    "id": "N3FM15KGBILg",
    "outputId": "0afe61b7-b463-43fa-f374-4ca1e18575f6"
   },
   "outputs": [
    {
     "data": {
      "text/plain": [
       "500000"
      ]
     },
     "execution_count": 20,
     "metadata": {},
     "output_type": "execute_result"
    }
   ],
   "source": [
    "import collections\n",
    "\n",
    "word_counters = collections.Counter(all_words)\n",
    "\n",
    "most_common_words = set()\n",
    "\n",
    "for tup in word_counters.most_common(500000):\n",
    "    most_common_words.add(tup[0])\n",
    "    \n",
    "len(most_common_words)"
   ]
  },
  {
   "cell_type": "markdown",
   "metadata": {
    "colab_type": "text",
    "id": "Ntxq3sMjBnzW"
   },
   "source": [
    "**Change less frequent words to uncommon**"
   ]
  },
  {
   "cell_type": "code",
   "execution_count": 21,
   "metadata": {
    "colab": {
     "base_uri": "https://localhost:8080/",
     "height": 74
    },
    "colab_type": "code",
    "id": "m48XsLqLCGZm",
    "outputId": "8e9d5d99-8079-44aa-b553-203567b1ecdf"
   },
   "outputs": [
    {
     "data": {
      "text/plain": [
       "1399913"
      ]
     },
     "execution_count": 21,
     "metadata": {},
     "output_type": "execute_result"
    }
   ],
   "source": [
    "for i in range(len(all_words)):\n",
    "    if all_words[i] not in most_common_words:\n",
    "        all_words[i] = 'uncommon'\n",
    "        \n",
    "all_words.count('uncommon')"
   ]
  },
  {
   "cell_type": "markdown",
   "metadata": {
    "colab_type": "text",
    "id": "MNZqOjtAkd9D"
   },
   "source": [
    "**Convert text to int**"
   ]
  },
  {
   "cell_type": "code",
   "execution_count": 22,
   "metadata": {
    "colab": {},
    "colab_type": "code",
    "id": "QE906jcGniIO"
   },
   "outputs": [],
   "source": [
    "def str_to_int(lst):\n",
    "    counter = 0\n",
    "    new_list = []\n",
    "    existed = {}\n",
    "    \n",
    "    for string in lst:\n",
    "        if string not in existed:\n",
    "            existed[string] = counter\n",
    "            new_list.append(existed[string])\n",
    "            counter += 1\n",
    "        else:\n",
    "            new_list.append(existed[string])\n",
    "            \n",
    "    return new_list"
   ]
  },
  {
   "cell_type": "code",
   "execution_count": 23,
   "metadata": {
    "colab": {},
    "colab_type": "code",
    "id": "m7yRwd5_oGFq"
   },
   "outputs": [],
   "source": [
    "word2int = str_to_int(all_words)"
   ]
  },
  {
   "cell_type": "code",
   "execution_count": 24,
   "metadata": {
    "colab": {
     "base_uri": "https://localhost:8080/",
     "height": 74
    },
    "colab_type": "code",
    "id": "_b6VzicdmLaj",
    "outputId": "4449e870-8096-4e45-928e-faa7e020a8e3"
   },
   "outputs": [
    {
     "data": {
      "text/plain": [
       "0"
      ]
     },
     "execution_count": 24,
     "metadata": {},
     "output_type": "execute_result"
    }
   ],
   "source": [
    "min(word2int)"
   ]
  },
  {
   "cell_type": "code",
   "execution_count": 25,
   "metadata": {
    "colab": {
     "base_uri": "https://localhost:8080/",
     "height": 74
    },
    "colab_type": "code",
    "id": "D1MCjMpCmObf",
    "outputId": "70cac16e-c55f-4240-b5eb-5755e576c5a5"
   },
   "outputs": [
    {
     "data": {
      "text/plain": [
       "499999"
      ]
     },
     "execution_count": 25,
     "metadata": {},
     "output_type": "execute_result"
    }
   ],
   "source": [
    "max(word2int)"
   ]
  },
  {
   "cell_type": "markdown",
   "metadata": {
    "colab_type": "text",
    "id": "dJXwKZXXmTGL"
   },
   "source": [
    "**Set up the constants**"
   ]
  },
  {
   "cell_type": "code",
   "execution_count": 26,
   "metadata": {
    "colab": {},
    "colab_type": "code",
    "id": "hxY46f26mWkz"
   },
   "outputs": [],
   "source": [
    "n_Train = 50\n",
    "n_Voc = max(word2int) + 1\n",
    "n_Corpus = len(word2int)\n",
    "WINDOW_SIZE = 2"
   ]
  },
  {
   "cell_type": "code",
   "execution_count": 27,
   "metadata": {
    "colab": {
     "base_uri": "https://localhost:8080/",
     "height": 74
    },
    "colab_type": "code",
    "id": "QXJxY79toOti",
    "outputId": "65758ec2-635f-484d-ffef-442b73f1b84c"
   },
   "outputs": [
    {
     "data": {
      "text/plain": [
       "500000"
      ]
     },
     "execution_count": 27,
     "metadata": {},
     "output_type": "execute_result"
    }
   ],
   "source": [
    "n_Voc"
   ]
  },
  {
   "cell_type": "markdown",
   "metadata": {
    "colab_type": "text",
    "id": "nCJEVyNMeyGd"
   },
   "source": [
    "**Initialize two arrays**"
   ]
  },
  {
   "cell_type": "code",
   "execution_count": 28,
   "metadata": {
    "colab": {},
    "colab_type": "code",
    "id": "yJQ8yuhhexKn"
   },
   "outputs": [],
   "source": [
    "import numpy as np\n",
    "\n",
    "def data_generate(n_Train, n_Voc, n_Corpus, WINDOW_SIZE, word2int):\n",
    "\n",
    "    X = np.zeros((n_Train, n_Voc))\n",
    "    Y = np.zeros((n_Train, n_Voc))\n",
    "\n",
    "    for i in range(n_Train):\n",
    "        j = np.random.choice(n_Corpus, 1)[0]\n",
    "\n",
    "        tw = word2int[j]\n",
    "\n",
    "        Y[i][tw] = 1\n",
    "\n",
    "        for k in range(j - WINDOW_SIZE, j + WINDOW_SIZE + 1):\n",
    "            if k != j and k >= 0 and k < n_Corpus:\n",
    "                cw = word2int[k]\n",
    "                X[i][cw] = 1\n",
    "                \n",
    "    return X, Y"
   ]
  },
  {
   "cell_type": "code",
   "execution_count": 29,
   "metadata": {
    "colab": {
     "base_uri": "https://localhost:8080/",
     "height": 273
    },
    "colab_type": "code",
    "id": "EDEFW_v7oPXE",
    "outputId": "08c7e15b-0c07-4e87-cd0f-6214206f9bea"
   },
   "outputs": [
    {
     "data": {
      "text/plain": [
       "(array([[0., 0., 0., ..., 0., 0., 0.],\n",
       "        [0., 0., 0., ..., 0., 0., 0.],\n",
       "        [0., 0., 0., ..., 0., 0., 0.],\n",
       "        ...,\n",
       "        [0., 0., 0., ..., 0., 0., 0.],\n",
       "        [0., 0., 0., ..., 0., 0., 0.],\n",
       "        [0., 0., 0., ..., 0., 0., 0.]]), array([[0., 0., 0., ..., 0., 0., 0.],\n",
       "        [0., 0., 0., ..., 0., 0., 0.],\n",
       "        [0., 0., 0., ..., 0., 0., 0.],\n",
       "        ...,\n",
       "        [0., 0., 0., ..., 0., 0., 0.],\n",
       "        [0., 0., 0., ..., 0., 0., 0.],\n",
       "        [0., 0., 0., ..., 0., 0., 0.]]))"
      ]
     },
     "execution_count": 29,
     "metadata": {},
     "output_type": "execute_result"
    }
   ],
   "source": [
    "data_generate(n_Train, n_Voc, n_Corpus, WINDOW_SIZE, word2int)"
   ]
  },
  {
   "cell_type": "code",
   "execution_count": 30,
   "metadata": {
    "colab": {
     "base_uri": "https://localhost:8080/",
     "height": 158
    },
    "colab_type": "code",
    "id": "9SisXlsDQYhs",
    "outputId": "b103ef13-ddff-4596-cb54-ffdf6b93b411"
   },
   "outputs": [],
   "source": [
    "import tensorflow as tf\n",
    "\n",
    "ONE_HOT_DIM = n_Voc\n",
    "\n",
    "# # function to convert numbers to one hot vectors\n",
    "# def to_one_hot_encoding(data_point_index):\n",
    "#     one_hot_encoding = np.zeros(ONE_HOT_DIM)\n",
    "#     one_hot_encoding[data_point_index] = 1\n",
    "#     return one_hot_encoding\n",
    "\n",
    "# X = [] # input word\n",
    "# Y = [] # target word\n",
    "\n",
    "# for x, y in zip(df['input'], df['label']):\n",
    "#     X.append(to_one_hot_encoding(word2int[ x ]))\n",
    "#     Y.append(to_one_hot_encoding(word2int[ y ]))\n",
    "\n",
    "# # convert them to numpy arrays\n",
    "# X_train = np.asarray(X)\n",
    "# Y_train = np.asarray(Y)\n",
    "\n",
    "# making placeholders for X_train and Y_train\n",
    "x = tf.placeholder(tf.float64, shape=(None, ONE_HOT_DIM))\n",
    "y_label = tf.placeholder(tf.float64, shape=(None, ONE_HOT_DIM))\n",
    "\n",
    "# word embedding will be 2 dimension for 2d visualization\n",
    "EMBEDDING_DIM = 30\n",
    "\n",
    "# hidden layer: which represents word vector eventually\n",
    "W1 = tf.Variable(tf.random_normal([ONE_HOT_DIM, EMBEDDING_DIM], dtype=tf.float64))\n",
    "b1 = tf.Variable(tf.random_normal([1], dtype=tf.float64)) #bias\n",
    "hidden_layer = tf.add(tf.matmul(x,W1), b1)\n",
    "\n",
    "# output layer\n",
    "W2 = tf.Variable(tf.random_normal([EMBEDDING_DIM, ONE_HOT_DIM], dtype=tf.float64))\n",
    "b2 = tf.Variable(tf.random_normal([1], dtype=tf.float64))\n",
    "prediction = tf.nn.softmax(tf.add( tf.matmul(hidden_layer, W2), b2))\n",
    "\n",
    "# loss function: cross entropy\n",
    "loss = tf.reduce_mean(-tf.reduce_sum(y_label * tf.log(prediction), axis=[1]))\n",
    "\n",
    "# training operation(learning rate)\n",
    "train_op = tf.train.GradientDescentOptimizer(0.05).minimize(loss)"
   ]
  },
  {
   "cell_type": "markdown",
   "metadata": {
    "colab_type": "text",
    "id": "_sUhj1mHiR_G"
   },
   "source": [
    "**Train**"
   ]
  },
  {
   "cell_type": "code",
   "execution_count": 31,
   "metadata": {
    "colab": {
     "base_uri": "https://localhost:8080/",
     "height": 783
    },
    "colab_type": "code",
    "id": "QPC4y_0biUKj",
    "outputId": "20c06a28-e757-4a4a-9d71-b3014db9bb91"
   },
   "outputs": [
    {
     "name": "stdout",
     "output_type": "stream",
     "text": [
      "iteration 0 loss is :  53.79406934925481\n",
      "iteration 500 loss is :  47.01017057432335\n",
      "iteration 1000 loss is :  42.0574215200344\n",
      "iteration 1500 loss is :  44.18546820230902\n",
      "iteration 2000 loss is :  43.17851355761522\n",
      "iteration 2500 loss is :  41.7592424140059\n",
      "iteration 3000 loss is :  41.14403758967832\n",
      "iteration 3500 loss is :  41.210695901329515\n",
      "iteration 4000 loss is :  39.1890421073057\n",
      "iteration 4500 loss is :  38.269837078076314\n",
      "iteration 5000 loss is :  38.75588280891252\n",
      "iteration 5500 loss is :  40.72979611129072\n",
      "iteration 6000 loss is :  40.69517773504901\n",
      "iteration 6500 loss is :  40.66577103356729\n",
      "iteration 7000 loss is :  38.374525806967384\n",
      "iteration 7500 loss is :  38.09929523931144\n",
      "iteration 8000 loss is :  37.754595317570725\n",
      "iteration 8500 loss is :  40.52318791816758\n",
      "iteration 9000 loss is :  38.61011647155477\n",
      "iteration 9500 loss is :  40.13962325479208\n",
      "iteration 10000 loss is :  35.796861674327864\n",
      "iteration 10500 loss is :  38.6545392371024\n",
      "iteration 11000 loss is :  34.52822525442618\n",
      "iteration 11500 loss is :  36.56159838525479\n",
      "iteration 12000 loss is :  35.0725263944227\n",
      "iteration 12500 loss is :  37.73761657216585\n",
      "iteration 13000 loss is :  36.74691808053765\n",
      "iteration 13500 loss is :  33.330469249059654\n",
      "iteration 14000 loss is :  33.27239338191788\n",
      "iteration 14500 loss is :  34.11039285332097\n",
      "iteration 15000 loss is :  31.116354962374153\n",
      "iteration 15500 loss is :  33.51130447561651\n",
      "iteration 16000 loss is :  35.000033791109836\n",
      "iteration 16500 loss is :  31.189196318389403\n",
      "iteration 17000 loss is :  30.71737572428724\n",
      "iteration 17500 loss is :  38.47201888675367\n",
      "iteration 18000 loss is :  30.878105500142475\n",
      "iteration 18500 loss is :  35.53846517983408\n",
      "iteration 19000 loss is :  31.642084979824904\n",
      "iteration 19500 loss is :  34.817118290999844\n",
      "iteration 20000 loss is :  29.523934811975174\n",
      "CPU times: user 1h 5min 1s, sys: 50min 23s, total: 1h 55min 25s\n",
      "Wall time: 2h 9min 20s\n"
     ]
    }
   ],
   "source": [
    "%%time\n",
    "\n",
    "sess = tf.Session()\n",
    "init = tf.global_variables_initializer()\n",
    "sess.run(init) \n",
    "\n",
    "iteration = 20000\n",
    "for i in range(iteration + 1):\n",
    "    X, Y = data_generate(n_Train, n_Voc, n_Corpus, WINDOW_SIZE, word2int)\n",
    "    # input is X_train which is one hot encoded word\n",
    "    # label is Y_train which is one hot encoded neighbor word\n",
    "    sess.run(train_op, feed_dict={x: X, y_label: Y})\n",
    "    if i % 500 == 0:\n",
    "        print('iteration '+str(i)+' loss is : ', sess.run(loss, feed_dict={x: X, y_label: Y}))"
   ]
  },
  {
   "cell_type": "markdown",
   "metadata": {
    "colab_type": "text",
    "id": "lFz_OdtJiuqo"
   },
   "source": [
    "**Visualization**"
   ]
  },
  {
   "cell_type": "code",
   "execution_count": 32,
   "metadata": {
    "colab": {
     "base_uri": "https://localhost:8080/",
     "height": 74
    },
    "colab_type": "code",
    "id": "r1j81pDCit4m",
    "outputId": "cc5f2a3d-a119-470c-9c40-c2f05ad5c1c9"
   },
   "outputs": [
    {
     "data": {
      "text/plain": [
       "(4, 2)"
      ]
     },
     "execution_count": 32,
     "metadata": {},
     "output_type": "execute_result"
    }
   ],
   "source": [
    "import sklearn\n",
    "import matplotlib.pyplot as plt\n",
    "import matplotlib.cm as cm\n",
    "from sklearn.manifold import TSNE\n",
    "\n",
    "Z = np.array([[0, 0, 0], [0, 1, 1], [1, 0, 1], [1, 1, 1]])\n",
    "Z_embedded = TSNE(n_components=2).fit_transform(Z)\n",
    "Z_embedded.shape"
   ]
  },
  {
   "cell_type": "code",
   "execution_count": 33,
   "metadata": {
    "colab": {
     "base_uri": "https://localhost:8080/",
     "height": 273
    },
    "colab_type": "code",
    "id": "bfzzBYgr-9El",
    "outputId": "26e2f633-3708-421a-91f8-4f12a6242e7c"
   },
   "outputs": [
    {
     "data": {
      "text/plain": [
       "array([[ 1.41398457,  0.480239  ,  0.30743152, ..., -0.01250384,\n",
       "         2.06692195,  1.43803316],\n",
       "       [ 0.7081365 ,  0.67223525,  0.65581915, ...,  0.72718272,\n",
       "         0.76164327,  0.67042133],\n",
       "       [ 1.35394486,  0.83903413,  0.26914348, ...,  0.93283867,\n",
       "         0.84879975,  0.75797476],\n",
       "       ...,\n",
       "       [ 2.08022564, -1.88437571, -0.71724912, ...,  0.87569395,\n",
       "         0.60750555,  1.91521527],\n",
       "       [ 0.7604972 ,  1.21063999, -0.44965853, ...,  2.02046053,\n",
       "         1.05567307,  1.61227256],\n",
       "       [ 0.56006262,  0.94461503,  1.24609762, ...,  1.79657295,\n",
       "        -0.37421855, -0.19310459]])"
      ]
     },
     "execution_count": 33,
     "metadata": {},
     "output_type": "execute_result"
    }
   ],
   "source": [
    "vectors = sess.run(W1 + b1)\n",
    "vectors"
   ]
  },
  {
   "cell_type": "markdown",
   "metadata": {},
   "source": [
    "**Cosine Similiarity**"
   ]
  },
  {
   "cell_type": "code",
   "execution_count": 5,
   "metadata": {},
   "outputs": [],
   "source": [
    "import pandas as pd\n",
    "\n",
    "source_file = pd.read_excel(\"trial_data_ws_50(submitted).xlsx\")"
   ]
  },
  {
   "cell_type": "code",
   "execution_count": null,
   "metadata": {},
   "outputs": [],
   "source": []
  },
  {
   "cell_type": "code",
   "execution_count": null,
   "metadata": {},
   "outputs": [],
   "source": []
  }
 ],
 "metadata": {
  "accelerator": "TPU",
  "colab": {
   "collapsed_sections": [],
   "name": "Chinese_wiki(smaller_optimized).ipynb",
   "provenance": [],
   "version": "0.3.2"
  },
  "kernelspec": {
   "display_name": "Python 3",
   "language": "python",
   "name": "python3"
  },
  "language_info": {
   "codemirror_mode": {
    "name": "ipython",
    "version": 3
   },
   "file_extension": ".py",
   "mimetype": "text/x-python",
   "name": "python",
   "nbconvert_exporter": "python",
   "pygments_lexer": "ipython3",
   "version": "3.7.3"
  }
 },
 "nbformat": 4,
 "nbformat_minor": 1
}
