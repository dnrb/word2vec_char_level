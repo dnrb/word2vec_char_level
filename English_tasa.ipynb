{
  "nbformat": 4,
  "nbformat_minor": 0,
  "metadata": {
    "colab": {
      "name": "English_tasa.ipynb",
      "version": "0.3.2",
      "provenance": [],
      "collapsed_sections": [],
      "include_colab_link": true
    },
    "kernelspec": {
      "name": "python3",
      "display_name": "Python 3"
    },
    "accelerator": "TPU"
  },
  "cells": [
    {
      "cell_type": "markdown",
      "metadata": {
        "id": "view-in-github",
        "colab_type": "text"
      },
      "source": [
        "<a href=\"https://colab.research.google.com/github/dnrb/word2vec_char_level/blob/master/English_tasa.ipynb\" target=\"_parent\"><img src=\"https://colab.research.google.com/assets/colab-badge.svg\" alt=\"Open In Colab\"/></a>"
      ]
    },
    {
      "cell_type": "markdown",
      "metadata": {
        "id": "3IJ7oFQ5u0nC",
        "colab_type": "text"
      },
      "source": [
        "**Set up the repository in Colab**"
      ]
    },
    {
      "cell_type": "code",
      "metadata": {
        "id": "e6V9UZs3ZgVz",
        "colab_type": "code",
        "outputId": "c4431959-8832-44b9-ab58-bf943608bd66",
        "colab": {
          "base_uri": "https://localhost:8080/",
          "height": 148
        }
      },
      "source": [
        "!git clone https://github.com/dnrb/word2vec_char_level.git"
      ],
      "execution_count": 0,
      "outputs": [
        {
          "output_type": "stream",
          "text": [
            "Cloning into 'word2vec_char_level'...\n",
            "remote: Enumerating objects: 70, done.\u001b[K\n",
            "remote: Counting objects: 100% (70/70), done.\u001b[K\n",
            "remote: Compressing objects: 100% (66/66), done.\u001b[K\n",
            "remote: Total 70 (delta 33), reused 3 (delta 0), pack-reused 0\u001b[K\n",
            "Unpacking objects: 100% (70/70), done.\n"
          ],
          "name": "stdout"
        }
      ]
    },
    {
      "cell_type": "code",
      "metadata": {
        "id": "jyRbXe5_otJE",
        "colab_type": "code",
        "outputId": "0337b234-41a6-4447-d764-fccd3cae6a94",
        "colab": {
          "base_uri": "https://localhost:8080/",
          "height": 34
        }
      },
      "source": [
        "cd word2vec_char_level/"
      ],
      "execution_count": 0,
      "outputs": [
        {
          "output_type": "stream",
          "text": [
            "/content/word2vec_char_level\n"
          ],
          "name": "stdout"
        }
      ]
    },
    {
      "cell_type": "markdown",
      "metadata": {
        "id": "XXDWSvj7oZ-p",
        "colab_type": "text"
      },
      "source": [
        "**Verify the first data file**"
      ]
    },
    {
      "cell_type": "code",
      "metadata": {
        "id": "OoSiGjZnofQj",
        "colab_type": "code",
        "outputId": "8ed16dca-a16c-4f33-8458-087f5c585610",
        "colab": {
          "base_uri": "https://localhost:8080/",
          "height": 34
        }
      },
      "source": [
        "file1 = 'tasa_1.txt'\n",
        "filehandle1 = open(file1)\n",
        "lines1 = filehandle1.readlines()\n",
        "len(lines1)"
      ],
      "execution_count": 0,
      "outputs": [
        {
          "output_type": "execute_result",
          "data": {
            "text/plain": [
              "250000"
            ]
          },
          "metadata": {
            "tags": []
          },
          "execution_count": 3
        }
      ]
    },
    {
      "cell_type": "markdown",
      "metadata": {
        "id": "GTKTj7zCo0Ms",
        "colab_type": "text"
      },
      "source": [
        "**Verify the second data file**"
      ]
    },
    {
      "cell_type": "code",
      "metadata": {
        "id": "3hnhcQQTo_f9",
        "colab_type": "code",
        "outputId": "8cb357b7-3476-430e-eac5-e244478f9a5f",
        "colab": {
          "base_uri": "https://localhost:8080/",
          "height": 34
        }
      },
      "source": [
        "file2 = 'tasa_2.txt'\n",
        "filehandle2 = open(file2)\n",
        "lines2 = filehandle2.readlines()\n",
        "len(lines2)"
      ],
      "execution_count": 0,
      "outputs": [
        {
          "output_type": "execute_result",
          "data": {
            "text/plain": [
              "250000"
            ]
          },
          "metadata": {
            "tags": []
          },
          "execution_count": 4
        }
      ]
    },
    {
      "cell_type": "markdown",
      "metadata": {
        "id": "Rbyehl1Bo73Y",
        "colab_type": "text"
      },
      "source": [
        "**Verify the third data file**"
      ]
    },
    {
      "cell_type": "code",
      "metadata": {
        "id": "NwLgVDBapEZF",
        "colab_type": "code",
        "outputId": "4dfac041-e080-4de7-d074-04f85e6f8228",
        "colab": {
          "base_uri": "https://localhost:8080/",
          "height": 34
        }
      },
      "source": [
        "file3 = 'tasa_3.txt'\n",
        "filehandle3 = open(file1)\n",
        "lines3 = filehandle3.readlines()\n",
        "len(lines3)"
      ],
      "execution_count": 0,
      "outputs": [
        {
          "output_type": "execute_result",
          "data": {
            "text/plain": [
              "250000"
            ]
          },
          "metadata": {
            "tags": []
          },
          "execution_count": 5
        }
      ]
    },
    {
      "cell_type": "markdown",
      "metadata": {
        "id": "aocpMO_0pJLT",
        "colab_type": "text"
      },
      "source": [
        "**Construct the full tasa corpus**"
      ]
    },
    {
      "cell_type": "code",
      "metadata": {
        "id": "6xYhUcR1pMAF",
        "colab_type": "code",
        "outputId": "a892c041-e838-4fb6-a361-a4266e33543c",
        "colab": {
          "base_uri": "https://localhost:8080/",
          "height": 34
        }
      },
      "source": [
        "corpus = lines1 + lines2 + lines3\n",
        "len(corpus)"
      ],
      "execution_count": 0,
      "outputs": [
        {
          "output_type": "execute_result",
          "data": {
            "text/plain": [
              "750000"
            ]
          },
          "metadata": {
            "tags": []
          },
          "execution_count": 6
        }
      ]
    },
    {
      "cell_type": "markdown",
      "metadata": {
        "id": "mZkVDs_IgXaq",
        "colab_type": "text"
      },
      "source": [
        "\n",
        "\n",
        "**Gather every words in the corpus**"
      ]
    },
    {
      "cell_type": "code",
      "metadata": {
        "id": "E_c8-FoNeo9Z",
        "colab_type": "code",
        "colab": {}
      },
      "source": [
        "import string\n",
        "words = []\n",
        "\n",
        "for sentence in corpus:\n",
        "    \n",
        "    for word in sentence.split(' '):\n",
        "        \n",
        "        if word not in string.punctuation:\n",
        "            words.append(word)\n",
        "            \n"
      ],
      "execution_count": 0,
      "outputs": []
    },
    {
      "cell_type": "code",
      "metadata": {
        "id": "RrfxCx4AfF_1",
        "colab_type": "code",
        "outputId": "59f4284d-2c36-4e41-8640-90e7cfc28f66",
        "colab": {
          "base_uri": "https://localhost:8080/",
          "height": 34
        }
      },
      "source": [
        "len(words)"
      ],
      "execution_count": 0,
      "outputs": [
        {
          "output_type": "execute_result",
          "data": {
            "text/plain": [
              "11556159"
            ]
          },
          "metadata": {
            "tags": []
          },
          "execution_count": 8
        }
      ]
    },
    {
      "cell_type": "code",
      "metadata": {
        "id": "ZhA_JrEPh2lv",
        "colab_type": "code",
        "outputId": "2cc6542e-8ad6-4b2e-b73a-fbefdd975e77",
        "colab": {
          "base_uri": "https://localhost:8080/",
          "height": 187
        }
      },
      "source": [
        "words[:10]"
      ],
      "execution_count": 0,
      "outputs": [
        {
          "output_type": "execute_result",
          "data": {
            "text/plain": [
              "['who',\n",
              " 'were',\n",
              " 'the',\n",
              " 'first',\n",
              " 'americans',\n",
              " '?\\n',\n",
              " 'many',\n",
              " 'many',\n",
              " 'years',\n",
              " 'ago']"
            ]
          },
          "metadata": {
            "tags": []
          },
          "execution_count": 9
        }
      ]
    },
    {
      "cell_type": "code",
      "metadata": {
        "id": "fxgD5t8w_pWT",
        "colab_type": "code",
        "colab": {}
      },
      "source": [
        "word_set = set(words)"
      ],
      "execution_count": 0,
      "outputs": []
    },
    {
      "cell_type": "markdown",
      "metadata": {
        "id": "DEPbxBRsj7OP",
        "colab_type": "text"
      },
      "source": [
        "**Convert text to int to prepare word2vec**"
      ]
    },
    {
      "cell_type": "code",
      "metadata": {
        "id": "QE906jcGniIO",
        "colab_type": "code",
        "colab": {}
      },
      "source": [
        "def str_to_int(lst):\n",
        "    counter = 0\n",
        "    new_list = []\n",
        "    existed = {}\n",
        "    \n",
        "    for string in lst:\n",
        "        if string not in existed:\n",
        "            existed[string] = counter\n",
        "            new_list.append(existed[string])\n",
        "            counter += 1\n",
        "        else:\n",
        "            new_list.append(existed[string])\n",
        "            \n",
        "    return new_list"
      ],
      "execution_count": 0,
      "outputs": []
    },
    {
      "cell_type": "code",
      "metadata": {
        "id": "m7yRwd5_oGFq",
        "colab_type": "code",
        "colab": {}
      },
      "source": [
        "word2int = str_to_int(words)"
      ],
      "execution_count": 0,
      "outputs": []
    },
    {
      "cell_type": "code",
      "metadata": {
        "id": "_b6VzicdmLaj",
        "colab_type": "code",
        "outputId": "a1a480cb-c52b-4521-a4be-b074c8767743",
        "colab": {
          "base_uri": "https://localhost:8080/",
          "height": 34
        }
      },
      "source": [
        "min(word2int)"
      ],
      "execution_count": 0,
      "outputs": [
        {
          "output_type": "execute_result",
          "data": {
            "text/plain": [
              "0"
            ]
          },
          "metadata": {
            "tags": []
          },
          "execution_count": 13
        }
      ]
    },
    {
      "cell_type": "code",
      "metadata": {
        "id": "D1MCjMpCmObf",
        "colab_type": "code",
        "outputId": "3b7342b3-9b23-4c65-f515-61973ae69bd4",
        "colab": {
          "base_uri": "https://localhost:8080/",
          "height": 34
        }
      },
      "source": [
        "max(word2int)"
      ],
      "execution_count": 0,
      "outputs": [
        {
          "output_type": "execute_result",
          "data": {
            "text/plain": [
              "95209"
            ]
          },
          "metadata": {
            "tags": []
          },
          "execution_count": 14
        }
      ]
    },
    {
      "cell_type": "markdown",
      "metadata": {
        "id": "dJXwKZXXmTGL",
        "colab_type": "text"
      },
      "source": [
        "**Set up the constants**"
      ]
    },
    {
      "cell_type": "code",
      "metadata": {
        "id": "hxY46f26mWkz",
        "colab_type": "code",
        "colab": {}
      },
      "source": [
        "n_Train = 50\n",
        "n_Voc = max(word2int) + 1\n",
        "n_Corpus = len(word2int)\n",
        "WINDOW_SIZE = 2"
      ],
      "execution_count": 0,
      "outputs": []
    },
    {
      "cell_type": "code",
      "metadata": {
        "id": "QXJxY79toOti",
        "colab_type": "code",
        "outputId": "07255694-1f06-436a-a586-da936c7cde22",
        "colab": {
          "base_uri": "https://localhost:8080/",
          "height": 34
        }
      },
      "source": [
        "n_Voc"
      ],
      "execution_count": 0,
      "outputs": [
        {
          "output_type": "execute_result",
          "data": {
            "text/plain": [
              "95210"
            ]
          },
          "metadata": {
            "tags": []
          },
          "execution_count": 16
        }
      ]
    },
    {
      "cell_type": "markdown",
      "metadata": {
        "id": "nCJEVyNMeyGd",
        "colab_type": "text"
      },
      "source": [
        "**Initialize two arrays**"
      ]
    },
    {
      "cell_type": "code",
      "metadata": {
        "id": "yJQ8yuhhexKn",
        "colab_type": "code",
        "colab": {}
      },
      "source": [
        "import numpy as np\n",
        "\n",
        "def data_generate(n_Train, n_Voc, n_Corpus, WINDOW_SIZE, word2int):\n",
        "\n",
        "    X = np.zeros((n_Train, n_Voc))\n",
        "    Y = np.zeros((n_Train, n_Voc))\n",
        "\n",
        "    for i in range(n_Train):\n",
        "        j = np.random.choice(n_Corpus, 1)[0]\n",
        "\n",
        "        tw = word2int[j]\n",
        "\n",
        "        Y[i][tw] = 1\n",
        "\n",
        "        for k in range(j - WINDOW_SIZE, j + WINDOW_SIZE + 1):\n",
        "            if k != j and k >= 0 and k < n_Corpus:\n",
        "                cw = word2int[k]\n",
        "                X[i][cw] = 1\n",
        "                \n",
        "    return X, Y"
      ],
      "execution_count": 0,
      "outputs": []
    },
    {
      "cell_type": "code",
      "metadata": {
        "id": "EDEFW_v7oPXE",
        "colab_type": "code",
        "outputId": "544dd23e-f576-4345-c538-f68c0797e4bc",
        "colab": {
          "base_uri": "https://localhost:8080/",
          "height": 238
        }
      },
      "source": [
        "data_generate(n_Train, n_Voc, n_Corpus, WINDOW_SIZE, word2int)"
      ],
      "execution_count": 0,
      "outputs": [
        {
          "output_type": "execute_result",
          "data": {
            "text/plain": [
              "(array([[0., 0., 0., ..., 0., 0., 0.],\n",
              "        [0., 0., 1., ..., 0., 0., 0.],\n",
              "        [0., 0., 0., ..., 0., 0., 0.],\n",
              "        ...,\n",
              "        [0., 0., 0., ..., 0., 0., 0.],\n",
              "        [0., 0., 0., ..., 0., 0., 0.],\n",
              "        [0., 0., 0., ..., 0., 0., 0.]]), array([[0., 0., 0., ..., 0., 0., 0.],\n",
              "        [0., 0., 0., ..., 0., 0., 0.],\n",
              "        [0., 0., 0., ..., 0., 0., 0.],\n",
              "        ...,\n",
              "        [0., 0., 0., ..., 0., 0., 0.],\n",
              "        [0., 0., 0., ..., 0., 0., 0.],\n",
              "        [0., 0., 0., ..., 0., 0., 0.]]))"
            ]
          },
          "metadata": {
            "tags": []
          },
          "execution_count": 18
        }
      ]
    },
    {
      "cell_type": "markdown",
      "metadata": {
        "id": "YlVO2L3LvGe0",
        "colab_type": "text"
      },
      "source": [
        "**Deploy TensorFlow trainning**"
      ]
    },
    {
      "cell_type": "code",
      "metadata": {
        "id": "9SisXlsDQYhs",
        "colab_type": "code",
        "outputId": "b787fbb8-dac2-4982-e15e-8bfe04e3740e",
        "colab": {
          "base_uri": "https://localhost:8080/",
          "height": 144
        }
      },
      "source": [
        "import tensorflow as tf\n",
        "\n",
        "ONE_HOT_DIM = n_Voc\n",
        "\n",
        "# # function to convert numbers to one hot vectors\n",
        "# def to_one_hot_encoding(data_point_index):\n",
        "#     one_hot_encoding = np.zeros(ONE_HOT_DIM)\n",
        "#     one_hot_encoding[data_point_index] = 1\n",
        "#     return one_hot_encoding\n",
        "\n",
        "# X = [] # input word\n",
        "# Y = [] # target word\n",
        "\n",
        "# for x, y in zip(df['input'], df['label']):\n",
        "#     X.append(to_one_hot_encoding(word2int[ x ]))\n",
        "#     Y.append(to_one_hot_encoding(word2int[ y ]))\n",
        "\n",
        "# # convert them to numpy arrays\n",
        "# X_train = np.asarray(X)\n",
        "# Y_train = np.asarray(Y)\n",
        "\n",
        "# making placeholders for X_train and Y_train\n",
        "x = tf.placeholder(tf.float64, shape=(None, ONE_HOT_DIM))\n",
        "y_label = tf.placeholder(tf.float64, shape=(None, ONE_HOT_DIM))\n",
        "\n",
        "# word embedding will be 2 dimension for 2d visualization\n",
        "EMBEDDING_DIM = 30\n",
        "\n",
        "# hidden layer: which represents word vector eventually\n",
        "W1 = tf.Variable(tf.random_normal([ONE_HOT_DIM, EMBEDDING_DIM], dtype=tf.float64))\n",
        "b1 = tf.Variable(tf.random_normal([1], dtype=tf.float64)) #bias\n",
        "hidden_layer = tf.add(tf.matmul(x,W1), b1)\n",
        "\n",
        "# output layer\n",
        "W2 = tf.Variable(tf.random_normal([EMBEDDING_DIM, ONE_HOT_DIM], dtype=tf.float64))\n",
        "b2 = tf.Variable(tf.random_normal([1], dtype=tf.float64))\n",
        "prediction = tf.nn.softmax(tf.add( tf.matmul(hidden_layer, W2), b2))\n",
        "\n",
        "# loss function: cross entropy\n",
        "loss = tf.reduce_mean(-tf.reduce_sum(y_label * tf.log(prediction), axis=[1]))\n",
        "\n",
        "# training operation(learning rate)\n",
        "train_op = tf.train.GradientDescentOptimizer(0.05).minimize(loss)"
      ],
      "execution_count": 0,
      "outputs": [
        {
          "output_type": "stream",
          "text": [
            "WARNING:tensorflow:From /usr/local/lib/python3.6/dist-packages/tensorflow/python/framework/op_def_library.py:263: colocate_with (from tensorflow.python.framework.ops) is deprecated and will be removed in a future version.\n",
            "Instructions for updating:\n",
            "Colocations handled automatically by placer.\n",
            "WARNING:tensorflow:From /usr/local/lib/python3.6/dist-packages/tensorflow/python/ops/math_ops.py:3066: to_int32 (from tensorflow.python.ops.math_ops) is deprecated and will be removed in a future version.\n",
            "Instructions for updating:\n",
            "Use tf.cast instead.\n"
          ],
          "name": "stdout"
        }
      ]
    },
    {
      "cell_type": "code",
      "metadata": {
        "id": "o2cywu4ZkfWC",
        "colab_type": "code",
        "colab": {}
      },
      "source": [
        ""
      ],
      "execution_count": 0,
      "outputs": []
    },
    {
      "cell_type": "markdown",
      "metadata": {
        "id": "_sUhj1mHiR_G",
        "colab_type": "text"
      },
      "source": [
        "**Train**"
      ]
    },
    {
      "cell_type": "code",
      "metadata": {
        "id": "QPC4y_0biUKj",
        "colab_type": "code",
        "outputId": "ceb4ad05-3c8b-4e3c-9600-567e28cb7b85",
        "colab": {
          "base_uri": "https://localhost:8080/",
          "height": 714
        }
      },
      "source": [
        "sess = tf.Session()\n",
        "init = tf.global_variables_initializer()\n",
        "sess.run(init) \n",
        "\n",
        "iteration = 20000\n",
        "for i in range(iteration + 1):\n",
        "    X, Y = data_generate(n_Train, n_Voc, n_Corpus, WINDOW_SIZE, word2int)\n",
        "    # input is X_train which is one hot encoded word\n",
        "    # label is Y_train which is one hot encoded neighbor word\n",
        "    sess.run(train_op, feed_dict={x: X, y_label: Y})\n",
        "    if i % 500 == 0:\n",
        "        print('iteration '+str(i)+' loss is : ', sess.run(loss, feed_dict={x: X, y_label: Y}))"
      ],
      "execution_count": 0,
      "outputs": [
        {
          "output_type": "stream",
          "text": [
            "iteration 0 loss is :  45.27723905893506\n",
            "iteration 500 loss is :  36.74377781916859\n",
            "iteration 1000 loss is :  35.68112012298206\n",
            "iteration 1500 loss is :  31.51725788649353\n",
            "iteration 2000 loss is :  30.12225148223883\n",
            "iteration 2500 loss is :  29.896862004495347\n",
            "iteration 3000 loss is :  29.76045943154886\n",
            "iteration 3500 loss is :  26.0091892616038\n",
            "iteration 4000 loss is :  22.933854342252506\n",
            "iteration 4500 loss is :  26.313427802687666\n",
            "iteration 5000 loss is :  26.315180610402457\n",
            "iteration 5500 loss is :  26.55770612229167\n",
            "iteration 6000 loss is :  21.35280444603096\n",
            "iteration 6500 loss is :  21.45428878232258\n",
            "iteration 7000 loss is :  25.165979275244684\n",
            "iteration 7500 loss is :  20.597821563332555\n",
            "iteration 8000 loss is :  21.12195986898236\n",
            "iteration 8500 loss is :  22.008606483085973\n",
            "iteration 9000 loss is :  20.363059341506506\n",
            "iteration 9500 loss is :  19.694953068274778\n",
            "iteration 10000 loss is :  19.685779685131006\n",
            "iteration 10500 loss is :  17.82799070745083\n",
            "iteration 11000 loss is :  19.538324263464883\n",
            "iteration 11500 loss is :  20.24521239247723\n",
            "iteration 12000 loss is :  18.01725951221174\n",
            "iteration 12500 loss is :  19.737500176142902\n",
            "iteration 13000 loss is :  19.045937996156848\n",
            "iteration 13500 loss is :  17.31114913735733\n",
            "iteration 14000 loss is :  16.960039911672983\n",
            "iteration 14500 loss is :  15.206007790370103\n",
            "iteration 15000 loss is :  15.39739211749183\n",
            "iteration 15500 loss is :  16.320314744052954\n",
            "iteration 16000 loss is :  19.5034211193973\n",
            "iteration 16500 loss is :  16.483244665855583\n",
            "iteration 17000 loss is :  17.232425431263522\n",
            "iteration 17500 loss is :  18.969503457922197\n",
            "iteration 18000 loss is :  16.686619412525943\n",
            "iteration 18500 loss is :  18.57867784319827\n",
            "iteration 19000 loss is :  14.931244737595994\n",
            "iteration 19500 loss is :  17.71173917441105\n",
            "iteration 20000 loss is :  19.31854932150278\n"
          ],
          "name": "stdout"
        }
      ]
    },
    {
      "cell_type": "markdown",
      "metadata": {
        "id": "lFz_OdtJiuqo",
        "colab_type": "text"
      },
      "source": [
        "**Visualization**"
      ]
    },
    {
      "cell_type": "code",
      "metadata": {
        "id": "r1j81pDCit4m",
        "colab_type": "code",
        "outputId": "2c715185-63bd-4e7b-80c9-235b7073a81f",
        "colab": {
          "base_uri": "https://localhost:8080/",
          "height": 34
        }
      },
      "source": [
        "import sklearn\n",
        "import matplotlib.pyplot as plt\n",
        "import matplotlib.cm as cm\n",
        "from sklearn.manifold import TSNE\n",
        "\n",
        "Z = np.array([[0, 0, 0], [0, 1, 1], [1, 0, 1], [1, 1, 1]])\n",
        "Z_embedded = TSNE(n_components=2).fit_transform(Z)\n",
        "Z_embedded.shape"
      ],
      "execution_count": 0,
      "outputs": [
        {
          "output_type": "execute_result",
          "data": {
            "text/plain": [
              "(4, 2)"
            ]
          },
          "metadata": {
            "tags": []
          },
          "execution_count": 21
        }
      ]
    },
    {
      "cell_type": "code",
      "metadata": {
        "id": "bfzzBYgr-9El",
        "colab_type": "code",
        "outputId": "78b3cbd7-ec0b-471e-fc60-2a2e3e4d3d83",
        "colab": {
          "base_uri": "https://localhost:8080/",
          "height": 238
        }
      },
      "source": [
        "vectors = sess.run(W1 + b1)\n",
        "vectors"
      ],
      "execution_count": 0,
      "outputs": [
        {
          "output_type": "execute_result",
          "data": {
            "text/plain": [
              "array([[-1.19915131, -1.11491343, -1.02262569, ..., -1.07692665,\n",
              "        -1.05495719, -1.1436516 ],\n",
              "       [-0.94862436, -0.93085725, -1.10070969, ..., -1.1107935 ,\n",
              "        -1.14147339, -1.14030519],\n",
              "       [-0.8579757 , -1.00350277, -1.03887102, ..., -1.04388361,\n",
              "        -1.00518757, -1.02341673],\n",
              "       ...,\n",
              "       [-1.99020407, -1.26899034, -0.98317204, ..., -1.05859043,\n",
              "        -2.8925425 , -1.01175159],\n",
              "       [-1.19641902, -1.88050549, -1.87903185, ..., -0.62608696,\n",
              "        -1.14207097, -1.08817045],\n",
              "       [-3.55513306, -0.34739111, -0.22456296, ..., -2.44876306,\n",
              "        -2.60572656, -3.11007246]])"
            ]
          },
          "metadata": {
            "tags": []
          },
          "execution_count": 22
        }
      ]
    },
    {
      "cell_type": "code",
      "metadata": {
        "id": "ecEmg_b2Gsfz",
        "colab_type": "code",
        "outputId": "46e9d7b2-a282-41f7-ecc1-2fdce4202410",
        "colab": {
          "base_uri": "https://localhost:8080/",
          "height": 34
        }
      },
      "source": [
        "vector_embedded_2d = TSNE(perplexity=100).fit_transform(vectors)\n",
        "vector_embedded_2d.shape"
      ],
      "execution_count": 0,
      "outputs": [
        {
          "output_type": "execute_result",
          "data": {
            "text/plain": [
              "(95210, 2)"
            ]
          },
          "metadata": {
            "tags": []
          },
          "execution_count": 23
        }
      ]
    },
    {
      "cell_type": "code",
      "metadata": {
        "id": "K9-p5RdskEKx",
        "colab_type": "code",
        "outputId": "e24ed281-9cef-42f1-fca7-de31d13f8c2d",
        "colab": {
          "base_uri": "https://localhost:8080/",
          "height": 34
        }
      },
      "source": [
        "len(words)"
      ],
      "execution_count": 0,
      "outputs": [
        {
          "output_type": "execute_result",
          "data": {
            "text/plain": [
              "11556159"
            ]
          },
          "metadata": {
            "tags": []
          },
          "execution_count": 24
        }
      ]
    },
    {
      "cell_type": "code",
      "metadata": {
        "id": "qRqvW4jZGnkX",
        "colab_type": "code",
        "outputId": "22f6963e-739b-4c54-982f-8c1b72892a73",
        "colab": {
          "base_uri": "https://localhost:8080/",
          "height": 541
        }
      },
      "source": [
        "def tsne_plot_2d(label, embeddings, words=[], a=1):\n",
        "    plt.figure(figsize=(16, 9))\n",
        "    colors = cm.rainbow(np.linspace(0, 1, 1))\n",
        "    x = embeddings[:,0]\n",
        "    y = embeddings[:,1]\n",
        "    plt.scatter(x, y, c=colors, alpha=a, label=label)\n",
        "    for i, word in enumerate(words):\n",
        "        plt.annotate(word, alpha=0.3, xy=(x[i], y[i]), xytext=(5, 2), \n",
        "                     textcoords='offset points', ha='right', va='bottom', size=10)\n",
        "    plt.legend(loc=4)\n",
        "    plt.grid(True)\n",
        "    plt.savefig(\"hhh.png\", format='png', dpi=150, bbox_inches='tight')\n",
        "    plt.show()\n",
        "\n",
        "tsne_plot_2d('Visualizing Embeddings using t-SNE', vector_embedded_2d, word_set, a=0.1)"
      ],
      "execution_count": 0,
      "outputs": [
        {
          "output_type": "display_data",
          "data": {
            "image/png": "[encoded data removed]",
            "text/plain": [
              "<Figure size 1152x648 with 1 Axes>"
            ]
          },
          "metadata": {
            "tags": []
          }
        }
      ]
    },
    {
      "cell_type": "code",
      "metadata": {
        "id": "b5kaSkIEBvui",
        "colab_type": "code",
        "outputId": "4b44dd4b-1210-4426-9911-0a5f8f2a4a77",
        "colab": {
          "base_uri": "https://localhost:8080/",
          "height": 34
        }
      },
      "source": [
        "vector_embedded_3d = TSNE(n_components=3).fit_transform(vectors)\n",
        "vector_embedded_3d.shape"
      ],
      "execution_count": 0,
      "outputs": [
        {
          "output_type": "execute_result",
          "data": {
            "text/plain": [
              "(95210, 3)"
            ]
          },
          "metadata": {
            "tags": []
          },
          "execution_count": 26
        }
      ]
    },
    {
      "cell_type": "code",
      "metadata": {
        "id": "Gwol3tZxCXfl",
        "colab_type": "code",
        "colab": {}
      },
      "source": [
        "from mpl_toolkits.mplot3d import Axes3D"
      ],
      "execution_count": 0,
      "outputs": []
    },
    {
      "cell_type": "code",
      "metadata": {
        "id": "Fj4JgotYgIiV",
        "colab_type": "code",
        "outputId": "04f14f6d-5b26-4e37-db6f-a2a21df2d341",
        "colab": {
          "base_uri": "https://localhost:8080/",
          "height": 353
        }
      },
      "source": [
        "def tsne_plot_3d(title, label, embeddings, a=1):\n",
        "    fig = plt.figure()\n",
        "    ax = Axes3D(fig)\n",
        "    colors = cm.rainbow(np.linspace(0, 1, 1))\n",
        "    plt.scatter(embeddings[:, 0], embeddings[:, 1], embeddings[:, 2], c=colors, alpha=a, label=label)\n",
        "    plt.legend(loc=4)\n",
        "    plt.title(title)\n",
        "    plt.show()\n",
        "\n",
        "\n",
        "tsne_plot_3d('Visualizing Embeddings using t-SNE', 'tasa_1.txt', vector_embedded_3d, a=0.1)"
      ],
      "execution_count": 0,
      "outputs": [
        {
          "output_type": "stream",
          "text": [
            "/usr/local/lib/python3.6/dist-packages/matplotlib/collections.py:874: RuntimeWarning: invalid value encountered in sqrt\n",
            "  scale = np.sqrt(self._sizes) * dpi / 72.0 * self._factor\n"
          ],
          "name": "stderr"
        },
        {
          "output_type": "display_data",
          "data": {
            "image/png": "[encoded data removed]",
            "text/plain": [
              "<Figure size 432x288 with 1 Axes>"
            ]
          },
          "metadata": {
            "tags": []
          }
        }
      ]
    },
    {
      "cell_type": "markdown",
      "metadata": {
        "id": "AbStdR81hqG3",
        "colab_type": "text"
      },
      "source": [
        "**Remove stop words**"
      ]
    },
    {
      "cell_type": "code",
      "metadata": {
        "id": "Jkxl31icfHhR",
        "colab_type": "code",
        "colab": {}
      },
      "source": [
        "# import nltk\n",
        "# nltk.download('stopwords')"
      ],
      "execution_count": 0,
      "outputs": []
    },
    {
      "cell_type": "code",
      "metadata": {
        "id": "AWwiM2zmhxpE",
        "colab_type": "code",
        "colab": {}
      },
      "source": [
        "# stopwords = nltk.corpus.stopwords.words('english')\n",
        "# cleaned_words = []\n",
        "\n",
        "# for word in words:\n",
        "#     if word not in stopwords:\n",
        "#         cleaned_words.append(word)"
      ],
      "execution_count": 0,
      "outputs": []
    }
  ]
}