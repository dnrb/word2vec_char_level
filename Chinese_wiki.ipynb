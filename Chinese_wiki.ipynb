{
 "cells": [
  {
   "cell_type": "markdown",
   "metadata": {
    "colab_type": "text",
    "id": "DEPbxBRsj7OP"
   },
   "source": [
    "**Convert text to int**"
   ]
  },
  {
   "cell_type": "code",
   "execution_count": 1,
   "metadata": {
    "colab": {},
    "colab_type": "code",
    "id": "0MUO6ez8ipZW"
   },
   "outputs": [],
   "source": [
    "import jieba\n",
    "import string\n",
    "import re"
   ]
  },
  {
   "cell_type": "code",
   "execution_count": 2,
   "metadata": {
    "colab": {},
    "colab_type": "code",
    "id": "LUKNuKODisJD"
   },
   "outputs": [],
   "source": [
    "f_read =  open(\"zhwiki-20190401_all.txt\", 'r')\n",
    "all_text_str = f_read.readlines()\n",
    "all_words = []"
   ]
  },
  {
   "cell_type": "code",
   "execution_count": 3,
   "metadata": {
    "colab": {},
    "colab_type": "code",
    "id": "IX751znZNDaS"
   },
   "outputs": [],
   "source": [
    "f_write_all = open(\"zhwiki_words.txt\", 'w')\n",
    "f_write_set = open(\"zhwiki_sets.txt\", 'w')"
   ]
  },
  {
   "cell_type": "markdown",
   "metadata": {
    "colab_type": "text",
    "id": "R-EYbZXGixPS"
   },
   "source": [
    "**Chinese Word Segmentation**"
   ]
  },
  {
   "cell_type": "code",
   "execution_count": 4,
   "metadata": {
    "colab": {
     "base_uri": "https://localhost:8080/",
     "height": 102
    },
    "colab_type": "code",
    "id": "K4rQvTkEi0sk",
    "outputId": "afa579be-f1b8-4d74-a802-d08689ebf3fe"
   },
   "outputs": [
    {
     "name": "stderr",
     "output_type": "stream",
     "text": [
      "Building prefix dict from the default dictionary ...\n",
      "Dumping model to file cache /tmp/jieba.cache\n",
      "Loading model cost 0.636 seconds.\n",
      "Prefix dict has been built succesfully.\n"
     ]
    },
    {
     "data": {
      "text/plain": [
       "81340161"
      ]
     },
     "execution_count": 4,
     "metadata": {},
     "output_type": "execute_result"
    }
   ],
   "source": [
    "for i in range(len(all_text_str)):\n",
    "    current_line = jieba.lcut(all_text_str[i].strip('\\n'))\n",
    "    all_words.extend(current_line)\n",
    "    \n",
    "len(all_words)"
   ]
  },
  {
   "cell_type": "code",
   "execution_count": 5,
   "metadata": {
    "colab": {
     "base_uri": "https://localhost:8080/",
     "height": 34
    },
    "colab_type": "code",
    "id": "CBfLVQaujfVc",
    "outputId": "50e1bd48-0a6d-4741-bbe3-7846597f5314"
   },
   "outputs": [
    {
     "data": {
      "text/plain": [
       "['谈判', '修改', '现有', '的', '条约', '这不应', '直接', '违背', '其', '精神']"
      ]
     },
     "execution_count": 5,
     "metadata": {},
     "output_type": "execute_result"
    }
   ],
   "source": [
    "all_words[-10:]"
   ]
  },
  {
   "cell_type": "code",
   "execution_count": 6,
   "metadata": {
    "colab": {
     "base_uri": "https://localhost:8080/",
     "height": 34
    },
    "colab_type": "code",
    "id": "PcW9ZWcakApJ",
    "outputId": "1f54975b-351f-4e71-f52c-d39de8b64fbe"
   },
   "outputs": [
    {
     "data": {
      "text/plain": [
       "1687575"
      ]
     },
     "execution_count": 6,
     "metadata": {},
     "output_type": "execute_result"
    }
   ],
   "source": [
    "words_set = set(all_words)\n",
    "len(words_set)"
   ]
  },
  {
   "cell_type": "code",
   "execution_count": null,
   "metadata": {
    "colab": {},
    "colab_type": "code",
    "id": "dD1NBwk9Z--F"
   },
   "outputs": [],
   "source": []
  },
  {
   "cell_type": "markdown",
   "metadata": {
    "colab_type": "text",
    "id": "MNZqOjtAkd9D"
   },
   "source": [
    "**Convert text to int**"
   ]
  },
  {
   "cell_type": "code",
   "execution_count": 7,
   "metadata": {
    "colab": {},
    "colab_type": "code",
    "id": "QE906jcGniIO"
   },
   "outputs": [],
   "source": [
    "def str_to_int(lst):\n",
    "    counter = 0\n",
    "    new_list = []\n",
    "    existed = {}\n",
    "    \n",
    "    for string in lst:\n",
    "        if string not in existed:\n",
    "            existed[string] = counter\n",
    "            new_list.append(existed[string])\n",
    "            counter += 1\n",
    "        else:\n",
    "            new_list.append(existed[string])\n",
    "            \n",
    "    return new_list"
   ]
  },
  {
   "cell_type": "code",
   "execution_count": 8,
   "metadata": {
    "colab": {},
    "colab_type": "code",
    "id": "m7yRwd5_oGFq"
   },
   "outputs": [],
   "source": [
    "word2int = str_to_int(all_words)"
   ]
  },
  {
   "cell_type": "code",
   "execution_count": null,
   "metadata": {
    "colab": {
     "base_uri": "https://localhost:8080/",
     "height": 74
    },
    "colab_type": "code",
    "id": "_b6VzicdmLaj",
    "outputId": "7f5bb018-d385-4805-fd63-0381eaea49f0"
   },
   "outputs": [
    {
     "data": {
      "text/plain": [
       "0"
      ]
     },
     "execution_count": 9,
     "metadata": {},
     "output_type": "execute_result"
    }
   ],
   "source": [
    "min(word2int)"
   ]
  },
  {
   "cell_type": "code",
   "execution_count": null,
   "metadata": {
    "colab": {
     "base_uri": "https://localhost:8080/",
     "height": 74
    },
    "colab_type": "code",
    "id": "D1MCjMpCmObf",
    "outputId": "9510134f-a522-4bbd-a685-d4edfe937ed3"
   },
   "outputs": [
    {
     "data": {
      "text/plain": [
       "1687574"
      ]
     },
     "execution_count": 10,
     "metadata": {},
     "output_type": "execute_result"
    }
   ],
   "source": [
    "max(word2int)"
   ]
  },
  {
   "cell_type": "markdown",
   "metadata": {
    "colab_type": "text",
    "id": "dJXwKZXXmTGL"
   },
   "source": [
    "**Set up the constants**"
   ]
  },
  {
   "cell_type": "code",
   "execution_count": null,
   "metadata": {
    "colab": {},
    "colab_type": "code",
    "id": "hxY46f26mWkz"
   },
   "outputs": [],
   "source": [
    "n_Train = 50\n",
    "n_Voc = max(word2int) + 1\n",
    "n_Corpus = len(word2int)\n",
    "WINDOW_SIZE = 2"
   ]
  },
  {
   "cell_type": "code",
   "execution_count": null,
   "metadata": {
    "colab": {
     "base_uri": "https://localhost:8080/",
     "height": 74
    },
    "colab_type": "code",
    "id": "QXJxY79toOti",
    "outputId": "da00b22f-823b-4819-9d38-9bb4acc3f376"
   },
   "outputs": [
    {
     "data": {
      "text/plain": [
       "1687575"
      ]
     },
     "execution_count": 12,
     "metadata": {},
     "output_type": "execute_result"
    }
   ],
   "source": [
    "n_Voc"
   ]
  },
  {
   "cell_type": "markdown",
   "metadata": {
    "colab_type": "text",
    "id": "nCJEVyNMeyGd"
   },
   "source": [
    "**Initialize two arrays**"
   ]
  },
  {
   "cell_type": "code",
   "execution_count": null,
   "metadata": {
    "colab": {},
    "colab_type": "code",
    "id": "yJQ8yuhhexKn"
   },
   "outputs": [],
   "source": [
    "import numpy as np\n",
    "\n",
    "def data_generate(n_Train, n_Voc, n_Corpus, WINDOW_SIZE, word2int):\n",
    "\n",
    "    X = np.zeros((n_Train, n_Voc))\n",
    "    Y = np.zeros((n_Train, n_Voc))\n",
    "\n",
    "    for i in range(n_Train):\n",
    "        j = np.random.choice(n_Corpus, 1)[0]\n",
    "\n",
    "        tw = word2int[j]\n",
    "\n",
    "        Y[i][tw] = 1\n",
    "\n",
    "        for k in range(j - WINDOW_SIZE, j + WINDOW_SIZE + 1):\n",
    "            if k != j and k >= 0 and k < n_Corpus:\n",
    "                cw = word2int[k]\n",
    "                X[i][cw] = 1\n",
    "                \n",
    "    return X, Y"
   ]
  },
  {
   "cell_type": "code",
   "execution_count": null,
   "metadata": {
    "colab": {
     "base_uri": "https://localhost:8080/",
     "height": 273
    },
    "colab_type": "code",
    "id": "EDEFW_v7oPXE",
    "outputId": "59e4af9b-e595-4d6e-87bc-31fceb09ec53"
   },
   "outputs": [
    {
     "data": {
      "text/plain": [
       "(array([[0., 0., 0., ..., 0., 0., 0.],\n",
       "        [0., 0., 0., ..., 0., 0., 0.],\n",
       "        [0., 0., 0., ..., 0., 0., 0.],\n",
       "        ...,\n",
       "        [0., 0., 0., ..., 0., 0., 0.],\n",
       "        [0., 0., 0., ..., 0., 0., 0.],\n",
       "        [0., 0., 0., ..., 0., 0., 0.]]), array([[0., 0., 0., ..., 0., 0., 0.],\n",
       "        [0., 0., 0., ..., 0., 0., 0.],\n",
       "        [0., 0., 0., ..., 0., 0., 0.],\n",
       "        ...,\n",
       "        [0., 0., 0., ..., 0., 0., 0.],\n",
       "        [0., 0., 0., ..., 0., 0., 0.],\n",
       "        [0., 0., 0., ..., 0., 0., 0.]]))"
      ]
     },
     "execution_count": 14,
     "metadata": {},
     "output_type": "execute_result"
    }
   ],
   "source": [
    "data_generate(n_Train, n_Voc, n_Corpus, WINDOW_SIZE, word2int)"
   ]
  },
  {
   "cell_type": "code",
   "execution_count": null,
   "metadata": {
    "colab": {
     "base_uri": "https://localhost:8080/",
     "height": 137
    },
    "colab_type": "code",
    "id": "9SisXlsDQYhs",
    "outputId": "911987ec-403f-4061-9923-78f3baf80133"
   },
   "outputs": [
    {
     "name": "stdout",
     "output_type": "stream",
     "text": [
      "WARNING:tensorflow:From /home/peter/anaconda3/lib/python3.7/site-packages/tensorflow/python/framework/op_def_library.py:263: colocate_with (from tensorflow.python.framework.ops) is deprecated and will be removed in a future version.\n",
      "Instructions for updating:\n",
      "Colocations handled automatically by placer.\n",
      "WARNING:tensorflow:From /home/peter/anaconda3/lib/python3.7/site-packages/tensorflow/python/ops/math_ops.py:3066: to_int32 (from tensorflow.python.ops.math_ops) is deprecated and will be removed in a future version.\n",
      "Instructions for updating:\n",
      "Use tf.cast instead.\n"
     ]
    }
   ],
   "source": [
    "import tensorflow as tf\n",
    "\n",
    "ONE_HOT_DIM = n_Voc\n",
    "\n",
    "# # function to convert numbers to one hot vectors\n",
    "# def to_one_hot_encoding(data_point_index):\n",
    "#     one_hot_encoding = np.zeros(ONE_HOT_DIM)\n",
    "#     one_hot_encoding[data_point_index] = 1\n",
    "#     return one_hot_encoding\n",
    "\n",
    "# X = [] # input word\n",
    "# Y = [] # target word\n",
    "\n",
    "# for x, y in zip(df['input'], df['label']):\n",
    "#     X.append(to_one_hot_encoding(word2int[ x ]))\n",
    "#     Y.append(to_one_hot_encoding(word2int[ y ]))\n",
    "\n",
    "# # convert them to numpy arrays\n",
    "# X_train = np.asarray(X)\n",
    "# Y_train = np.asarray(Y)\n",
    "\n",
    "# making placeholders for X_train and Y_train\n",
    "x = tf.placeholder(tf.float64, shape=(None, ONE_HOT_DIM))\n",
    "y_label = tf.placeholder(tf.float64, shape=(None, ONE_HOT_DIM))\n",
    "\n",
    "# word embedding will be 2 dimension for 2d visualization\n",
    "EMBEDDING_DIM = 30\n",
    "\n",
    "# hidden layer: which represents word vector eventually\n",
    "W1 = tf.Variable(tf.random_normal([ONE_HOT_DIM, EMBEDDING_DIM], dtype=tf.float64))\n",
    "b1 = tf.Variable(tf.random_normal([1], dtype=tf.float64)) #bias\n",
    "hidden_layer = tf.add(tf.matmul(x,W1), b1)\n",
    "\n",
    "# output layer\n",
    "W2 = tf.Variable(tf.random_normal([EMBEDDING_DIM, ONE_HOT_DIM], dtype=tf.float64))\n",
    "b2 = tf.Variable(tf.random_normal([1], dtype=tf.float64))\n",
    "prediction = tf.nn.softmax(tf.add( tf.matmul(hidden_layer, W2), b2))\n",
    "\n",
    "# loss function: cross entropy\n",
    "loss = tf.reduce_mean(-tf.reduce_sum(y_label * tf.log(prediction), axis=[1]))\n",
    "\n",
    "# training operation(learning rate)\n",
    "train_op = tf.train.GradientDescentOptimizer(0.05).minimize(loss)"
   ]
  },
  {
   "cell_type": "markdown",
   "metadata": {
    "colab_type": "text",
    "id": "_sUhj1mHiR_G"
   },
   "source": [
    "**Train**"
   ]
  },
  {
   "cell_type": "code",
   "execution_count": null,
   "metadata": {
    "colab": {},
    "colab_type": "code",
    "id": "QPC4y_0biUKj"
   },
   "outputs": [
    {
     "name": "stdout",
     "output_type": "stream",
     "text": [
      "iteration 0 loss is :  54.21601771041829\n",
      "iteration 500 loss is :  50.25113560681734\n",
      "iteration 1000 loss is :  47.5991801715869\n",
      "iteration 1500 loss is :  50.39990452881857\n",
      "iteration 2000 loss is :  45.1797829992866\n",
      "iteration 2500 loss is :  48.63992095850047\n",
      "iteration 3000 loss is :  43.850917560989004\n",
      "iteration 3500 loss is :  43.04399883863805\n",
      "iteration 4000 loss is :  39.89429320432169\n",
      "iteration 4500 loss is :  46.250051053461746\n",
      "iteration 5000 loss is :  46.99720408621832\n",
      "iteration 5500 loss is :  41.60189849537051\n",
      "iteration 6000 loss is :  42.52371601369347\n",
      "iteration 6500 loss is :  47.171466847079024\n",
      "iteration 7000 loss is :  39.70317069460953\n",
      "iteration 7500 loss is :  41.847787390803205\n",
      "iteration 8000 loss is :  39.56361454370654\n",
      "iteration 8500 loss is :  42.04721838700107\n",
      "iteration 9000 loss is :  39.86326901413908\n",
      "iteration 9500 loss is :  40.50456058638537\n",
      "iteration 10000 loss is :  38.70703260154412\n",
      "iteration 10500 loss is :  40.14423900625743\n",
      "iteration 11000 loss is :  36.97023541569918\n",
      "iteration 11500 loss is :  36.844686437284736\n",
      "iteration 12000 loss is :  40.34742752963035\n",
      "iteration 12500 loss is :  37.40441121897443\n",
      "iteration 13000 loss is :  39.3167296187637\n",
      "iteration 13500 loss is :  36.70017793173062\n",
      "iteration 14000 loss is :  37.152289718956375\n",
      "iteration 14500 loss is :  38.50753528154143\n",
      "iteration 15000 loss is :  40.248262397044186\n",
      "iteration 15500 loss is :  35.963119521866226\n",
      "iteration 16000 loss is :  35.55355953920684\n",
      "iteration 16500 loss is :  38.832646536718876\n",
      "iteration 17000 loss is :  36.49117431987772\n",
      "iteration 17500 loss is :  38.87903068476904\n",
      "iteration 18000 loss is :  35.30180973149167\n",
      "iteration 18500 loss is :  35.742285679977\n",
      "iteration 19000 loss is :  33.33253427587165\n",
      "iteration 19500 loss is :  35.25350653884721\n",
      "iteration 20000 loss is :  33.17213643913875\n"
     ]
    }
   ],
   "source": [
    "sess = tf.Session()\n",
    "init = tf.global_variables_initializer()\n",
    "sess.run(init) \n",
    "\n",
    "iteration = 20000\n",
    "for i in range(iteration + 1):\n",
    "    X, Y = data_generate(n_Train, n_Voc, n_Corpus, WINDOW_SIZE, word2int)\n",
    "    # input is X_train which is one hot encoded word\n",
    "    # label is Y_train which is one hot encoded neighbor word\n",
    "    sess.run(train_op, feed_dict={x: X, y_label: Y})\n",
    "    if i % 500 == 0:\n",
    "        print('iteration '+str(i)+' loss is : ', sess.run(loss, feed_dict={x: X, y_label: Y}))"
   ]
  },
  {
   "cell_type": "markdown",
   "metadata": {
    "colab_type": "text",
    "id": "lFz_OdtJiuqo"
   },
   "source": [
    "**Visualization**"
   ]
  },
  {
   "cell_type": "code",
   "execution_count": null,
   "metadata": {
    "colab": {},
    "colab_type": "code",
    "id": "r1j81pDCit4m"
   },
   "outputs": [
    {
     "data": {
      "text/plain": [
       "(4, 2)"
      ]
     },
     "execution_count": 17,
     "metadata": {},
     "output_type": "execute_result"
    }
   ],
   "source": [
    "import sklearn\n",
    "import matplotlib.pyplot as plt\n",
    "import matplotlib.cm as cm\n",
    "from sklearn.manifold import TSNE\n",
    "\n",
    "Z = np.array([[0, 0, 0], [0, 1, 1], [1, 0, 1], [1, 1, 1]])\n",
    "Z_embedded = TSNE(n_components=2).fit_transform(Z)\n",
    "Z_embedded.shape"
   ]
  },
  {
   "cell_type": "code",
   "execution_count": null,
   "metadata": {
    "colab": {},
    "colab_type": "code",
    "id": "bfzzBYgr-9El"
   },
   "outputs": [
    {
     "data": {
      "text/plain": [
       "array([[ 0.75619293,  0.33525324,  0.0348003 , ...,  0.47618875,\n",
       "         0.98967627,  1.16180683],\n",
       "       [ 0.59545896,  0.70116857,  0.62665606, ...,  0.82753347,\n",
       "         0.7110518 ,  0.56975194],\n",
       "       [-0.17370152,  0.10191408,  0.1365657 , ..., -0.01298324,\n",
       "         0.31447456,  0.34066535],\n",
       "       ...,\n",
       "       [ 1.15319937, -0.66849362,  1.23642174, ...,  1.06957088,\n",
       "         0.50167428, -0.65832059],\n",
       "       [-1.81648102,  0.27147566, -0.8182111 , ...,  0.71514785,\n",
       "         2.00929464,  1.3128715 ],\n",
       "       [ 1.25374882,  1.64253694,  0.36105873, ...,  0.20914464,\n",
       "         1.41389922,  0.52439915]])"
      ]
     },
     "execution_count": 18,
     "metadata": {},
     "output_type": "execute_result"
    }
   ],
   "source": [
    "vectors = sess.run(W1 + b1)\n",
    "vectors"
   ]
  },
  {
   "cell_type": "code",
   "execution_count": null,
   "metadata": {
    "colab": {},
    "colab_type": "code",
    "id": "ecEmg_b2Gsfz"
   },
   "outputs": [],
   "source": [
    "vector_embedded_2d = TSNE(perplexity=100).fit_transform(vectors)\n",
    "vector_embedded_2d.shape"
   ]
  },
  {
   "cell_type": "code",
   "execution_count": null,
   "metadata": {
    "colab": {},
    "colab_type": "code",
    "id": "K9-p5RdskEKx"
   },
   "outputs": [],
   "source": [
    "len(words)"
   ]
  },
  {
   "cell_type": "code",
   "execution_count": null,
   "metadata": {
    "colab": {},
    "colab_type": "code",
    "id": "qRqvW4jZGnkX"
   },
   "outputs": [],
   "source": [
    "def tsne_plot_2d(label, embeddings, words=[], a=1):\n",
    "    plt.figure(figsize=(16, 9))\n",
    "    colors = cm.rainbow(np.linspace(0, 1, 1))\n",
    "    x = embeddings[:,0]\n",
    "    y = embeddings[:,1]\n",
    "    plt.scatter(x, y, c=colors, alpha=a, label=label)\n",
    "    for i, word in enumerate(words):\n",
    "        plt.annotate(word, alpha=0.3, xy=(x[i], y[i]), xytext=(5, 2), \n",
    "                     textcoords='offset points', ha='right', va='bottom', size=10)\n",
    "    plt.legend(loc=4)\n",
    "    plt.grid(True)\n",
    "    plt.savefig(\"hhh.png\", format='png', dpi=150, bbox_inches='tight')\n",
    "    plt.show()\n",
    "\n",
    "tsne_plot_2d('Visualizing Embeddings using t-SNE', vector_embedded_2d, word_set, a=0.1)"
   ]
  },
  {
   "cell_type": "code",
   "execution_count": null,
   "metadata": {
    "colab": {},
    "colab_type": "code",
    "id": "b5kaSkIEBvui"
   },
   "outputs": [],
   "source": [
    "vector_embedded_3d = TSNE(n_components=3).fit_transform(vectors)\n",
    "vector_embedded_3d.shape"
   ]
  },
  {
   "cell_type": "code",
   "execution_count": null,
   "metadata": {
    "colab": {},
    "colab_type": "code",
    "id": "Gwol3tZxCXfl"
   },
   "outputs": [],
   "source": [
    "from mpl_toolkits.mplot3d import Axes3D"
   ]
  },
  {
   "cell_type": "code",
   "execution_count": null,
   "metadata": {
    "colab": {},
    "colab_type": "code",
    "id": "Fj4JgotYgIiV"
   },
   "outputs": [],
   "source": [
    "def tsne_plot_3d(title, label, embeddings, a=1):\n",
    "    fig = plt.figure()\n",
    "    ax = Axes3D(fig)\n",
    "    colors = cm.rainbow(np.linspace(0, 1, 1))\n",
    "    plt.scatter(embeddings[:, 0], embeddings[:, 1], embeddings[:, 2], c=colors, alpha=a, label=label)\n",
    "    plt.legend(loc=4)\n",
    "    plt.title(title)\n",
    "    plt.show()\n",
    "\n",
    "\n",
    "tsne_plot_3d('Visualizing Embeddings using t-SNE', 'tasa_1.txt', vector_embedded_3d, a=0.1)"
   ]
  },
  {
   "cell_type": "markdown",
   "metadata": {
    "colab_type": "text",
    "id": "AbStdR81hqG3"
   },
   "source": [
    "**Remove stop words**"
   ]
  },
  {
   "cell_type": "code",
   "execution_count": null,
   "metadata": {
    "colab": {},
    "colab_type": "code",
    "id": "Jkxl31icfHhR"
   },
   "outputs": [],
   "source": [
    "# import nltk\n",
    "# nltk.download('stopwords')"
   ]
  },
  {
   "cell_type": "code",
   "execution_count": null,
   "metadata": {
    "colab": {},
    "colab_type": "code",
    "id": "AWwiM2zmhxpE"
   },
   "outputs": [],
   "source": [
    "# stopwords = nltk.corpus.stopwords.words('english')\n",
    "# cleaned_words = []\n",
    "\n",
    "# for word in words:\n",
    "#     if word not in stopwords:\n",
    "#         cleaned_words.append(word)"
   ]
  }
 ],
 "metadata": {
  "accelerator": "TPU",
  "colab": {
   "collapsed_sections": [],
   "name": "Chinese_wiki.ipynb",
   "provenance": [],
   "version": "0.3.2"
  },
  "kernelspec": {
   "display_name": "Python 3",
   "language": "python",
   "name": "python3"
  },
  "language_info": {
   "codemirror_mode": {
    "name": "ipython",
    "version": 3
   },
   "file_extension": ".py",
   "mimetype": "text/x-python",
   "name": "python",
   "nbconvert_exporter": "python",
   "pygments_lexer": "ipython3",
   "version": "3.7.3"
  }
 },
 "nbformat": 4,
 "nbformat_minor": 1
}
