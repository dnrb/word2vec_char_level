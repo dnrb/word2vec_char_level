{
  "nbformat": 4,
  "nbformat_minor": 0,
  "metadata": {
    "colab": {
      "name": "first_file.ipynb",
      "version": "0.3.2",
      "provenance": [],
      "collapsed_sections": [],
      "include_colab_link": true
    },
    "kernelspec": {
      "name": "python3",
      "display_name": "Python 3"
    },
    "accelerator": "GPU"
  },
  "cells": [
    {
      "cell_type": "markdown",
      "metadata": {
        "id": "view-in-github",
        "colab_type": "text"
      },
      "source": [
        "<a href=\"https://colab.research.google.com/github/dnrb/word2vec_char_level/blob/master/first_file.ipynb\" target=\"_parent\"><img src=\"https://colab.research.google.com/assets/colab-badge.svg\" alt=\"Open In Colab\"/></a>"
      ]
    },
    {
      "metadata": {
        "id": "spvCehxOtyQo",
        "colab_type": "code",
        "outputId": "c38c9e83-6e8e-4ff8-b9ff-bc5cedf72a2e",
        "colab": {
          "base_uri": "https://localhost:8080/",
          "height": 251
        }
      },
      "cell_type": "code",
      "source": [
        "import tensorflow as tf\n",
        "import pandas as pd\n",
        "from google.colab import files\n",
        "from google.colab import drive\n",
        "drive.mount('/content/gdrive')"
      ],
      "execution_count": 6,
      "outputs": [
        {
          "output_type": "stream",
          "text": [
            "Go to this URL in a browser: https://accounts.google.com/o/oauth2/auth?client_id=947318989803-6bn6qk8qdgf4n4g3pfee6491hc0brc4i.apps.googleusercontent.com&redirect_uri=urn%3Aietf%3Awg%3Aoauth%3A2.0%3Aoob&scope=email%20https%3A%2F%2Fwww.googleapis.com%2Fauth%2Fdocs.test%20https%3A%2F%2Fwww.googleapis.com%2Fauth%2Fdrive%20https%3A%2F%2Fwww.googleapis.com%2Fauth%2Fdrive.photos.readonly%20https%3A%2F%2Fwww.googleapis.com%2Fauth%2Fpeopleapi.readonly&response_type=code\n",
            "\n",
            "Enter your authorization code:\n",
            "··········\n",
            "Mounted at /content/gdrive\n"
          ],
          "name": "stdout"
        }
      ]
    },
    {
      "metadata": {
        "id": "nUFiqaJ42L5-",
        "colab_type": "text"
      },
      "cell_type": "markdown",
      "source": [
        "**Verify the GPU status**"
      ]
    },
    {
      "metadata": {
        "id": "PUNYAkfOzVTo",
        "colab_type": "code",
        "outputId": "9c9a5e4f-db54-48c5-dd5d-54f7a7de1742",
        "colab": {
          "base_uri": "https://localhost:8080/",
          "height": 114
        }
      },
      "cell_type": "code",
      "source": [
        "tf.test.gpu_device_name()"
      ],
      "execution_count": 0,
      "outputs": [
        {
          "output_type": "execute_result",
          "data": {
            "text/plain": [
              "'/device:GPU:0'"
            ]
          },
          "metadata": {
            "tags": []
          },
          "execution_count": 57
        }
      ]
    },
    {
      "metadata": {
        "id": "5-MFqrBi2o_i",
        "colab_type": "text"
      },
      "cell_type": "markdown",
      "source": [
        "**Verify the CPU status**"
      ]
    },
    {
      "metadata": {
        "id": "FfdL7H3dzEJV",
        "colab_type": "code",
        "colab": {}
      },
      "cell_type": "code",
      "source": [
        "!cat /proc/cpuinfo"
      ],
      "execution_count": 0,
      "outputs": []
    },
    {
      "metadata": {
        "id": "vOXeE--I2Vil",
        "colab_type": "text"
      },
      "cell_type": "markdown",
      "source": [
        "**Verify the Memory status**"
      ]
    },
    {
      "metadata": {
        "id": "LWmPL_TRzD3P",
        "colab_type": "code",
        "colab": {}
      },
      "cell_type": "code",
      "source": [
        "!cat /proc/meminfo"
      ],
      "execution_count": 0,
      "outputs": []
    },
    {
      "metadata": {
        "id": "xznLKHko_vfw",
        "colab_type": "code",
        "outputId": "a5c23356-3ce8-4f0d-a64c-c78d4b489874",
        "colab": {
          "base_uri": "https://localhost:8080/",
          "height": 281
        }
      },
      "cell_type": "code",
      "source": [
        "url1 = \"https://raw.githubusercontent.com/dnrb/word2vec_char_level/master/tasa_1.txt?token=Am6SPuWAzO2mZg8HOZCzOaYh4sUoaRJwks5cVgdewA%3D%3D\"\n",
        "df1 = pd.read_fwf(url1)\n",
        "df1.head(5)"
      ],
      "execution_count": 0,
      "outputs": [
        {
          "output_type": "execute_result",
          "data": {
            "text/html": [
              "<div>\n",
              "<style scoped>\n",
              "    .dataframe tbody tr th:only-of-type {\n",
              "        vertical-align: middle;\n",
              "    }\n",
              "\n",
              "    .dataframe tbody tr th {\n",
              "        vertical-align: top;\n",
              "    }\n",
              "\n",
              "    .dataframe thead th {\n",
              "        text-align: right;\n",
              "    }\n",
              "</style>\n",
              "<table border=\"1\" class=\"dataframe\">\n",
              "  <thead>\n",
              "    <tr style=\"text-align: right;\">\n",
              "      <th></th>\n",
              "      <th>who were the first americans ?</th>\n",
              "    </tr>\n",
              "  </thead>\n",
              "  <tbody>\n",
              "    <tr>\n",
              "      <th>0</th>\n",
              "      <td>many , many years ago , perhaps 35,000 years a...</td>\n",
              "    </tr>\n",
              "    <tr>\n",
              "      <th>1</th>\n",
              "      <td>at that time , the earth was in the grip of th...</td>\n",
              "    </tr>\n",
              "    <tr>\n",
              "      <th>2</th>\n",
              "      <td>there were few people anywhere in the world , ...</td>\n",
              "    </tr>\n",
              "    <tr>\n",
              "      <th>3</th>\n",
              "      <td>people did live in asia , however .</td>\n",
              "    </tr>\n",
              "    <tr>\n",
              "      <th>4</th>\n",
              "      <td>and some of them wandered into north america .</td>\n",
              "    </tr>\n",
              "  </tbody>\n",
              "</table>\n",
              "</div>"
            ],
            "text/plain": [
              "                      who were the first americans ?\n",
              "0  many , many years ago , perhaps 35,000 years a...\n",
              "1  at that time , the earth was in the grip of th...\n",
              "2  there were few people anywhere in the world , ...\n",
              "3                people did live in asia , however .\n",
              "4     and some of them wandered into north america ."
            ]
          },
          "metadata": {
            "tags": []
          },
          "execution_count": 8
        }
      ]
    },
    {
      "metadata": {
        "id": "mfKnVPi3CaJA",
        "colab_type": "code",
        "outputId": "7ae48a90-7ae6-48e3-c6f7-bb924d5808a9",
        "colab": {
          "base_uri": "https://localhost:8080/",
          "height": 241
        }
      },
      "cell_type": "code",
      "source": [
        "url2 = \"https://raw.githubusercontent.com/dnrb/word2vec_char_level/master/tasa_2.txt?token=Am6SPmIcGRuth6iFjoTSlUt0QXEm2oCuks5cVgoswA%3D%3D\"\n",
        "df2 = pd.read_fwf(url2)\n",
        "df2.head(5)\n",
        "df2."
      ],
      "execution_count": 0,
      "outputs": [
        {
          "output_type": "execute_result",
          "data": {
            "text/html": [
              "<div>\n",
              "<style scoped>\n",
              "    .dataframe tbody tr th:only-of-type {\n",
              "        vertical-align: middle;\n",
              "    }\n",
              "\n",
              "    .dataframe tbody tr th {\n",
              "        vertical-align: top;\n",
              "    }\n",
              "\n",
              "    .dataframe thead th {\n",
              "        text-align: right;\n",
              "    }\n",
              "</style>\n",
              "<table border=\"1\" class=\"dataframe\">\n",
              "  <thead>\n",
              "    <tr style=\"text-align: right;\">\n",
              "      <th></th>\n",
              "      <th>he and kelly changed hiding places often , but the bike was one of the best .</th>\n",
              "      <th>Unnamed: 1</th>\n",
              "      <th>Unnamed: 2</th>\n",
              "    </tr>\n",
              "  </thead>\n",
              "  <tbody>\n",
              "    <tr>\n",
              "      <th>0</th>\n",
              "      <td>they took off the handle grip on the right side .</td>\n",
              "      <td>NaN</td>\n",
              "      <td>NaN</td>\n",
              "    </tr>\n",
              "    <tr>\n",
              "      <th>1</th>\n",
              "      <td>then they rolled up the message and shoved it ...</td>\n",
              "      <td>NaN</td>\n",
              "      <td>NaN</td>\n",
              "    </tr>\n",
              "    <tr>\n",
              "      <th>2</th>\n",
              "      <td>the trick was not to push the paper too far in .</td>\n",
              "      <td>NaN</td>\n",
              "      <td>NaN</td>\n",
              "    </tr>\n",
              "    <tr>\n",
              "      <th>3</th>\n",
              "      <td>they had lost a few messages before they disco...</td>\n",
              "      <td>NaN</td>\n",
              "      <td>NaN</td>\n",
              "    </tr>\n",
              "    <tr>\n",
              "      <th>4</th>\n",
              "      <td>when the grip was put back , nobody could tell...</td>\n",
              "      <td>NaN</td>\n",
              "      <td>NaN</td>\n",
              "    </tr>\n",
              "  </tbody>\n",
              "</table>\n",
              "</div>"
            ],
            "text/plain": [
              "  he and kelly changed hiding places often , but the bike was one of the best .  \\\n",
              "0  they took off the handle grip on the right side .                              \n",
              "1  then they rolled up the message and shoved it ...                              \n",
              "2   the trick was not to push the paper too far in .                              \n",
              "3  they had lost a few messages before they disco...                              \n",
              "4  when the grip was put back , nobody could tell...                              \n",
              "\n",
              "  Unnamed: 1 Unnamed: 2  \n",
              "0        NaN        NaN  \n",
              "1        NaN        NaN  \n",
              "2        NaN        NaN  \n",
              "3        NaN        NaN  \n",
              "4        NaN        NaN  "
            ]
          },
          "metadata": {
            "tags": []
          },
          "execution_count": 15
        }
      ]
    },
    {
      "metadata": {
        "id": "TmfqPN-NDBoG",
        "colab_type": "code",
        "outputId": "20efaef5-9b24-443f-cce3-1f3516cf3c3e",
        "colab": {
          "base_uri": "https://localhost:8080/",
          "height": 221
        }
      },
      "cell_type": "code",
      "source": [
        "url3 = \"https://raw.githubusercontent.com/dnrb/word2vec_char_level/master/tasa_3.txt?token=Am6SPrzjsXFpGdH86NVF1iwsDupypuMNks5cVgqOwA%3D%3D\"\n",
        "df3 = pd.read_fwf(url3)\n",
        "df3.head(5)"
      ],
      "execution_count": 0,
      "outputs": [
        {
          "output_type": "execute_result",
          "data": {
            "text/html": [
              "<div>\n",
              "<style scoped>\n",
              "    .dataframe tbody tr th:only-of-type {\n",
              "        vertical-align: middle;\n",
              "    }\n",
              "\n",
              "    .dataframe tbody tr th {\n",
              "        vertical-align: top;\n",
              "    }\n",
              "\n",
              "    .dataframe thead th {\n",
              "        text-align: right;\n",
              "    }\n",
              "</style>\n",
              "<table border=\"1\" class=\"dataframe\">\n",
              "  <thead>\n",
              "    <tr style=\"text-align: right;\">\n",
              "      <th></th>\n",
              "      <th>many things happened to the quimbys when mrs. quimby left for the hospital .</th>\n",
              "      <th>Unnamed: 1</th>\n",
              "      <th>Unnamed: 2</th>\n",
              "      <th>Unnamed: 3</th>\n",
              "    </tr>\n",
              "  </thead>\n",
              "  <tbody>\n",
              "    <tr>\n",
              "      <th>0</th>\n",
              "      <td>draw pictures of the events , starting with wh...</td>\n",
              "      <td>NaN</td>\n",
              "      <td>NaN</td>\n",
              "      <td>NaN</td>\n",
              "    </tr>\n",
              "    <tr>\n",
              "      <th>1</th>\n",
              "      <td>did you like `` ramona forever ? ''</td>\n",
              "      <td>NaN</td>\n",
              "      <td>NaN</td>\n",
              "      <td>NaN</td>\n",
              "    </tr>\n",
              "    <tr>\n",
              "      <th>2</th>\n",
              "      <td>tell what you liked or did n't like about the ...</td>\n",
              "      <td>NaN</td>\n",
              "      <td>NaN</td>\n",
              "      <td>NaN</td>\n",
              "    </tr>\n",
              "    <tr>\n",
              "      <th>3</th>\n",
              "      <td>be sure to tell why you feel as you do .</td>\n",
              "      <td>NaN</td>\n",
              "      <td>NaN</td>\n",
              "      <td>NaN</td>\n",
              "    </tr>\n",
              "    <tr>\n",
              "      <th>4</th>\n",
              "      <td>pretend you are on a tv news show to tell peop...</td>\n",
              "      <td>NaN</td>\n",
              "      <td>NaN</td>\n",
              "      <td>NaN</td>\n",
              "    </tr>\n",
              "  </tbody>\n",
              "</table>\n",
              "</div>"
            ],
            "text/plain": [
              "  many things happened to the quimbys when mrs. quimby left for the hospital .  \\\n",
              "0  draw pictures of the events , starting with wh...                             \n",
              "1                did you like `` ramona forever ? ''                             \n",
              "2  tell what you liked or did n't like about the ...                             \n",
              "3           be sure to tell why you feel as you do .                             \n",
              "4  pretend you are on a tv news show to tell peop...                             \n",
              "\n",
              "  Unnamed: 1 Unnamed: 2 Unnamed: 3  \n",
              "0        NaN        NaN        NaN  \n",
              "1        NaN        NaN        NaN  \n",
              "2        NaN        NaN        NaN  \n",
              "3        NaN        NaN        NaN  \n",
              "4        NaN        NaN        NaN  "
            ]
          },
          "metadata": {
            "tags": []
          },
          "execution_count": 8
        }
      ]
    },
    {
      "metadata": {
        "id": "h3y2QWzfDOw3",
        "colab_type": "code",
        "outputId": "d1906302-8ed9-493f-f6b7-bb0875abfee6",
        "colab": {
          "base_uri": "https://localhost:8080/",
          "height": 65
        }
      },
      "cell_type": "code",
      "source": [
        "!pwd"
      ],
      "execution_count": 0,
      "outputs": [
        {
          "output_type": "stream",
          "text": [
            "/content\n"
          ],
          "name": "stdout"
        }
      ]
    },
    {
      "metadata": {
        "id": "glPb2lGhoSgB",
        "colab_type": "code",
        "outputId": "3664499c-4c2a-499b-d354-c782fa77e16c",
        "colab": {
          "base_uri": "https://localhost:8080/",
          "height": 133
        }
      },
      "cell_type": "code",
      "source": [
        "!ls -la"
      ],
      "execution_count": 0,
      "outputs": [
        {
          "output_type": "stream",
          "text": [
            "total 16\n",
            "drwxr-xr-x 1 root root 4096 Jan 29 17:09 .\n",
            "drwxr-xr-x 1 root root 4096 Jan 31 20:03 ..\n",
            "drwxr-xr-x 1 root root 4096 Jan 28 17:05 .config\n",
            "drwxr-xr-x 1 root root 4096 Jan 29 17:09 sample_data\n"
          ],
          "name": "stdout"
        }
      ]
    },
    {
      "metadata": {
        "id": "u3frJpowoS4i",
        "colab_type": "code",
        "outputId": "08cdb9e0-b6e9-4611-c095-f9c0f4ad2464",
        "colab": {
          "base_uri": "https://localhost:8080/",
          "height": 167
        }
      },
      "cell_type": "code",
      "source": [
        "!ls -l gdrive/My\\ Drive"
      ],
      "execution_count": 7,
      "outputs": [
        {
          "output_type": "stream",
          "text": [
            "total 102471\n",
            "drwx------ 2 root root     4096 Jan 26 19:57 'Colab Notebooks'\n",
            "-rw------- 1 root root    22278 Jan 31 20:10  first_file.ipynb\n",
            "-rw------- 1 root root        0 Jan 30 16:48  tasa_1.txt\n",
            "-rw------- 1 root root 20999217 Jan 30 16:20  tasa_2.txt\n",
            "-rw------- 1 root root 21195910 Jan 30 16:21  tasa_3.txt\n",
            "-rw------- 1 root root 62707597 Jan 30 16:53  tasa.txt\n"
          ],
          "name": "stdout"
        }
      ]
    },
    {
      "metadata": {
        "id": "0Kj5dVSDnUah",
        "colab_type": "code",
        "outputId": "323b0019-7cc2-4778-e0bc-e56646390f45",
        "colab": {
          "base_uri": "https://localhost:8080/",
          "height": 34
        }
      },
      "cell_type": "code",
      "source": [
        "filename = '/content/gdrive/My Drive/tasa.txt'\n",
        "filehandle = open(filename)\n",
        "lines = filehandle.readlines()\n",
        "\n",
        "len(lines)"
      ],
      "execution_count": 8,
      "outputs": [
        {
          "output_type": "execute_result",
          "data": {
            "text/plain": [
              "752137"
            ]
          },
          "metadata": {
            "tags": []
          },
          "execution_count": 8
        }
      ]
    },
    {
      "metadata": {
        "id": "d28tKFkPsSJc",
        "colab_type": "code",
        "colab": {}
      },
      "cell_type": "code",
      "source": [
        ""
      ],
      "execution_count": 0,
      "outputs": []
    },
    {
      "metadata": {
        "id": "RUbtFDSTsc9L",
        "colab_type": "code",
        "colab": {}
      },
      "cell_type": "code",
      "source": [
        ""
      ],
      "execution_count": 0,
      "outputs": []
    }
  ]
}